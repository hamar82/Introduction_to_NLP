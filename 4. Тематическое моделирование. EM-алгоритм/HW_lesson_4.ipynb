{
 "cells": [
  {
   "cell_type": "markdown",
   "id": "8c81fa7f",
   "metadata": {
    "id": "8c81fa7f"
   },
   "source": [
    "Урок 4. Тематическое моделирование. EM-алгоритм\n",
    "Задача тематическое моделирование\n",
    "\n",
    "продолжаем исследование датасета с твитами\n",
    "\n",
    "Скачиваем датасет (источник): положительные, отрицательные.\n",
    "\n",
    "рабочие ссылки с твитами\n",
    "https://disk.yandex.ru/i/v5HM-ENiGXZVpQ\n",
    "https://disk.yandex.ru/i/koR5eMCToCZS2Q\n",
    "\n",
    "как альтернатива можно скачать данные из Роспотребнадзора\n",
    "https://zpp.rospotrebnadzor.ru/Forum/Appeals\n",
    "для этого берём ноутбук parse_rospotrebnadzor.ipynb\n",
    "устанавливаем количество скачанных страниц больше не 50-сят хотябы 500 и для анализа берём только вопросы так как ответы есть не всегда\n",
    "\n",
    "что надо сделать\n",
    "1. объединить в одну выборку (это только для твитов), для роспотребнадзора сформировать датасет из вопросов\n",
    "2. провести исследование и выявить тематики о которых говорят в твитах (для твитов), а для роспотребнадзора так же выявить тематики о которых люди пишут проанализировать\n",
    "3. сделать визуализацию кластеров тематик\n",
    "4. проинтерпритировать получившиеся тематики"
   ]
  },
  {
   "cell_type": "code",
   "execution_count": 1,
   "id": "fWuhFOpmZc6s",
   "metadata": {
    "colab": {
     "base_uri": "https://localhost:8080/"
    },
    "executionInfo": {
     "elapsed": 13008,
     "status": "ok",
     "timestamp": 1674327918407,
     "user": {
      "displayName": "Maxim Gasilin",
      "userId": "15501735730920561422"
     },
     "user_tz": -180
    },
    "id": "fWuhFOpmZc6s",
    "outputId": "80449be5-18ed-40eb-d8ea-3fd519d0dbef"
   },
   "outputs": [
    {
     "name": "stdout",
     "output_type": "stream",
     "text": [
      "Defaulting to user installation because normal site-packages is not writeable\n",
      "Requirement already satisfied: pymorphy2 in c:\\users\\marat\\appdata\\roaming\\python\\python39\\site-packages (0.9.1)\n",
      "Requirement already satisfied: docopt>=0.6 in c:\\users\\marat\\appdata\\roaming\\python\\python39\\site-packages (from pymorphy2) (0.6.2)\n",
      "Requirement already satisfied: dawg-python>=0.7.1 in c:\\users\\marat\\appdata\\roaming\\python\\python39\\site-packages (from pymorphy2) (0.7.2)\n",
      "Requirement already satisfied: pymorphy2-dicts-ru<3.0,>=2.4 in c:\\users\\marat\\appdata\\roaming\\python\\python39\\site-packages (from pymorphy2) (2.4.417127.4579844)\n"
     ]
    }
   ],
   "source": [
    "!pip install pymorphy2"
   ]
  },
  {
   "cell_type": "code",
   "execution_count": 2,
   "id": "sL1ej1PIcBwG",
   "metadata": {
    "colab": {
     "base_uri": "https://localhost:8080/"
    },
    "executionInfo": {
     "elapsed": 9910,
     "status": "ok",
     "timestamp": 1674327933278,
     "user": {
      "displayName": "Maxim Gasilin",
      "userId": "15501735730920561422"
     },
     "user_tz": -180
    },
    "id": "sL1ej1PIcBwG",
    "outputId": "cedbb919-3989-4c70-9c2f-2efe46305f7a"
   },
   "outputs": [
    {
     "name": "stdout",
     "output_type": "stream",
     "text": [
      "Defaulting to user installation because normal site-packages is not writeable\n",
      "Collecting stop_words\n",
      "  Downloading stop-words-2018.7.23.tar.gz (31 kB)\n",
      "  Preparing metadata (setup.py): started\n",
      "  Preparing metadata (setup.py): finished with status 'done'\n",
      "Building wheels for collected packages: stop_words\n",
      "  Building wheel for stop_words (setup.py): started\n",
      "  Building wheel for stop_words (setup.py): finished with status 'done'\n",
      "  Created wheel for stop_words: filename=stop_words-2018.7.23-py3-none-any.whl size=32893 sha256=5a6f443a98bf458e03165a1d002210aefd4600731ad80ba162f6aade5d24f2a1\n",
      "  Stored in directory: c:\\users\\marat\\appdata\\local\\pip\\cache\\wheels\\da\\d8\\66\\395317506a23a9d1d7de433ad6a7d9e6e16aab48cf028a0f60\n",
      "Successfully built stop_words\n",
      "Installing collected packages: stop_words\n",
      "Successfully installed stop_words-2018.7.23\n"
     ]
    }
   ],
   "source": [
    "!pip install stop_words"
   ]
  },
  {
   "cell_type": "code",
   "execution_count": 3,
   "id": "aDeCHaKDXxYs",
   "metadata": {
    "executionInfo": {
     "elapsed": 2549,
     "status": "ok",
     "timestamp": 1674327935822,
     "user": {
      "displayName": "Maxim Gasilin",
      "userId": "15501735730920561422"
     },
     "user_tz": -180
    },
    "id": "aDeCHaKDXxYs"
   },
   "outputs": [],
   "source": [
    "import pandas as pd\n",
    "import numpy as np\n",
    "\n",
    "import re\n",
    "\n",
    "from pymorphy2 import MorphAnalyzer\n",
    "from stop_words import get_stop_words\n",
    "\n",
    "from gensim import corpora\n",
    "from gensim.models import *"
   ]
  },
  {
   "cell_type": "code",
   "execution_count": 4,
   "id": "S5pj6VHQWVhr",
   "metadata": {
    "executionInfo": {
     "elapsed": 5,
     "status": "ok",
     "timestamp": 1674327935823,
     "user": {
      "displayName": "Maxim Gasilin",
      "userId": "15501735730920561422"
     },
     "user_tz": -180
    },
    "id": "S5pj6VHQWVhr"
   },
   "outputs": [],
   "source": [
    "morpher = MorphAnalyzer()"
   ]
  },
  {
   "cell_type": "code",
   "execution_count": 5,
   "id": "pu8PoUYxB4y0",
   "metadata": {
    "executionInfo": {
     "elapsed": 1,
     "status": "ok",
     "timestamp": 1674327936299,
     "user": {
      "displayName": "Maxim Gasilin",
      "userId": "15501735730920561422"
     },
     "user_tz": -180
    },
    "id": "pu8PoUYxB4y0"
   },
   "outputs": [],
   "source": [
    "stopwords_list = set(get_stop_words(\"ru\"))"
   ]
  },
  {
   "cell_type": "code",
   "execution_count": 6,
   "id": "e1cb572f",
   "metadata": {
    "executionInfo": {
     "elapsed": 1370,
     "status": "ok",
     "timestamp": 1674328096813,
     "user": {
      "displayName": "Maxim Gasilin",
      "userId": "15501735730920561422"
     },
     "user_tz": -180
    },
    "id": "e1cb572f"
   },
   "outputs": [],
   "source": [
    "positive = pd.read_csv('positive.csv', sep = ';', usecols = [3], names = ['text'])\n",
    "positive['label'] = ['positive'] * len(positive)\n",
    "\n",
    "negative = pd.read_csv('negative.csv', sep = ';', usecols = [3], names = ['text'])\n",
    "negative['label'] = ['negative'] * len(negative)"
   ]
  },
  {
   "cell_type": "code",
   "execution_count": 7,
   "id": "5cec6339",
   "metadata": {
    "colab": {
     "base_uri": "https://localhost:8080/",
     "height": 206
    },
    "executionInfo": {
     "elapsed": 10,
     "status": "ok",
     "timestamp": 1674328097915,
     "user": {
      "displayName": "Maxim Gasilin",
      "userId": "15501735730920561422"
     },
     "user_tz": -180
    },
    "id": "5cec6339",
    "outputId": "b3ce58b8-8990-4019-bc24-a87c0f174a66"
   },
   "outputs": [
    {
     "data": {
      "text/html": [
       "<div>\n",
       "<style scoped>\n",
       "    .dataframe tbody tr th:only-of-type {\n",
       "        vertical-align: middle;\n",
       "    }\n",
       "\n",
       "    .dataframe tbody tr th {\n",
       "        vertical-align: top;\n",
       "    }\n",
       "\n",
       "    .dataframe thead th {\n",
       "        text-align: right;\n",
       "    }\n",
       "</style>\n",
       "<table border=\"1\" class=\"dataframe\">\n",
       "  <thead>\n",
       "    <tr style=\"text-align: right;\">\n",
       "      <th></th>\n",
       "      <th>text</th>\n",
       "      <th>label</th>\n",
       "    </tr>\n",
       "  </thead>\n",
       "  <tbody>\n",
       "    <tr>\n",
       "      <th>0</th>\n",
       "      <td>@first_timee хоть я и школота, но поверь, у на...</td>\n",
       "      <td>positive</td>\n",
       "    </tr>\n",
       "    <tr>\n",
       "      <th>1</th>\n",
       "      <td>Да, все-таки он немного похож на него. Но мой ...</td>\n",
       "      <td>positive</td>\n",
       "    </tr>\n",
       "    <tr>\n",
       "      <th>2</th>\n",
       "      <td>RT @KatiaCheh: Ну ты идиотка) я испугалась за ...</td>\n",
       "      <td>positive</td>\n",
       "    </tr>\n",
       "    <tr>\n",
       "      <th>3</th>\n",
       "      <td>RT @digger2912: \"Кто то в углу сидит и погибае...</td>\n",
       "      <td>positive</td>\n",
       "    </tr>\n",
       "    <tr>\n",
       "      <th>4</th>\n",
       "      <td>@irina_dyshkant Вот что значит страшилка :D\\nН...</td>\n",
       "      <td>positive</td>\n",
       "    </tr>\n",
       "  </tbody>\n",
       "</table>\n",
       "</div>"
      ],
      "text/plain": [
       "                                                text     label\n",
       "0  @first_timee хоть я и школота, но поверь, у на...  positive\n",
       "1  Да, все-таки он немного похож на него. Но мой ...  positive\n",
       "2  RT @KatiaCheh: Ну ты идиотка) я испугалась за ...  positive\n",
       "3  RT @digger2912: \"Кто то в углу сидит и погибае...  positive\n",
       "4  @irina_dyshkant Вот что значит страшилка :D\\nН...  positive"
      ]
     },
     "execution_count": 7,
     "metadata": {},
     "output_type": "execute_result"
    }
   ],
   "source": [
    "df = pd.concat([positive, negative], ignore_index = True)\n",
    "df.head()"
   ]
  },
  {
   "cell_type": "code",
   "execution_count": 8,
   "id": "201f7ca3",
   "metadata": {
    "colab": {
     "base_uri": "https://localhost:8080/"
    },
    "executionInfo": {
     "elapsed": 5,
     "status": "ok",
     "timestamp": 1674328099813,
     "user": {
      "displayName": "Maxim Gasilin",
      "userId": "15501735730920561422"
     },
     "user_tz": -180
    },
    "id": "201f7ca3",
    "outputId": "75f068b2-2dec-45fd-9771-8fb34d6d58e8"
   },
   "outputs": [
    {
     "name": "stdout",
     "output_type": "stream",
     "text": [
      "<class 'pandas.core.frame.DataFrame'>\n",
      "RangeIndex: 226834 entries, 0 to 226833\n",
      "Data columns (total 2 columns):\n",
      " #   Column  Non-Null Count   Dtype \n",
      "---  ------  --------------   ----- \n",
      " 0   text    226834 non-null  object\n",
      " 1   label   226834 non-null  object\n",
      "dtypes: object(2)\n",
      "memory usage: 3.5+ MB\n"
     ]
    }
   ],
   "source": [
    "df.info()"
   ]
  },
  {
   "cell_type": "code",
   "execution_count": 9,
   "id": "CvF9V6n2VKmM",
   "metadata": {
    "executionInfo": {
     "elapsed": 4,
     "status": "ok",
     "timestamp": 1674328101909,
     "user": {
      "displayName": "Maxim Gasilin",
      "userId": "15501735730920561422"
     },
     "user_tz": -180
    },
    "id": "CvF9V6n2VKmM"
   },
   "outputs": [],
   "source": [
    "words_regex = re.compile(r'\\w+')\n",
    "\n",
    "# Формирование токенов длиной более 3 букв\n",
    "def find_words(text, regex = words_regex):\n",
    "    tokens = regex.findall(text) \n",
    "    return [w for w in tokens if w.isalpha() and len(w)>= 4] \n"
   ]
  },
  {
   "cell_type": "code",
   "execution_count": 10,
   "id": "8c3d54a9",
   "metadata": {
    "executionInfo": {
     "elapsed": 3,
     "status": "ok",
     "timestamp": 1674328102519,
     "user": {
      "displayName": "Maxim Gasilin",
      "userId": "15501735730920561422"
     },
     "user_tz": -180
    },
    "id": "8c3d54a9"
   },
   "outputs": [],
   "source": [
    "# Удаляем стоп слова и другие символы, не являющимися буквами\n",
    "def lemmatize(words, lemmer = morpher, stopwords = stopwords_list):\n",
    "    lemmas = [lemmer.parse(w)[0].normal_form for w in words] \n",
    "    return [w for w in lemmas if not w in stopwords and w.isalpha()] \n",
    "\n",
    "#Чистим от нецензурных слов и слов, не несущих особой смысловой нагрузки\n",
    "def clear_tokens(tokens):\n",
    "    string_tokens = ' '.join(tokens)\n",
    "    string_tokens = re.sub(r'[A-za-z]', ' ',  string_tokens) \n",
    "    string_tokens = re.sub(r'\\w+ще\\b', ' ',  string_tokens) \n",
    "    string_tokens = re.sub(r'\\bбл\\w+', ' ',  string_tokens) \n",
    "    string_tokens = re.sub(r'значит', ' ',  string_tokens) \n",
    "    string_tokens = re.sub(r'почему', ' ',  string_tokens) \n",
    "    string_tokens = re.sub(r'свой', ' ',  string_tokens) \n",
    "    string_tokens = re.sub(r'капец', ' ',  string_tokens) \n",
    "    string_tokens = re.sub(r'который', ' ',  string_tokens)\n",
    "    string_tokens = re.sub(r'это', ' ',  string_tokens)\n",
    "    string_tokens = re.sub(r'весь', ' ',  string_tokens)\n",
    "    string_tokens = re.sub(r'\\bидио\\w+', ' ',  string_tokens) \n",
    "    string_tokens = re.sub(r'\\bпид\\w+', ' ',  string_tokens)\n",
    "    string_tokens = re.sub(r'\\bхуй\\w+', ' ', string_tokens)\n",
    "    string_tokens = re.sub(r'\\w+xу.\\b', ' ',  string_tokens)\n",
    "    string_tokens = re.sub(r'\\w+xу\\w+', ' ',  string_tokens)\n",
    "    string_tokens = re.sub(r'\\w+но\\b', ' ',  string_tokens)\n",
    "    string_tokens = re.sub(r'\\bпоп\\w+', ' ',  string_tokens)\n",
    "    string_tokens = re.sub(r'\\bпиз\\w+', ' ',  string_tokens)\n",
    "    string_tokens = re.sub(r'\\bгов\\w+', ' ',  string_tokens)\n",
    "    string_tokens = re.sub(r'\\bфиг\\w+', ' ',  string_tokens)\n",
    "    string_tokens = re.sub(r'сука', ' ',  string_tokens)\n",
    "    string_tokens = re.sub(r'очень', ' ',  string_tokens)\n",
    "    string_tokens = re.sub(r'лох', ' ',  string_tokens)\n",
    "    string_tokens = re.sub(r'\\bпи.де\\w+', ' ',  string_tokens)\n",
    "    string_tokens = re.sub(r'нету', ' ',  string_tokens)\n",
    "    string_tokens = re.sub(r'ой', ' ',  string_tokens)\n",
    "    string_tokens = re.sub(r'\\bхот\\w+', ' ',  string_tokens)\n",
    "    string_tokens = re.sub(r'\\bпрост\\w+', ' ',  string_tokens)\n",
    "    string_tokens = re.sub(r'\\bника\\w+', ' ',  string_tokens)\n",
    "    string_tokens = re.sub(r'\\w+ть\\b', ' ',  string_tokens)\n",
    "    string_tokens = re.sub(r'мочь', ' ',  string_tokens)\n",
    "    clear_tokens = string_tokens.split()\n",
    "    clear_tokens = [w for w in clear_tokens if len(w)>2]\n",
    "    return clear_tokens\n",
    "\n",
    "def preprocess(text):\n",
    "    return (clear_tokens(lemmatize(find_words(text))))"
   ]
  },
  {
   "cell_type": "code",
   "execution_count": 11,
   "id": "ab126c85",
   "metadata": {
    "colab": {
     "base_uri": "https://localhost:8080/",
     "height": 206
    },
    "executionInfo": {
     "elapsed": 305147,
     "status": "ok",
     "timestamp": 1674328415970,
     "user": {
      "displayName": "Maxim Gasilin",
      "userId": "15501735730920561422"
     },
     "user_tz": -180
    },
    "id": "ab126c85",
    "outputId": "7f6f7fde-a8d6-49f7-ddbf-c9d6789ec913"
   },
   "outputs": [
    {
     "data": {
      "text/html": [
       "<div>\n",
       "<style scoped>\n",
       "    .dataframe tbody tr th:only-of-type {\n",
       "        vertical-align: middle;\n",
       "    }\n",
       "\n",
       "    .dataframe tbody tr th {\n",
       "        vertical-align: top;\n",
       "    }\n",
       "\n",
       "    .dataframe thead th {\n",
       "        text-align: right;\n",
       "    }\n",
       "</style>\n",
       "<table border=\"1\" class=\"dataframe\">\n",
       "  <thead>\n",
       "    <tr style=\"text-align: right;\">\n",
       "      <th></th>\n",
       "      <th>text</th>\n",
       "      <th>label</th>\n",
       "    </tr>\n",
       "  </thead>\n",
       "  <tbody>\n",
       "    <tr>\n",
       "      <th>0</th>\n",
       "      <td>[школотый, поверь, самый, общество, предмет, тип]</td>\n",
       "      <td>positive</td>\n",
       "    </tr>\n",
       "    <tr>\n",
       "      <th>1</th>\n",
       "      <td>[таки, похожий, мальчик, хороший]</td>\n",
       "      <td>positive</td>\n",
       "    </tr>\n",
       "    <tr>\n",
       "      <th>2</th>\n",
       "      <td>[испугаться]</td>\n",
       "      <td>positive</td>\n",
       "    </tr>\n",
       "    <tr>\n",
       "      <th>3</th>\n",
       "      <td>[угол, голод, порция]</td>\n",
       "      <td>positive</td>\n",
       "    </tr>\n",
       "    <tr>\n",
       "      <th>4</th>\n",
       "      <td>[страшилка, создаться, ощущение, автор]</td>\n",
       "      <td>positive</td>\n",
       "    </tr>\n",
       "  </tbody>\n",
       "</table>\n",
       "</div>"
      ],
      "text/plain": [
       "                                                text     label\n",
       "0  [школотый, поверь, самый, общество, предмет, тип]  positive\n",
       "1                  [таки, похожий, мальчик, хороший]  positive\n",
       "2                                       [испугаться]  positive\n",
       "3                              [угол, голод, порция]  positive\n",
       "4            [страшилка, создаться, ощущение, автор]  positive"
      ]
     },
     "execution_count": 11,
     "metadata": {},
     "output_type": "execute_result"
    }
   ],
   "source": [
    "df['text'] = df['text'].apply(preprocess)\n",
    "df.head()"
   ]
  },
  {
   "cell_type": "code",
   "execution_count": 12,
   "id": "eec49eb1",
   "metadata": {
    "executionInfo": {
     "elapsed": 1911,
     "status": "ok",
     "timestamp": 1674328421944,
     "user": {
      "displayName": "Maxim Gasilin",
      "userId": "15501735730920561422"
     },
     "user_tz": -180
    },
    "id": "eec49eb1"
   },
   "outputs": [],
   "source": [
    "# Словарь уникальных токенов\n",
    "dictionary = corpora.Dictionary(df['text'])"
   ]
  },
  {
   "cell_type": "code",
   "execution_count": 13,
   "id": "b96f9b56",
   "metadata": {
    "colab": {
     "base_uri": "https://localhost:8080/"
    },
    "executionInfo": {
     "elapsed": 8,
     "status": "ok",
     "timestamp": 1674328421945,
     "user": {
      "displayName": "Maxim Gasilin",
      "userId": "15501735730920561422"
     },
     "user_tz": -180
    },
    "id": "b96f9b56",
    "outputId": "1d9ae2ed-8dbc-4016-87b5-3e8a0e5168e7"
   },
   "outputs": [
    {
     "data": {
      "text/plain": [
       "8100"
      ]
     },
     "execution_count": 13,
     "metadata": {},
     "output_type": "execute_result"
    }
   ],
   "source": [
    "# Выкидывание редких слов\n",
    "dictionary.filter_extremes(no_below = 10, no_above = 0.9, keep_n=None)\n",
    "dictionary.save('tweet.dict')\n",
    "len(dictionary.keys())"
   ]
  },
  {
   "cell_type": "code",
   "execution_count": 14,
   "id": "19a37a4d",
   "metadata": {
    "executionInfo": {
     "elapsed": 2992,
     "status": "ok",
     "timestamp": 1674328425308,
     "user": {
      "displayName": "Maxim Gasilin",
      "userId": "15501735730920561422"
     },
     "user_tz": -180
    },
    "id": "19a37a4d"
   },
   "outputs": [],
   "source": [
    "# Векторизация твитов\n",
    "corpus = [dictionary.doc2bow(text) for text in df['text']]\n",
    "corpora.MmCorpus.serialize('tweet.model', corpus)"
   ]
  },
  {
   "cell_type": "code",
   "execution_count": 15,
   "id": "4bd411d5",
   "metadata": {
    "colab": {
     "base_uri": "https://localhost:8080/"
    },
    "executionInfo": {
     "elapsed": 9,
     "status": "ok",
     "timestamp": 1674328425309,
     "user": {
      "displayName": "Maxim Gasilin",
      "userId": "15501735730920561422"
     },
     "user_tz": -180
    },
    "id": "4bd411d5",
    "outputId": "d383c00f-7104-4488-eac1-0d2956234ac9"
   },
   "outputs": [
    {
     "name": "stdout",
     "output_type": "stream",
     "text": [
      "['школотый', 'поверь', 'самый', 'общество', 'предмет', 'тип']\n",
      "[(0, 1.0), (1, 1.0), (2, 1.0), (3, 1.0), (4, 1.0), (5, 1.0)]\n"
     ]
    }
   ],
   "source": [
    "# Обработка словаря\n",
    "mm = corpora.MmCorpus('tweet.model')\n",
    "print(df['text'].values[0])\n",
    "print(mm[0])"
   ]
  },
  {
   "cell_type": "code",
   "execution_count": 16,
   "id": "fe27000f",
   "metadata": {
    "executionInfo": {
     "elapsed": 38276,
     "status": "ok",
     "timestamp": 1674328466055,
     "user": {
      "displayName": "Maxim Gasilin",
      "userId": "15501735730920561422"
     },
     "user_tz": -180
    },
    "id": "fe27000f"
   },
   "outputs": [],
   "source": [
    "# Обучение модели\n",
    "lda = ldamodel.LdaModel(corpus, id2word=dictionary, num_topics=3)"
   ]
  },
  {
   "cell_type": "code",
   "execution_count": 17,
   "id": "dc84bfad",
   "metadata": {
    "colab": {
     "base_uri": "https://localhost:8080/"
    },
    "executionInfo": {
     "elapsed": 362,
     "status": "ok",
     "timestamp": 1674328476772,
     "user": {
      "displayName": "Maxim Gasilin",
      "userId": "15501735730920561422"
     },
     "user_tz": -180
    },
    "id": "dc84bfad",
    "outputId": "fe42b8d3-29bb-47f7-a236-f521b0dc8e5d"
   },
   "outputs": [
    {
     "data": {
      "text/plain": [
       "[(0,\n",
       "  '0.017*\"больш\" + 0.013*\"настроение\" + 0.011*\"любимый\" + 0.011*\"голова\" + 0.010*\"найти\" + 0.009*\"самый\" + 0.009*\"вчера\" + 0.008*\"жалко\" + 0.008*\"нравиться\" + 0.008*\"хороший\" + 0.008*\"бояться\" + 0.007*\"вроде\" + 0.007*\"рука\" + 0.007*\"твиттер\" + 0.007*\"слово\" + 0.007*\"вечер\" + 0.007*\"фотка\" + 0.006*\"проснуться\" + 0.006*\"глаз\" + 0.006*\"месяц\"'),\n",
       " (1,\n",
       "  '0.017*\"никто\" + 0.016*\"мама\" + 0.011*\"новый\" + 0.010*\"дело\" + 0.010*\"фильм\" + 0.008*\"правда\" + 0.008*\"маленький\" + 0.008*\"нужный\" + 0.007*\"работа\" + 0.007*\"деньга\" + 0.007*\"уйти\" + 0.007*\"твит\" + 0.007*\"выйти\" + 0.006*\"ужас\" + 0.006*\"папа\" + 0.006*\"ребёнок\" + 0.006*\"прям\" + 0.005*\"город\" + 0.005*\"интернет\" + 0.005*\"пытаться\"'),\n",
       " (2,\n",
       "  '0.030*\"завтра\" + 0.023*\"дом\" + 0.020*\"школа\" + 0.013*\"идти\" + 0.012*\"утро\" + 0.012*\"хороший\" + 0.011*\"друг\" + 0.011*\"час\" + 0.011*\"последний\" + 0.010*\"урок\" + 0.009*\"ночь\" + 0.009*\"неделя\" + 0.009*\"прийти\" + 0.008*\"скоро\" + 0.008*\"остаться\" + 0.008*\"экзамен\" + 0.008*\"каникулы\" + 0.007*\"прийтись\" + 0.006*\"жаль\" + 0.006*\"снег\"')]"
      ]
     },
     "execution_count": 17,
     "metadata": {},
     "output_type": "execute_result"
    }
   ],
   "source": [
    "# Определяем тематики\n",
    "lda.show_topics(num_topics=3, num_words=20, formatted=True)"
   ]
  },
  {
   "cell_type": "code",
   "execution_count": 18,
   "id": "e27bd4d4",
   "metadata": {
    "colab": {
     "base_uri": "https://localhost:8080/"
    },
    "executionInfo": {
     "elapsed": 50431,
     "status": "ok",
     "timestamp": 1674328528955,
     "user": {
      "displayName": "Maxim Gasilin",
      "userId": "15501735730920561422"
     },
     "user_tz": -180
    },
    "id": "e27bd4d4",
    "outputId": "14355d44-d59c-4f9f-9e8b-cc19b0b3c6ff"
   },
   "outputs": [
    {
     "name": "stdout",
     "output_type": "stream",
     "text": [
      "-8.129985341830489\n"
     ]
    }
   ],
   "source": [
    "# Оценка качества модели\n",
    "print(lda.log_perplexity(corpus))"
   ]
  },
  {
   "cell_type": "code",
   "execution_count": 19,
   "id": "39467ddc",
   "metadata": {
    "colab": {
     "base_uri": "https://localhost:8080/"
    },
    "executionInfo": {
     "elapsed": 49786,
     "status": "ok",
     "timestamp": 1674328578725,
     "user": {
      "displayName": "Maxim Gasilin",
      "userId": "15501735730920561422"
     },
     "user_tz": -180
    },
    "id": "39467ddc",
    "outputId": "8c45506f-c981-49aa-f8b6-5167026f8371"
   },
   "outputs": [
    {
     "name": "stdout",
     "output_type": "stream",
     "text": [
      "Персплексия:  0.00029457240081898727\n"
     ]
    }
   ],
   "source": [
    "print('Персплексия: ', np.exp(lda.log_perplexity(corpus)))"
   ]
  },
  {
   "cell_type": "markdown",
   "id": "L2Z7-ueBH_nE",
   "metadata": {
    "id": "L2Z7-ueBH_nE"
   },
   "source": [
    "# Визуализация"
   ]
  },
  {
   "cell_type": "code",
   "execution_count": 20,
   "id": "WnSB3M9LHrFc",
   "metadata": {
    "colab": {
     "base_uri": "https://localhost:8080/"
    },
    "executionInfo": {
     "elapsed": 24900,
     "status": "ok",
     "timestamp": 1674328607952,
     "user": {
      "displayName": "Maxim Gasilin",
      "userId": "15501735730920561422"
     },
     "user_tz": -180
    },
    "id": "WnSB3M9LHrFc",
    "outputId": "918b17ca-ba69-429d-c58a-6821e5d3b46b"
   },
   "outputs": [
    {
     "name": "stdout",
     "output_type": "stream",
     "text": [
      "Defaulting to user installation because normal site-packages is not writeable\n",
      "Collecting pyLDAvis\n",
      "  Downloading pyLDAvis-3.4.0-py3-none-any.whl (2.6 MB)\n",
      "     ---------------------------------------- 2.6/2.6 MB 4.6 MB/s eta 0:00:00\n",
      "Requirement already satisfied: pandas>=1.3.4 in c:\\programdata\\anaconda3\\lib\\site-packages (from pyLDAvis) (1.4.4)\n",
      "Requirement already satisfied: scikit-learn>=1.0.0 in c:\\programdata\\anaconda3\\lib\\site-packages (from pyLDAvis) (1.0.2)\n",
      "Requirement already satisfied: gensim in c:\\programdata\\anaconda3\\lib\\site-packages (from pyLDAvis) (4.1.2)\n",
      "Requirement already satisfied: setuptools in c:\\programdata\\anaconda3\\lib\\site-packages (from pyLDAvis) (63.4.1)\n",
      "Requirement already satisfied: jinja2 in c:\\programdata\\anaconda3\\lib\\site-packages (from pyLDAvis) (2.11.3)\n",
      "Collecting joblib>=1.2.0\n",
      "  Downloading joblib-1.2.0-py3-none-any.whl (297 kB)\n",
      "     -------------------------------------- 298.0/298.0 kB 4.6 MB/s eta 0:00:00\n",
      "Collecting numpy>=1.22.0\n",
      "  Downloading numpy-1.24.2-cp39-cp39-win_amd64.whl (14.9 MB)\n",
      "     ---------------------------------------- 14.9/14.9 MB 2.6 MB/s eta 0:00:00\n",
      "Requirement already satisfied: scipy in c:\\programdata\\anaconda3\\lib\\site-packages (from pyLDAvis) (1.9.1)\n",
      "Collecting funcy\n",
      "  Downloading funcy-2.0-py2.py3-none-any.whl (30 kB)\n",
      "Requirement already satisfied: numexpr in c:\\programdata\\anaconda3\\lib\\site-packages (from pyLDAvis) (2.8.3)\n",
      "Requirement already satisfied: pytz>=2020.1 in c:\\programdata\\anaconda3\\lib\\site-packages (from pandas>=1.3.4->pyLDAvis) (2022.1)\n",
      "Requirement already satisfied: python-dateutil>=2.8.1 in c:\\programdata\\anaconda3\\lib\\site-packages (from pandas>=1.3.4->pyLDAvis) (2.8.2)\n",
      "Requirement already satisfied: threadpoolctl>=2.0.0 in c:\\programdata\\anaconda3\\lib\\site-packages (from scikit-learn>=1.0.0->pyLDAvis) (2.2.0)\n",
      "Requirement already satisfied: smart-open>=1.8.1 in c:\\programdata\\anaconda3\\lib\\site-packages (from gensim->pyLDAvis) (5.2.1)\n",
      "Requirement already satisfied: MarkupSafe>=0.23 in c:\\programdata\\anaconda3\\lib\\site-packages (from jinja2->pyLDAvis) (2.0.1)\n",
      "Requirement already satisfied: packaging in c:\\programdata\\anaconda3\\lib\\site-packages (from numexpr->pyLDAvis) (21.3)\n",
      "Requirement already satisfied: six>=1.5 in c:\\programdata\\anaconda3\\lib\\site-packages (from python-dateutil>=2.8.1->pandas>=1.3.4->pyLDAvis) (1.16.0)\n",
      "Requirement already satisfied: pyparsing!=3.0.5,>=2.0.2 in c:\\programdata\\anaconda3\\lib\\site-packages (from packaging->numexpr->pyLDAvis) (3.0.9)\n",
      "Installing collected packages: funcy, numpy, joblib, pyLDAvis\n",
      "Successfully installed funcy-2.0 joblib-1.2.0 numpy-1.24.2 pyLDAvis-3.4.0\n"
     ]
    },
    {
     "name": "stderr",
     "output_type": "stream",
     "text": [
      "  WARNING: The script f2py.exe is installed in 'C:\\Users\\Marat\\AppData\\Roaming\\Python\\Python39\\Scripts' which is not on PATH.\n",
      "  Consider adding this directory to PATH or, if you prefer to suppress this warning, use --no-warn-script-location.\n",
      "ERROR: pip's dependency resolver does not currently take into account all the packages that are installed. This behaviour is the source of the following dependency conflicts.\n",
      "daal4py 2021.6.0 requires daal==2021.4.0, which is not installed.\n",
      "numba 0.55.1 requires numpy<1.22,>=1.18, but you have numpy 1.24.2 which is incompatible.\n"
     ]
    }
   ],
   "source": [
    "!pip install pyLDAvis"
   ]
  },
  {
   "cell_type": "code",
   "execution_count": 21,
   "id": "1yqRH1ooHxlt",
   "metadata": {
    "colab": {
     "base_uri": "https://localhost:8080/"
    },
    "executionInfo": {
     "elapsed": 509,
     "status": "ok",
     "timestamp": 1674328608427,
     "user": {
      "displayName": "Maxim Gasilin",
      "userId": "15501735730920561422"
     },
     "user_tz": -180
    },
    "id": "1yqRH1ooHxlt",
    "outputId": "51409eef-6ba1-42fc-ad49-e548d6584228"
   },
   "outputs": [],
   "source": [
    "import pyLDAvis.gensim_models as gensimvis"
   ]
  },
  {
   "cell_type": "code",
   "execution_count": 22,
   "id": "SMIJZKa0H44F",
   "metadata": {
    "colab": {
     "base_uri": "https://localhost:8080/"
    },
    "executionInfo": {
     "elapsed": 37208,
     "status": "ok",
     "timestamp": 1674328645632,
     "user": {
      "displayName": "Maxim Gasilin",
      "userId": "15501735730920561422"
     },
     "user_tz": -180
    },
    "id": "SMIJZKa0H44F",
    "outputId": "4ea6c190-9121-40e0-9673-e2dcbe69cffa"
   },
   "outputs": [
    {
     "name": "stderr",
     "output_type": "stream",
     "text": [
      "C:\\Users\\Marat\\AppData\\Roaming\\Python\\Python39\\site-packages\\pyLDAvis\\_prepare.py:243: FutureWarning: In a future version of pandas all arguments of DataFrame.drop except for the argument 'labels' will be keyword-only.\n",
      "  default_term_info = default_term_info.sort_values(\n"
     ]
    }
   ],
   "source": [
    "v_data = gensimvis.prepare(lda, corpus, dictionary)"
   ]
  },
  {
   "cell_type": "code",
   "execution_count": 23,
   "id": "KG3BUKd1H9A2",
   "metadata": {
    "executionInfo": {
     "elapsed": 33,
     "status": "ok",
     "timestamp": 1674328645634,
     "user": {
      "displayName": "Maxim Gasilin",
      "userId": "15501735730920561422"
     },
     "user_tz": -180
    },
    "id": "KG3BUKd1H9A2"
   },
   "outputs": [],
   "source": [
    "import pyLDAvis"
   ]
  },
  {
   "cell_type": "code",
   "execution_count": 24,
   "id": "965c8239",
   "metadata": {
    "colab": {
     "base_uri": "https://localhost:8080/",
     "height": 861
    },
    "executionInfo": {
     "elapsed": 33,
     "status": "ok",
     "timestamp": 1674328645635,
     "user": {
      "displayName": "Maxim Gasilin",
      "userId": "15501735730920561422"
     },
     "user_tz": -180
    },
    "id": "965c8239",
    "outputId": "fc26cf7a-0d4a-4fa2-8093-de65b47f9e27"
   },
   "outputs": [
    {
     "data": {
      "text/html": [
       "\n",
       "<link rel=\"stylesheet\" type=\"text/css\" href=\"https://cdn.jsdelivr.net/gh/bmabey/pyLDAvis@3.4.0/pyLDAvis/js/ldavis.v1.0.0.css\">\n",
       "\n",
       "\n",
       "<div id=\"ldavis_el600420843293420008740160300\" style=\"background-color:white;\"></div>\n",
       "<script type=\"text/javascript\">\n",
       "\n",
       "var ldavis_el600420843293420008740160300_data = {\"mdsDat\": {\"x\": [-0.20078434914840845, -0.16106019672922287, 0.3618445458776314], \"y\": [0.29229936582231214, -0.3145048338815049, 0.022205468059192837], \"topics\": [1, 2, 3], \"cluster\": [1, 1, 1], \"Freq\": [36.307388512203474, 33.30494378860162, 30.387667699194903]}, \"tinfo\": {\"Term\": [\"\\u0437\\u0430\\u0432\\u0442\\u0440\\u0430\", \"\\u0434\\u043e\\u043c\", \"\\u0448\\u043a\\u043e\\u043b\\u0430\", \"\\u043d\\u0438\\u043a\\u0442\\u043e\", \"\\u043c\\u0430\\u043c\\u0430\", \"\\u043d\\u0430\\u0441\\u0442\\u0440\\u043e\\u0435\\u043d\\u0438\\u0435\", \"\\u0438\\u0434\\u0442\\u0438\", \"\\u0431\\u043e\\u043b\\u044c\\u0448\", \"\\u0443\\u0442\\u0440\\u043e\", \"\\u0434\\u0440\\u0443\\u0433\", \"\\u043b\\u044e\\u0431\\u0438\\u043c\\u044b\\u0439\", \"\\u0447\\u0430\\u0441\", \"\\u0433\\u043e\\u043b\\u043e\\u0432\\u0430\", \"\\u0443\\u0440\\u043e\\u043a\", \"\\u043f\\u043e\\u0441\\u043b\\u0435\\u0434\\u043d\\u0438\\u0439\", \"\\u0434\\u0435\\u043b\\u043e\", \"\\u043d\\u0430\\u0439\\u0442\\u0438\", \"\\u0444\\u0438\\u043b\\u044c\\u043c\", \"\\u043d\\u043e\\u0447\\u044c\", \"\\u043d\\u0435\\u0434\\u0435\\u043b\\u044f\", \"\\u043f\\u0440\\u0438\\u0439\\u0442\\u0438\", \"\\u0441\\u043a\\u043e\\u0440\\u043e\", \"\\u043f\\u0440\\u0430\\u0432\\u0434\\u0430\", \"\\u0436\\u0430\\u043b\\u043a\\u043e\", \"\\u043d\\u0440\\u0430\\u0432\\u0438\\u0442\\u044c\\u0441\\u044f\", \"\\u043e\\u0441\\u0442\\u0430\\u0442\\u044c\\u0441\\u044f\", \"\\u043c\\u0430\\u043b\\u0435\\u043d\\u044c\\u043a\\u0438\\u0439\", \"\\u044d\\u043a\\u0437\\u0430\\u043c\\u0435\\u043d\", \"\\u0431\\u043e\\u044f\\u0442\\u044c\\u0441\\u044f\", \"\\u0432\\u0447\\u0435\\u0440\\u0430\", \"\\u0448\\u043a\\u043e\\u043b\\u0430\", \"\\u0447\\u0430\\u0441\", \"\\u0434\\u0440\\u0443\\u0433\", \"\\u0443\\u0440\\u043e\\u043a\", \"\\u043d\\u043e\\u0447\\u044c\", \"\\u043a\\u0430\\u043d\\u0438\\u043a\\u0443\\u043b\\u044b\", \"\\u0441\\u043a\\u043e\\u0440\\u043e\", \"\\u043f\\u0440\\u0438\\u0439\\u0442\\u0438\\u0441\\u044c\", \"\\u0431\\u043e\\u043b\\u044c\", \"\\u043e\\u0441\\u0442\\u0430\\u0442\\u044c\\u0441\\u044f\", \"\\u0437\\u0430\\u0432\\u0442\\u0440\\u0430\", \"\\u0443\\u0447\\u0451\\u0431\\u0430\", \"\\u0443\\u0436\\u0430\\u0441\\u043d\\u044b\\u0439\", \"\\u043a\\u043e\\u043d\\u0435\\u0446\", \"\\u0447\\u0443\\u0432\\u0441\\u0442\\u0432\\u043e\", \"\\u0431\\u043e\\u0433\", \"\\u043c\\u043e\\u043c\\u0435\\u043d\\u0442\", \"\\u044d\\u043a\\u0437\\u0430\\u043c\\u0435\\u043d\", \"\\u0431\\u044b\\u0441\\u0442\\u0440\\u043e\", \"\\u0442\\u0435\\u043c\\u043f\\u0435\\u0440\\u0430\\u0442\\u0443\\u0440\\u0430\", \"\\u0432\\u044b\\u0441\\u043f\\u0430\\u0442\\u044c\\u0441\\u044f\", \"\\u043f\\u0435\\u0447\\u0430\\u043b\\u044c\", \"\\u0446\\u0435\\u043b\\u044b\\u0439\", \"\\u0437\\u0438\\u043c\\u0430\", \"\\u043f\\u0435\\u0441\\u043d\\u044f\", \"\\u0441\\u0435\\u0437\\u043e\\u043d\", \"\\u0441\\u043e\\u0441\\u043a\\u0443\\u0447\\u0438\\u0442\\u044c\\u0441\\u044f\", \"\\u0431\\u043e\\u043b\\u044c\\u043d\\u0438\\u0446\\u0430\", \"\\u0441\\u0435\\u0440\\u0438\\u0430\\u043b\", \"\\u0441\\u0435\\u0440\\u0438\\u044f\", \"\\u0434\\u043e\\u043c\", \"\\u0438\\u0434\\u0442\\u0438\", \"\\u043f\\u0440\\u0438\\u0439\\u0442\\u0438\", \"\\u043d\\u0435\\u0434\\u0435\\u043b\\u044f\", \"\\u043f\\u0430\\u0440\\u0430\", \"\\u043c\\u0435\\u0441\\u0442\\u043e\", \"\\u0434\\u043e\\u043b\\u0436\\u043d\\u044b\\u0439\", \"\\u0443\\u0442\\u0440\\u043e\", \"\\u0440\\u0430\\u043d\\u043d\\u0438\\u0439\", \"\\u043f\\u043e\\u0441\\u043b\\u0435\\u0434\\u043d\\u0438\\u0439\", \"\\u0437\\u0430\\u043a\\u043e\\u043d\\u0447\\u0438\\u0442\\u044c\\u0441\\u044f\", \"\\u0441\\u043d\\u0435\\u0433\", \"\\u0432\\u044b\\u0445\\u043e\\u0434\\u043d\", \"\\u0445\\u043e\\u0440\\u043e\\u0448\\u0438\\u0439\", \"\\u043c\\u0438\\u043d\\u0443\\u0442\\u0430\", \"\\u0443\\u043b\\u0438\\u0446\\u0430\", \"\\u0436\\u0430\\u043b\\u044c\", \"\\u043d\\u043e\\u0432\\u044b\\u0439\", \"\\u043b\\u044e\\u0431\\u0438\\u043c\\u044b\\u0439\", \"\\u043d\\u0430\\u0441\\u0442\\u0440\\u043e\\u0435\\u043d\\u0438\\u0435\", \"\\u0436\\u0430\\u043b\\u043a\\u043e\", \"\\u0431\\u043e\\u044f\\u0442\\u044c\\u0441\\u044f\", \"\\u0432\\u0440\\u043e\\u0434\\u0435\", \"\\u0444\\u043e\\u0442\\u043a\\u0430\", \"\\u0442\\u0432\\u0438\\u0442\\u0442\\u0435\\u0440\", \"\\u043d\\u0440\\u0430\\u0432\\u0438\\u0442\\u044c\\u0441\\u044f\", \"\\u0433\\u043b\\u0430\\u0437\", \"\\u043f\\u043e\\u043b\\u0443\\u0447\\u0438\\u0442\\u044c\\u0441\\u044f\", \"\\u043d\\u0430\\u0432\\u0435\\u0440\\u043d\\u043e\\u0435\", \"\\u043f\\u043e\\u0433\\u043e\\u0434\\u0430\", \"\\u0441\\u0442\\u043e\\u043b\\u044c\\u043a\\u043e\", \"\\u043f\\u0440\\u043e\\u0431\\u043b\\u0435\\u043c\\u0430\", \"\\u0443\\u0447\\u0438\\u0442\\u044c\\u0441\\u044f\", \"\\u043c\\u0435\\u0441\\u044f\\u0446\", \"\\u0441\\u043b\\u0435\\u0437\\u0430\", \"\\u043b\\u044e\\u0431\\u043e\\u0432\\u044c\", \"\\u043f\\u0440\\u043e\\u0441\\u043d\\u0443\\u0442\\u044c\\u0441\\u044f\", \"\\u043d\\u0435\\u0447\\u0435\\u0433\\u043e\", \"\\u043f\\u043e\\u0445\\u043e\\u0434\", \"\\u0440\\u0443\\u043a\\u0430\", \"\\u043b\\u0435\\u043d\\u0442\\u0430\", \"\\u0447\\u0435\\u0440\\u0442\\u0430\", \"\\u0441\\u0435\\u0441\\u0441\\u0438\\u044f\", \"\\u043c\\u0443\\u0437\\u044b\\u043a\\u0430\", \"\\u0441\\u043b\\u043e\\u0432\\u043e\", \"\\u0443\\u0442\\u0440\\u043e\\u043c\", \"\\u043a\\u043b\\u0430\\u0441\\u0441\", \"\\u0434\\u043e\\u0436\\u0434\\u044c\", \"\\u043d\\u0430\\u0439\\u0442\\u0438\", \"\\u0433\\u043e\\u043b\\u043e\\u0432\\u0430\", \"\\u0432\\u0435\\u0447\\u0435\\u0440\", \"\\u0432\\u0447\\u0435\\u0440\\u0430\", \"\\u0431\\u043e\\u043b\\u044c\\u0448\", \"\\u043d\\u043e\\u0433\\u0430\", \"\\u0441\\u0440\\u0430\\u0437\\u0443\", \"\\u0441\\u0430\\u043c\\u044b\\u0439\", \"\\u0445\\u043e\\u0440\\u043e\\u0448\\u0438\\u0439\", \"\\u043f\\u0430\\u0440\\u0435\\u043d\\u044c\", \"\\u043d\\u0438\\u043a\\u0442\\u043e\", \"\\u043f\\u0440\\u0430\\u0432\\u0434\\u0430\", \"\\u043c\\u0430\\u043b\\u0435\\u043d\\u044c\\u043a\\u0438\\u0439\", \"\\u043c\\u0430\\u043c\\u0430\", \"\\u0443\\u0436\\u0430\\u0441\", \"\\u0443\\u0439\\u0442\\u0438\", \"\\u043f\\u0430\\u043f\\u0430\", \"\\u0440\\u0435\\u0431\\u0451\\u043d\\u043e\\u043a\", \"\\u0444\\u0438\\u043b\\u044c\\u043c\", \"\\u0438\\u043d\\u0442\\u0435\\u0440\\u043d\\u0435\\u0442\", \"\\u043f\\u0440\\u044f\\u043c\", \"\\u0432\\u044b\\u0439\\u0442\\u0438\", \"\\u043a\\u043d\\u0438\\u0433\\u0430\", \"\\u043c\\u044b\\u0441\\u043b\\u044c\", \"\\u0430\\u0445\\u0438\", \"\\u0441\\u043e\\u0436\\u0430\\u043b\\u0435\\u043d\\u0438\\u0435\", \"\\u0448\\u0435\\u0440\\u043b\\u043e\\u043a\", \"\\u0451\\u043b\\u043a\\u0430\", \"\\u043b\\u0438\\u0431\\u043e\", \"\\u043b\\u0435\\u0447\\u044c\", \"\\u0431\\u0435\\u0434\\u043d\\u044b\\u0439\", \"\\u043a\\u043e\\u043c\\u043f\", \"\\u0438\\u0433\\u0440\\u0430\", \"\\u043f\\u0440\\u0438\\u0432\\u0435\\u0442\", \"\\u0441\\u043d\\u0438\\u0442\\u044c\\u0441\\u044f\", \"\\u043d\\u043e\\u0432\\u043e\\u0433\\u043e\\u0434\\u043d\\u0438\\u0439\", \"\\u0441\\u0442\\u0440\\u0430\\u043d\\u0430\", \"\\u0433\\u043e\\u0442\\u043e\\u0432\\u044b\\u0439\", \"\\u0444\\u043e\\u0442\\u043e\", \"\\u043a\\u0443\\u0447\\u0430\", \"\\u0434\\u0435\\u043b\\u043e\", \"\\u043d\\u0443\\u0436\\u043d\\u044b\\u0439\", \"\\u043f\\u044b\\u0442\\u0430\\u0442\\u044c\\u0441\\u044f\", \"\\u0442\\u0432\\u0438\\u0442\", \"\\u0434\\u0435\\u043d\\u044c\\u0433\\u0430\", \"\\u0447\\u0451\\u0440\\u043d\\u044b\\u0439\", \"\\u043a\\u0441\\u0442\\u0430\\u0442\\u0438\", \"\\u0440\\u043e\\u0441\\u0441\\u0438\\u044f\", \"\\u0436\\u043e\\u043f\\u0430\", \"\\u043d\\u043e\\u0432\\u044b\\u0439\", \"\\u0433\\u043e\\u0440\\u043e\\u0434\", \"\\u0440\\u0430\\u0431\\u043e\\u0442\\u0430\", \"\\u0441\\u0442\\u0430\\u0440\\u044b\\u0439\"], \"Freq\": [7298.0, 5506.0, 4795.0, 3532.0, 3262.0, 2840.0, 3117.0, 4645.0, 3053.0, 2783.0, 2497.0, 2692.0, 2471.0, 2401.0, 2597.0, 1971.0, 2135.0, 1948.0, 2285.0, 2157.0, 2082.0, 2006.0, 1692.0, 1817.0, 1805.0, 1942.0, 1641.0, 1931.0, 1722.0, 1994.0, 4794.667045229952, 2692.0482249495144, 2782.2781338238706, 2400.6885153185094, 2284.9722355144954, 1822.0534300858617, 2005.9651017679594, 1658.8134367657822, 1486.0325557934734, 1941.303392913591, 7293.907397490503, 1306.6386636675554, 1360.406592312718, 1229.4988097030875, 1295.936797540367, 1179.7580251429406, 1154.286234258383, 1929.753736722085, 943.7156847639146, 893.7912933567492, 839.3998134804388, 881.6770842561288, 867.2932481349028, 972.8572390931232, 992.0273988570264, 822.3437602560718, 800.6303433228212, 811.7254185732947, 872.7018232372656, 941.6374632191018, 5489.317809797393, 3109.5291675002613, 2079.460735622603, 2152.9556913356137, 1220.0516186197585, 1139.5546245032542, 1112.960283169583, 3004.993182745214, 1363.1700194654397, 2548.856358760305, 1502.823568663111, 1550.56451354881, 1169.4804496305298, 2867.926065734164, 1265.2549575163816, 1334.5566244443974, 1561.6948521641773, 1363.271401639509, 2496.718588619441, 2839.340929974649, 1816.594310627282, 1721.4405030957207, 1666.488424995326, 1477.2498245319025, 1522.0541952334647, 1804.5499343227282, 1346.7180720983376, 1184.4134349568087, 1180.148366330834, 1150.4871768383364, 1306.7094931083732, 1100.8598510244271, 1077.3281554848745, 1340.9142279230723, 1058.578151571035, 974.4952960324597, 1348.5170771738863, 968.1314918287804, 947.4184656638784, 1629.9717944810159, 1208.1900158115093, 906.6246363026481, 907.3647871345028, 1042.9925801673319, 1487.988698766879, 846.8320298211019, 1055.5187439653203, 796.8111457276411, 2133.0052143850935, 2459.956969112881, 1486.5795195952069, 1932.3373538638443, 3854.800915232591, 1217.1856632518643, 1064.7367787896687, 2107.2055822372176, 1739.3262546864983, 1118.6038760166414, 3531.948610112949, 1692.1149084014492, 1640.5749948381215, 3260.121359857198, 1287.120146934363, 1420.6876088738807, 1205.3467772730799, 1166.4816503981194, 1947.0800921715318, 1072.0793729754246, 1162.2605999267498, 1321.3072313871858, 872.0730760819838, 993.0167384292768, 817.2886237234991, 803.4937290473348, 974.0654307462022, 724.8156734239458, 729.2385438760572, 788.0011248823607, 729.4008228434642, 686.8005837399612, 674.2031763552017, 739.1501894172615, 671.9193990479309, 813.0250997712985, 682.7712788045486, 704.9364289697965, 661.1020940290499, 691.5978167764579, 1969.0592198422266, 1572.8759556266664, 1029.8783278342985, 1361.2293709009136, 1452.2447429613003, 911.7859698505039, 771.9146487515569, 837.5820555625457, 750.4409460431795, 2219.052830653381, 1090.7333662926817, 1481.9751389900805, 862.7776270978702], \"Total\": [7298.0, 5506.0, 4795.0, 3532.0, 3262.0, 2840.0, 3117.0, 4645.0, 3053.0, 2783.0, 2497.0, 2692.0, 2471.0, 2401.0, 2597.0, 1971.0, 2135.0, 1948.0, 2285.0, 2157.0, 2082.0, 2006.0, 1692.0, 1817.0, 1805.0, 1942.0, 1641.0, 1931.0, 1722.0, 1994.0, 4795.566844942449, 2692.918003278574, 2783.209689951172, 2401.5156384486622, 2285.806804404931, 1822.8370110580508, 2006.929179081589, 1659.6505937648922, 1486.8706450774444, 1942.4285663055903, 7298.208562398978, 1307.4451905499582, 1361.2495940141155, 1230.3107134873226, 1296.8004816304053, 1180.6057432842276, 1155.1355920448761, 1931.247303616263, 944.504810673328, 894.6033963649156, 840.1844119205373, 882.511347720706, 868.1212894339657, 973.795734934362, 992.9970455709121, 823.1524210894336, 801.4251908609424, 812.5397497775082, 873.5838342541969, 942.6089411385875, 5506.217594312755, 3117.1092804518576, 2082.1218270729205, 2157.9441674004574, 1221.3470246182112, 1141.6582914727194, 1116.0926137879324, 3053.302967519051, 1370.4105040219783, 2597.4045656713547, 1541.190764096379, 1609.0502132304212, 1186.4450122803123, 4644.011968150679, 1390.122669512349, 1760.8441313717192, 3122.1766663158282, 4027.199152360088, 2497.5108037351356, 2840.408025660676, 1817.3830232886014, 1722.228049563511, 1667.304459147699, 1478.0119616200102, 1522.8483197889168, 1805.5905039661652, 1347.525929247638, 1185.2005424496183, 1180.9413691655018, 1151.2746439137109, 1307.6152710578635, 1101.6362281193303, 1078.1264134074447, 1341.9677151793646, 1059.4107715041462, 975.2659693466358, 1349.5929389731862, 968.9105502805984, 948.1948350631762, 1631.365402758135, 1209.2474922321508, 907.4190046782811, 908.1805640799403, 1043.9493503664603, 1489.3719572918446, 847.6510953799482, 1056.6263157118988, 797.6642288382559, 2135.5733070819265, 2471.8896113436776, 1488.2922387006006, 1994.1760920548963, 4645.508622715744, 1276.4911408952241, 1098.1765276285146, 3311.857616054272, 4644.011968150679, 1440.5001833134297, 3532.7673171679235, 1692.8828323745208, 1641.3637158400852, 3262.0273741242186, 1287.8838667710565, 1421.5645294454268, 1206.1122790982633, 1167.243944508674, 1948.4367744382178, 1072.8272475021176, 1163.097867479635, 1322.42841834288, 872.8252615948442, 993.8874188070782, 818.0495833010556, 804.2581502392355, 975.0040163562337, 725.5389365199005, 729.9746857303952, 788.7994886262562, 730.1423268748141, 687.5437069715574, 674.9438916510296, 739.9653809142945, 672.6681878524247, 813.9430247528451, 683.5457578564043, 705.7442031959803, 661.864840805104, 692.4100572997344, 1971.6844703339036, 1580.5319200593826, 1031.3251918910757, 1367.470922375794, 1460.3753967591776, 913.6158907607024, 773.6896172716788, 845.2531441163054, 757.015242512416, 4027.199152360088, 1401.7731940200915, 2609.849666272066, 1042.3038086024953], \"Category\": [\"Default\", \"Default\", \"Default\", \"Default\", \"Default\", \"Default\", \"Default\", \"Default\", \"Default\", \"Default\", \"Default\", \"Default\", \"Default\", \"Default\", \"Default\", \"Default\", \"Default\", \"Default\", \"Default\", \"Default\", \"Default\", \"Default\", \"Default\", \"Default\", \"Default\", \"Default\", \"Default\", \"Default\", \"Default\", \"Default\", \"Topic1\", \"Topic1\", \"Topic1\", \"Topic1\", \"Topic1\", \"Topic1\", \"Topic1\", \"Topic1\", \"Topic1\", \"Topic1\", \"Topic1\", \"Topic1\", \"Topic1\", \"Topic1\", \"Topic1\", \"Topic1\", \"Topic1\", \"Topic1\", \"Topic1\", \"Topic1\", \"Topic1\", \"Topic1\", \"Topic1\", \"Topic1\", \"Topic1\", \"Topic1\", \"Topic1\", \"Topic1\", \"Topic1\", \"Topic1\", \"Topic1\", \"Topic1\", \"Topic1\", \"Topic1\", \"Topic1\", \"Topic1\", \"Topic1\", \"Topic1\", \"Topic1\", \"Topic1\", \"Topic1\", \"Topic1\", \"Topic1\", \"Topic1\", \"Topic1\", \"Topic1\", \"Topic1\", \"Topic1\", \"Topic2\", \"Topic2\", \"Topic2\", \"Topic2\", \"Topic2\", \"Topic2\", \"Topic2\", \"Topic2\", \"Topic2\", \"Topic2\", \"Topic2\", \"Topic2\", \"Topic2\", \"Topic2\", \"Topic2\", \"Topic2\", \"Topic2\", \"Topic2\", \"Topic2\", \"Topic2\", \"Topic2\", \"Topic2\", \"Topic2\", \"Topic2\", \"Topic2\", \"Topic2\", \"Topic2\", \"Topic2\", \"Topic2\", \"Topic2\", \"Topic2\", \"Topic2\", \"Topic2\", \"Topic2\", \"Topic2\", \"Topic2\", \"Topic2\", \"Topic2\", \"Topic2\", \"Topic2\", \"Topic3\", \"Topic3\", \"Topic3\", \"Topic3\", \"Topic3\", \"Topic3\", \"Topic3\", \"Topic3\", \"Topic3\", \"Topic3\", \"Topic3\", \"Topic3\", \"Topic3\", \"Topic3\", \"Topic3\", \"Topic3\", \"Topic3\", \"Topic3\", \"Topic3\", \"Topic3\", \"Topic3\", \"Topic3\", \"Topic3\", \"Topic3\", \"Topic3\", \"Topic3\", \"Topic3\", \"Topic3\", \"Topic3\", \"Topic3\", \"Topic3\", \"Topic3\", \"Topic3\", \"Topic3\", \"Topic3\", \"Topic3\", \"Topic3\", \"Topic3\", \"Topic3\", \"Topic3\", \"Topic3\", \"Topic3\", \"Topic3\"], \"logprob\": [30.0, 29.0, 28.0, 27.0, 26.0, 25.0, 24.0, 23.0, 22.0, 21.0, 20.0, 19.0, 18.0, 17.0, 16.0, 15.0, 14.0, 13.0, 12.0, 11.0, 10.0, 9.0, 8.0, 7.0, 6.0, 5.0, 4.0, 3.0, 2.0, 1.0, -3.9244, -4.5016, -4.4686, -4.6161, -4.6655, -4.8919, -4.7958, -4.9858, -5.0958, -4.8285, -3.5049, -5.2244, -5.1841, -5.2853, -5.2327, -5.3266, -5.3484, -4.8345, -5.5498, -5.6042, -5.667, -5.6178, -5.6343, -5.5194, -5.4999, -5.6875, -5.7142, -5.7005, -5.6281, -5.552, -3.7891, -4.3574, -4.7598, -4.7251, -5.293, -5.3613, -5.3849, -4.3916, -5.1821, -4.5562, -5.0845, -5.0533, -5.3353, -4.4383, -5.2566, -5.2033, -5.0461, -5.182, -4.4906, -4.362, -4.8086, -4.8624, -4.8949, -5.0154, -4.9855, -4.8153, -5.1079, -5.2363, -5.2399, -5.2654, -5.1381, -5.3095, -5.3311, -5.1122, -5.3487, -5.4314, -5.1066, -5.438, -5.4596, -4.917, -5.2165, -5.5036, -5.5028, -5.3635, -5.0082, -5.5718, -5.3515, -5.6327, -4.648, -4.5054, -5.0091, -4.7468, -4.0563, -5.209, -5.3429, -4.6602, -4.8521, -5.2935, -4.0521, -4.7879, -4.8189, -4.1321, -5.0615, -4.9628, -5.1271, -5.1599, -4.6476, -5.2443, -5.1635, -5.0353, -5.4508, -5.3209, -5.5157, -5.5327, -5.3402, -5.6357, -5.6297, -5.5522, -5.6294, -5.6896, -5.7081, -5.6162, -5.7115, -5.5209, -5.6955, -5.6636, -5.7278, -5.6827, -4.6364, -4.861, -5.2845, -5.0055, -4.9408, -5.4063, -5.5728, -5.4911, -5.601, -4.5168, -5.2271, -4.9205, -5.4615], \"loglift\": [30.0, 29.0, 28.0, 27.0, 26.0, 25.0, 24.0, 23.0, 22.0, 21.0, 20.0, 19.0, 18.0, 17.0, 16.0, 15.0, 14.0, 13.0, 12.0, 11.0, 10.0, 9.0, 8.0, 7.0, 6.0, 5.0, 4.0, 3.0, 2.0, 1.0, 1.013, 1.0128, 1.0128, 1.0128, 1.0128, 1.0127, 1.0127, 1.0126, 1.0126, 1.0126, 1.0126, 1.0125, 1.0125, 1.0125, 1.0125, 1.0124, 1.0124, 1.0124, 1.0123, 1.0122, 1.0122, 1.0122, 1.0122, 1.0122, 1.0122, 1.0122, 1.0122, 1.0121, 1.0121, 1.0121, 1.0101, 1.0107, 1.0119, 1.0108, 1.0121, 1.0113, 1.0103, 0.9972, 1.0079, 0.9943, 0.9879, 0.9761, 0.9987, 0.5312, 0.919, 0.736, 0.3204, -0.07, 1.0991, 1.0991, 1.099, 1.099, 1.099, 1.0989, 1.0989, 1.0989, 1.0989, 1.0988, 1.0988, 1.0988, 1.0988, 1.0988, 1.0987, 1.0987, 1.0987, 1.0987, 1.0987, 1.0987, 1.0986, 1.0986, 1.0986, 1.0986, 1.0986, 1.0985, 1.0985, 1.0985, 1.0984, 1.0984, 1.0983, 1.0946, 1.0983, 1.068, 0.9129, 1.0519, 1.0685, 0.6473, 0.1174, 0.8466, 1.1909, 1.1907, 1.1907, 1.1905, 1.1905, 1.1905, 1.1905, 1.1905, 1.1904, 1.1904, 1.1904, 1.1903, 1.1903, 1.1903, 1.1902, 1.1902, 1.1902, 1.1901, 1.1901, 1.1901, 1.1901, 1.1901, 1.19, 1.19, 1.19, 1.19, 1.19, 1.19, 1.19, 1.19, 1.1898, 1.1863, 1.1897, 1.1866, 1.1856, 1.1891, 1.1888, 1.182, 1.1824, 0.5951, 0.9402, 0.6252, 1.0021]}, \"token.table\": {\"Topic\": [3, 3, 1, 1, 1, 1, 2, 3, 2, 1, 1, 2, 2, 1, 2, 3, 1, 3, 1, 1, 2, 3, 2, 2, 3, 1, 2, 3, 3, 1, 2, 3, 1, 2, 3, 2, 1, 3, 1, 2, 3, 1, 3, 2, 1, 2, 3, 2, 3, 1, 2, 1, 3, 1, 2, 3, 1, 2, 3, 3, 1, 1, 2, 3, 3, 3, 1, 1, 3, 3, 1, 2, 3, 3, 2, 2, 3, 1, 3, 1, 3, 2, 3, 1, 2, 3, 1, 2, 3, 2, 1, 2, 3, 2, 3, 1, 3, 2, 3, 3, 1, 2, 3, 2, 3, 1, 2, 3, 1, 2, 3, 1, 3, 3, 1, 3, 1, 2, 3, 1, 3, 1, 2, 2, 1, 2, 3, 2, 3, 3, 1, 2, 1, 2, 1, 2, 3, 1, 3, 1, 2, 3, 1, 2, 3, 3, 1, 3, 1, 2, 1, 2, 3, 1, 1, 1, 3, 2, 1, 3, 2, 1, 2, 1, 2, 3, 3, 3, 1, 1, 2, 3, 1, 2, 3, 2, 3, 3, 1, 2, 3, 2, 1, 3, 1, 3, 1, 2, 3, 1, 1, 2, 3, 2, 2, 1, 2, 3, 2, 3, 1, 2, 3, 1, 1, 2, 1, 1, 2, 3, 1, 3, 1, 1, 2, 3], \"Freq\": [0.9987169686013161, 0.9984354736977056, 0.9994869216182681, 0.9994144446389289, 0.9993357250797196, 0.16768885029958247, 0.8298337842168041, 0.002367878502304759, 0.9992869413758404, 0.9994655287430795, 0.0006719110494542932, 0.999131730538534, 0.9992176239075341, 0.016548187560505346, 0.968821162633222, 0.014542346644080455, 0.0007561845965569075, 0.9989198520516749, 0.9985902952926371, 0.9852964005076109, 0.013485665019779106, 0.0008428540637361941, 0.9996097075119499, 0.995190071883018, 0.004854585716502527, 0.21972170770129984, 0.0021401465035840892, 0.7782999451367472, 0.9989455057617049, 0.0005071805428536192, 0.0005071805428536192, 0.9986384888787764, 0.003423777208994245, 0.0027390217671953957, 0.9942649014919287, 0.9991672826557318, 0.9972290706436662, 0.0026879489774761893, 0.9968730632202878, 0.00018161287360544503, 0.0029058059776871205, 0.9995653615480214, 0.00035929739811215724, 0.9997892445985831, 0.5002919971992366, 0.28025319945539817, 0.219398219002226, 0.007925864187472544, 0.9907330234340679, 0.9994233430898837, 0.000548079705560671, 0.9752199630402205, 0.02465625987726439, 0.9991828523109976, 0.001026909406280573, 0.9986015257524286, 0.9977192713465513, 0.0019248603305721246, 0.0006416201101907082, 0.9992289089375351, 0.9995408195834443, 0.0009464083802666348, 0.9994072495615663, 0.0009464083802666348, 0.999054493916301, 0.9992092037698195, 0.9989346483998279, 0.0012925079743558883, 0.9978161562027457, 0.9994077825770852, 0.0008269605737648456, 0.9989683731079334, 0.9989864488532458, 0.9986647677659946, 0.9997954748646646, 0.9987019240018352, 0.9997784063114256, 0.0006131156396371307, 0.999378492608523, 0.9985474712660474, 0.0017518376688878024, 0.9992788834124559, 0.0007451744097035465, 0.9099916343668853, 0.03093252195871626, 0.05898760001429613, 0.999016918833861, 0.9990906164498047, 0.9991071234122841, 0.9992028654511722, 0.0004682583345108449, 0.9987950275116322, 0.0009365166690216898, 0.9995042875361725, 0.00035206209494053275, 0.9977088529559069, 0.0023170200951135784, 0.999060232876673, 0.9997827999698156, 0.9988414118382163, 0.338448621097179, 0.1104986327133123, 0.5510032943614381, 0.9533947874847748, 0.046220453953657946, 0.9996470373596857, 0.9996729579797479, 0.0005538354337837939, 0.00253079355705117, 0.0018980951677883772, 0.9952345663103725, 0.999264546284805, 0.0005148194468237018, 0.9990777980478774, 0.9988970991937101, 0.000818768114093205, 0.06456090813267512, 0.7768135075318651, 0.15897255873529678, 0.9989959229230749, 0.0010070523416563254, 0.9994205766055851, 0.9988928411474627, 0.9989870554335581, 0.981364256338387, 0.00923999299808603, 0.00923999299808603, 0.9987398844425296, 0.9994785035575778, 0.9986953701629909, 0.9985006510991198, 0.0009605585869159401, 0.9996079935334965, 0.9994224698651963, 0.0007409641612091067, 0.9995606534710849, 0.9990560833182388, 0.0009696262709983486, 0.9987150591282989, 0.43182563906442073, 0.0003831638323552979, 0.5678487995505515, 0.9945924932710093, 0.0007297083589662578, 0.004378250153797547, 0.9989342891736331, 0.008281542693719708, 0.9914189681910164, 0.000612983454417575, 0.9991630307006472, 0.3508604942335655, 0.6361988479777303, 0.01298364995872919, 0.9985999906458292, 0.999331679191734, 0.9993539832776761, 0.0010608853325665352, 0.998700077796604, 0.9995370145138783, 0.0004982736861983442, 0.9996122641800564, 0.0006714239482649588, 0.9990788350182588, 0.9639226838584011, 0.0348031401006257, 0.0012429692893080606, 0.9990066605430562, 0.9984356388071899, 0.9994694565808624, 0.0018212008267185888, 0.9697894402276486, 0.02913921322749742, 0.0009594131689308363, 0.1717349572386197, 0.8279735647873118, 0.9995294708837671, 0.000764750934111528, 0.9992015781677648, 0.004387661852126127, 0.0007312769753543545, 0.9952679634572765, 0.9994429387497802, 0.999325515231255, 0.9993137061548317, 0.9990820243255827, 0.999602881590154, 0.7581590989317258, 0.2243242277738065, 0.018173101996865337, 0.9997852862415689, 0.9841800934814211, 0.015393166187562993, 0.0003275141742034679, 0.9992318828070925, 0.9989552121222179, 0.9996594958219466, 0.0005132319473329201, 0.9992626014571954, 0.9993153224423833, 0.9986933271692571, 0.6175694678801794, 0.374460705942689, 0.007967249062610404, 0.9987083723811258, 0.999659104630198, 0.9995382456438305, 0.9993827256839086, 0.0010945518900370393, 0.0010945518900370393, 0.9982313237137798, 0.001025636800694607, 0.9989702438765474, 0.999881798135491, 0.9993541460930833, 0.000517800075695898, 0.9992571914575866], \"Term\": [\"\\u0430\\u0445\\u0438\", \"\\u0431\\u0435\\u0434\\u043d\\u044b\\u0439\", \"\\u0431\\u043e\\u0433\", \"\\u0431\\u043e\\u043b\\u044c\", \"\\u0431\\u043e\\u043b\\u044c\\u043d\\u0438\\u0446\\u0430\", \"\\u0431\\u043e\\u043b\\u044c\\u0448\", \"\\u0431\\u043e\\u043b\\u044c\\u0448\", \"\\u0431\\u043e\\u043b\\u044c\\u0448\", \"\\u0431\\u043e\\u044f\\u0442\\u044c\\u0441\\u044f\", \"\\u0431\\u044b\\u0441\\u0442\\u0440\\u043e\", \"\\u0432\\u0435\\u0447\\u0435\\u0440\", \"\\u0432\\u0435\\u0447\\u0435\\u0440\", \"\\u0432\\u0440\\u043e\\u0434\\u0435\", \"\\u0432\\u0447\\u0435\\u0440\\u0430\", \"\\u0432\\u0447\\u0435\\u0440\\u0430\", \"\\u0432\\u0447\\u0435\\u0440\\u0430\", \"\\u0432\\u044b\\u0439\\u0442\\u0438\", \"\\u0432\\u044b\\u0439\\u0442\\u0438\", \"\\u0432\\u044b\\u0441\\u043f\\u0430\\u0442\\u044c\\u0441\\u044f\", \"\\u0432\\u044b\\u0445\\u043e\\u0434\\u043d\", \"\\u0432\\u044b\\u0445\\u043e\\u0434\\u043d\", \"\\u0432\\u044b\\u0445\\u043e\\u0434\\u043d\", \"\\u0433\\u043b\\u0430\\u0437\", \"\\u0433\\u043e\\u043b\\u043e\\u0432\\u0430\", \"\\u0433\\u043e\\u043b\\u043e\\u0432\\u0430\", \"\\u0433\\u043e\\u0440\\u043e\\u0434\", \"\\u0433\\u043e\\u0440\\u043e\\u0434\", \"\\u0433\\u043e\\u0440\\u043e\\u0434\", \"\\u0433\\u043e\\u0442\\u043e\\u0432\\u044b\\u0439\", \"\\u0434\\u0435\\u043b\\u043e\", \"\\u0434\\u0435\\u043b\\u043e\", \"\\u0434\\u0435\\u043b\\u043e\", \"\\u0434\\u0435\\u043d\\u044c\\u0433\\u0430\", \"\\u0434\\u0435\\u043d\\u044c\\u0433\\u0430\", \"\\u0434\\u0435\\u043d\\u044c\\u0433\\u0430\", \"\\u0434\\u043e\\u0436\\u0434\\u044c\", \"\\u0434\\u043e\\u043b\\u0436\\u043d\\u044b\\u0439\", \"\\u0434\\u043e\\u043b\\u0436\\u043d\\u044b\\u0439\", \"\\u0434\\u043e\\u043c\", \"\\u0434\\u043e\\u043c\", \"\\u0434\\u043e\\u043c\", \"\\u0434\\u0440\\u0443\\u0433\", \"\\u0434\\u0440\\u0443\\u0433\", \"\\u0436\\u0430\\u043b\\u043a\\u043e\", \"\\u0436\\u0430\\u043b\\u044c\", \"\\u0436\\u0430\\u043b\\u044c\", \"\\u0436\\u0430\\u043b\\u044c\", \"\\u0436\\u043e\\u043f\\u0430\", \"\\u0436\\u043e\\u043f\\u0430\", \"\\u0437\\u0430\\u0432\\u0442\\u0440\\u0430\", \"\\u0437\\u0430\\u0432\\u0442\\u0440\\u0430\", \"\\u0437\\u0430\\u043a\\u043e\\u043d\\u0447\\u0438\\u0442\\u044c\\u0441\\u044f\", \"\\u0437\\u0430\\u043a\\u043e\\u043d\\u0447\\u0438\\u0442\\u044c\\u0441\\u044f\", \"\\u0437\\u0438\\u043c\\u0430\", \"\\u0437\\u0438\\u043c\\u0430\", \"\\u0438\\u0433\\u0440\\u0430\", \"\\u0438\\u0434\\u0442\\u0438\", \"\\u0438\\u0434\\u0442\\u0438\", \"\\u0438\\u0434\\u0442\\u0438\", \"\\u0438\\u043d\\u0442\\u0435\\u0440\\u043d\\u0435\\u0442\", \"\\u043a\\u0430\\u043d\\u0438\\u043a\\u0443\\u043b\\u044b\", \"\\u043a\\u043b\\u0430\\u0441\\u0441\", \"\\u043a\\u043b\\u0430\\u0441\\u0441\", \"\\u043a\\u043b\\u0430\\u0441\\u0441\", \"\\u043a\\u043d\\u0438\\u0433\\u0430\", \"\\u043a\\u043e\\u043c\\u043f\", \"\\u043a\\u043e\\u043d\\u0435\\u0446\", \"\\u043a\\u0441\\u0442\\u0430\\u0442\\u0438\", \"\\u043a\\u0441\\u0442\\u0430\\u0442\\u0438\", \"\\u043a\\u0443\\u0447\\u0430\", \"\\u043b\\u0435\\u043d\\u0442\\u0430\", \"\\u043b\\u0435\\u043d\\u0442\\u0430\", \"\\u043b\\u0435\\u0447\\u044c\", \"\\u043b\\u0438\\u0431\\u043e\", \"\\u043b\\u044e\\u0431\\u0438\\u043c\\u044b\\u0439\", \"\\u043b\\u044e\\u0431\\u043e\\u0432\\u044c\", \"\\u043c\\u0430\\u043b\\u0435\\u043d\\u044c\\u043a\\u0438\\u0439\", \"\\u043c\\u0430\\u043c\\u0430\", \"\\u043c\\u0430\\u043c\\u0430\", \"\\u043c\\u0435\\u0441\\u0442\\u043e\", \"\\u043c\\u0435\\u0441\\u0442\\u043e\", \"\\u043c\\u0435\\u0441\\u044f\\u0446\", \"\\u043c\\u0435\\u0441\\u044f\\u0446\", \"\\u043c\\u0438\\u043d\\u0443\\u0442\\u0430\", \"\\u043c\\u0438\\u043d\\u0443\\u0442\\u0430\", \"\\u043c\\u0438\\u043d\\u0443\\u0442\\u0430\", \"\\u043c\\u043e\\u043c\\u0435\\u043d\\u0442\", \"\\u043c\\u0443\\u0437\\u044b\\u043a\\u0430\", \"\\u043c\\u044b\\u0441\\u043b\\u044c\", \"\\u043d\\u0430\\u0432\\u0435\\u0440\\u043d\\u043e\\u0435\", \"\\u043d\\u0430\\u0439\\u0442\\u0438\", \"\\u043d\\u0430\\u0439\\u0442\\u0438\", \"\\u043d\\u0430\\u0439\\u0442\\u0438\", \"\\u043d\\u0430\\u0441\\u0442\\u0440\\u043e\\u0435\\u043d\\u0438\\u0435\", \"\\u043d\\u0430\\u0441\\u0442\\u0440\\u043e\\u0435\\u043d\\u0438\\u0435\", \"\\u043d\\u0435\\u0434\\u0435\\u043b\\u044f\", \"\\u043d\\u0435\\u0434\\u0435\\u043b\\u044f\", \"\\u043d\\u0435\\u0447\\u0435\\u0433\\u043e\", \"\\u043d\\u0438\\u043a\\u0442\\u043e\", \"\\u043d\\u043e\\u0432\\u043e\\u0433\\u043e\\u0434\\u043d\\u0438\\u0439\", \"\\u043d\\u043e\\u0432\\u044b\\u0439\", \"\\u043d\\u043e\\u0432\\u044b\\u0439\", \"\\u043d\\u043e\\u0432\\u044b\\u0439\", \"\\u043d\\u043e\\u0433\\u0430\", \"\\u043d\\u043e\\u0433\\u0430\", \"\\u043d\\u043e\\u0447\\u044c\", \"\\u043d\\u0440\\u0430\\u0432\\u0438\\u0442\\u044c\\u0441\\u044f\", \"\\u043d\\u0440\\u0430\\u0432\\u0438\\u0442\\u044c\\u0441\\u044f\", \"\\u043d\\u0443\\u0436\\u043d\\u044b\\u0439\", \"\\u043d\\u0443\\u0436\\u043d\\u044b\\u0439\", \"\\u043d\\u0443\\u0436\\u043d\\u044b\\u0439\", \"\\u043e\\u0441\\u0442\\u0430\\u0442\\u044c\\u0441\\u044f\", \"\\u043e\\u0441\\u0442\\u0430\\u0442\\u044c\\u0441\\u044f\", \"\\u043f\\u0430\\u043f\\u0430\", \"\\u043f\\u0430\\u0440\\u0430\", \"\\u043f\\u0430\\u0440\\u0430\", \"\\u043f\\u0430\\u0440\\u0435\\u043d\\u044c\", \"\\u043f\\u0430\\u0440\\u0435\\u043d\\u044c\", \"\\u043f\\u0430\\u0440\\u0435\\u043d\\u044c\", \"\\u043f\\u0435\\u0441\\u043d\\u044f\", \"\\u043f\\u0435\\u0441\\u043d\\u044f\", \"\\u043f\\u0435\\u0447\\u0430\\u043b\\u044c\", \"\\u043f\\u043e\\u0433\\u043e\\u0434\\u0430\", \"\\u043f\\u043e\\u043b\\u0443\\u0447\\u0438\\u0442\\u044c\\u0441\\u044f\", \"\\u043f\\u043e\\u0441\\u043b\\u0435\\u0434\\u043d\\u0438\\u0439\", \"\\u043f\\u043e\\u0441\\u043b\\u0435\\u0434\\u043d\\u0438\\u0439\", \"\\u043f\\u043e\\u0441\\u043b\\u0435\\u0434\\u043d\\u0438\\u0439\", \"\\u043f\\u043e\\u0445\\u043e\\u0434\", \"\\u043f\\u0440\\u0430\\u0432\\u0434\\u0430\", \"\\u043f\\u0440\\u0438\\u0432\\u0435\\u0442\", \"\\u043f\\u0440\\u0438\\u0439\\u0442\\u0438\", \"\\u043f\\u0440\\u0438\\u0439\\u0442\\u0438\", \"\\u043f\\u0440\\u0438\\u0439\\u0442\\u0438\\u0441\\u044c\", \"\\u043f\\u0440\\u043e\\u0431\\u043b\\u0435\\u043c\\u0430\", \"\\u043f\\u0440\\u043e\\u0441\\u043d\\u0443\\u0442\\u044c\\u0441\\u044f\", \"\\u043f\\u0440\\u043e\\u0441\\u043d\\u0443\\u0442\\u044c\\u0441\\u044f\", \"\\u043f\\u0440\\u044f\\u043c\", \"\\u043f\\u044b\\u0442\\u0430\\u0442\\u044c\\u0441\\u044f\", \"\\u043f\\u044b\\u0442\\u0430\\u0442\\u044c\\u0441\\u044f\", \"\\u0440\\u0430\\u0431\\u043e\\u0442\\u0430\", \"\\u0440\\u0430\\u0431\\u043e\\u0442\\u0430\", \"\\u0440\\u0430\\u0431\\u043e\\u0442\\u0430\", \"\\u0440\\u0430\\u043d\\u043d\\u0438\\u0439\", \"\\u0440\\u0430\\u043d\\u043d\\u0438\\u0439\", \"\\u0440\\u0430\\u043d\\u043d\\u0438\\u0439\", \"\\u0440\\u0435\\u0431\\u0451\\u043d\\u043e\\u043a\", \"\\u0440\\u043e\\u0441\\u0441\\u0438\\u044f\", \"\\u0440\\u043e\\u0441\\u0441\\u0438\\u044f\", \"\\u0440\\u0443\\u043a\\u0430\", \"\\u0440\\u0443\\u043a\\u0430\", \"\\u0441\\u0430\\u043c\\u044b\\u0439\", \"\\u0441\\u0430\\u043c\\u044b\\u0439\", \"\\u0441\\u0430\\u043c\\u044b\\u0439\", \"\\u0441\\u0435\\u0437\\u043e\\u043d\", \"\\u0441\\u0435\\u0440\\u0438\\u0430\\u043b\", \"\\u0441\\u0435\\u0440\\u0438\\u044f\", \"\\u0441\\u0435\\u0440\\u0438\\u044f\", \"\\u0441\\u0435\\u0441\\u0441\\u0438\\u044f\", \"\\u0441\\u043a\\u043e\\u0440\\u043e\", \"\\u0441\\u043a\\u043e\\u0440\\u043e\", \"\\u0441\\u043b\\u0435\\u0437\\u0430\", \"\\u0441\\u043b\\u043e\\u0432\\u043e\", \"\\u0441\\u043b\\u043e\\u0432\\u043e\", \"\\u0441\\u043d\\u0435\\u0433\", \"\\u0441\\u043d\\u0435\\u0433\", \"\\u0441\\u043d\\u0435\\u0433\", \"\\u0441\\u043d\\u0438\\u0442\\u044c\\u0441\\u044f\", \"\\u0441\\u043e\\u0436\\u0430\\u043b\\u0435\\u043d\\u0438\\u0435\", \"\\u0441\\u043e\\u0441\\u043a\\u0443\\u0447\\u0438\\u0442\\u044c\\u0441\\u044f\", \"\\u0441\\u0440\\u0430\\u0437\\u0443\", \"\\u0441\\u0440\\u0430\\u0437\\u0443\", \"\\u0441\\u0440\\u0430\\u0437\\u0443\", \"\\u0441\\u0442\\u0430\\u0440\\u044b\\u0439\", \"\\u0441\\u0442\\u0430\\u0440\\u044b\\u0439\", \"\\u0441\\u0442\\u0430\\u0440\\u044b\\u0439\", \"\\u0441\\u0442\\u043e\\u043b\\u044c\\u043a\\u043e\", \"\\u0441\\u0442\\u043e\\u043b\\u044c\\u043a\\u043e\", \"\\u0441\\u0442\\u0440\\u0430\\u043d\\u0430\", \"\\u0442\\u0432\\u0438\\u0442\", \"\\u0442\\u0432\\u0438\\u0442\", \"\\u0442\\u0432\\u0438\\u0442\", \"\\u0442\\u0432\\u0438\\u0442\\u0442\\u0435\\u0440\", \"\\u0442\\u0435\\u043c\\u043f\\u0435\\u0440\\u0430\\u0442\\u0443\\u0440\\u0430\", \"\\u0443\\u0436\\u0430\\u0441\", \"\\u0443\\u0436\\u0430\\u0441\\u043d\\u044b\\u0439\", \"\\u0443\\u0439\\u0442\\u0438\", \"\\u0443\\u043b\\u0438\\u0446\\u0430\", \"\\u0443\\u043b\\u0438\\u0446\\u0430\", \"\\u0443\\u043b\\u0438\\u0446\\u0430\", \"\\u0443\\u0440\\u043e\\u043a\", \"\\u0443\\u0442\\u0440\\u043e\", \"\\u0443\\u0442\\u0440\\u043e\", \"\\u0443\\u0442\\u0440\\u043e\", \"\\u0443\\u0442\\u0440\\u043e\\u043c\", \"\\u0443\\u0447\\u0438\\u0442\\u044c\\u0441\\u044f\", \"\\u0443\\u0447\\u0451\\u0431\\u0430\", \"\\u0444\\u0438\\u043b\\u044c\\u043c\", \"\\u0444\\u0438\\u043b\\u044c\\u043c\", \"\\u0444\\u043e\\u0442\\u043a\\u0430\", \"\\u0444\\u043e\\u0442\\u043e\", \"\\u0445\\u043e\\u0440\\u043e\\u0448\\u0438\\u0439\", \"\\u0445\\u043e\\u0440\\u043e\\u0448\\u0438\\u0439\", \"\\u0445\\u043e\\u0440\\u043e\\u0448\\u0438\\u0439\", \"\\u0446\\u0435\\u043b\\u044b\\u0439\", \"\\u0447\\u0430\\u0441\", \"\\u0447\\u0435\\u0440\\u0442\\u0430\", \"\\u0447\\u0443\\u0432\\u0441\\u0442\\u0432\\u043e\", \"\\u0447\\u0451\\u0440\\u043d\\u044b\\u0439\", \"\\u0447\\u0451\\u0440\\u043d\\u044b\\u0439\", \"\\u0447\\u0451\\u0440\\u043d\\u044b\\u0439\", \"\\u0448\\u0435\\u0440\\u043b\\u043e\\u043a\", \"\\u0448\\u0435\\u0440\\u043b\\u043e\\u043a\", \"\\u0448\\u043a\\u043e\\u043b\\u0430\", \"\\u044d\\u043a\\u0437\\u0430\\u043c\\u0435\\u043d\", \"\\u044d\\u043a\\u0437\\u0430\\u043c\\u0435\\u043d\", \"\\u0451\\u043b\\u043a\\u0430\"]}, \"R\": 30, \"lambda.step\": 0.01, \"plot.opts\": {\"xlab\": \"PC1\", \"ylab\": \"PC2\"}, \"topic.order\": [3, 1, 2]};\n",
       "\n",
       "function LDAvis_load_lib(url, callback){\n",
       "  var s = document.createElement('script');\n",
       "  s.src = url;\n",
       "  s.async = true;\n",
       "  s.onreadystatechange = s.onload = callback;\n",
       "  s.onerror = function(){console.warn(\"failed to load library \" + url);};\n",
       "  document.getElementsByTagName(\"head\")[0].appendChild(s);\n",
       "}\n",
       "\n",
       "if(typeof(LDAvis) !== \"undefined\"){\n",
       "   // already loaded: just create the visualization\n",
       "   !function(LDAvis){\n",
       "       new LDAvis(\"#\" + \"ldavis_el600420843293420008740160300\", ldavis_el600420843293420008740160300_data);\n",
       "   }(LDAvis);\n",
       "}else if(typeof define === \"function\" && define.amd){\n",
       "   // require.js is available: use it to load d3/LDAvis\n",
       "   require.config({paths: {d3: \"https://d3js.org/d3.v5\"}});\n",
       "   require([\"d3\"], function(d3){\n",
       "      window.d3 = d3;\n",
       "      LDAvis_load_lib(\"https://cdn.jsdelivr.net/gh/bmabey/pyLDAvis@3.4.0/pyLDAvis/js/ldavis.v3.0.0.js\", function(){\n",
       "        new LDAvis(\"#\" + \"ldavis_el600420843293420008740160300\", ldavis_el600420843293420008740160300_data);\n",
       "      });\n",
       "    });\n",
       "}else{\n",
       "    // require.js not available: dynamically load d3 & LDAvis\n",
       "    LDAvis_load_lib(\"https://d3js.org/d3.v5.js\", function(){\n",
       "         LDAvis_load_lib(\"https://cdn.jsdelivr.net/gh/bmabey/pyLDAvis@3.4.0/pyLDAvis/js/ldavis.v3.0.0.js\", function(){\n",
       "                 new LDAvis(\"#\" + \"ldavis_el600420843293420008740160300\", ldavis_el600420843293420008740160300_data);\n",
       "            })\n",
       "         });\n",
       "}\n",
       "</script>"
      ],
      "text/plain": [
       "<IPython.core.display.HTML object>"
      ]
     },
     "execution_count": 24,
     "metadata": {},
     "output_type": "execute_result"
    }
   ],
   "source": [
    "pyLDAvis.display(v_data)"
   ]
  },
  {
   "cell_type": "markdown",
   "id": "925d6a83",
   "metadata": {
    "id": "925d6a83"
   },
   "source": [
    "# Результаты:"
   ]
  },
  {
   "cell_type": "markdown",
   "id": "f6f7a208",
   "metadata": {
    "id": "f6f7a208"
   },
   "source": [
    "У нас получились три частые темы:\n",
    "\n",
    "1) Часть жизни, проходящая в работе или учебе. Т.е. трудовые будни.\n",
    "\n",
    "2) Тема взаимоотношений между людьми.\n",
    "\n",
    "3) Часть жизни не связанная с работой. Отдых и развлечения."
   ]
  }
 ],
 "metadata": {
  "colab": {
   "provenance": []
  },
  "kernelspec": {
   "display_name": "Python 3 (ipykernel)",
   "language": "python",
   "name": "python3"
  },
  "language_info": {
   "codemirror_mode": {
    "name": "ipython",
    "version": 3
   },
   "file_extension": ".py",
   "mimetype": "text/x-python",
   "name": "python",
   "nbconvert_exporter": "python",
   "pygments_lexer": "ipython3",
   "version": "3.9.13"
  }
 },
 "nbformat": 4,
 "nbformat_minor": 5
}
