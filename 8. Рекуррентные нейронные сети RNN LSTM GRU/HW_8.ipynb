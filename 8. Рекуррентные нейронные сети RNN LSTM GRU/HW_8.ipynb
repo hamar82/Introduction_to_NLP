{
 "cells": [
  {
   "cell_type": "markdown",
   "metadata": {
    "id": "kK1oE80a3miy"
   },
   "source": [
    "## Практическое задание к уроку 8. Рекуррентные нейронные сети RNN LSTM GRU\n",
    "Данные берем отызывы за лето\n",
    "\n",
    "На вебинаре мы говорили, что долгое время CNN и RNN архитектуры были конкурирующими. Выяснить какая архитектура больше подходит для нашей задачи\n",
    "\n",
    "построить свёрточные архитектуры\n",
    "\n",
    "построить различные архитектуры с RNN\n",
    "\n",
    "построить совместные архитектуры CNN -> RNN или (RNN -> CNN)\n"
   ]
  },
  {
   "cell_type": "code",
   "execution_count": 1,
   "metadata": {
    "colab": {
     "base_uri": "https://localhost:8080/"
    },
    "id": "A_K_0lAa30m3",
    "outputId": "86e93cd5-f7ed-4373-979b-5aba104078a5"
   },
   "outputs": [
    {
     "name": "stdout",
     "output_type": "stream",
     "text": [
      "Looking in indexes: https://pypi.org/simple, https://us-python.pkg.dev/colab-wheels/public/simple/\n",
      "Collecting stop_words\n",
      "  Downloading stop-words-2018.7.23.tar.gz (31 kB)\n",
      "Building wheels for collected packages: stop-words\n",
      "  Building wheel for stop-words (setup.py) ... \u001b[?25l\u001b[?25hdone\n",
      "  Created wheel for stop-words: filename=stop_words-2018.7.23-py3-none-any.whl size=32911 sha256=285dd2827c02ce9cf37f0bd267c84f6542fc4796db822d5ed48f2bf6df148eb2\n",
      "  Stored in directory: /root/.cache/pip/wheels/fb/86/b2/277b10b1ce9f73ce15059bf6975d4547cc4ec3feeb651978e9\n",
      "Successfully built stop-words\n",
      "Installing collected packages: stop-words\n",
      "Successfully installed stop-words-2018.7.23\n"
     ]
    }
   ],
   "source": [
    "!pip install stop_words"
   ]
  },
  {
   "cell_type": "code",
   "execution_count": 2,
   "metadata": {
    "colab": {
     "base_uri": "https://localhost:8080/"
    },
    "id": "pRTux_qu4tdV",
    "outputId": "3d35ebad-8906-47bc-b586-995380848b02"
   },
   "outputs": [
    {
     "name": "stdout",
     "output_type": "stream",
     "text": [
      "Looking in indexes: https://pypi.org/simple, https://us-python.pkg.dev/colab-wheels/public/simple/\n",
      "Collecting pymorphy2\n",
      "  Downloading pymorphy2-0.9.1-py3-none-any.whl (55 kB)\n",
      "\u001b[?25l\r",
      "\u001b[K     |██████                          | 10 kB 26.3 MB/s eta 0:00:01\r",
      "\u001b[K     |███████████▉                    | 20 kB 9.3 MB/s eta 0:00:01\r",
      "\u001b[K     |█████████████████▊              | 30 kB 7.8 MB/s eta 0:00:01\r",
      "\u001b[K     |███████████████████████▋        | 40 kB 4.1 MB/s eta 0:00:01\r",
      "\u001b[K     |█████████████████████████████▌  | 51 kB 4.6 MB/s eta 0:00:01\r",
      "\u001b[K     |████████████████████████████████| 55 kB 1.9 MB/s \n",
      "\u001b[?25hCollecting docopt>=0.6\n",
      "  Downloading docopt-0.6.2.tar.gz (25 kB)\n",
      "Collecting pymorphy2-dicts-ru<3.0,>=2.4\n",
      "  Downloading pymorphy2_dicts_ru-2.4.417127.4579844-py2.py3-none-any.whl (8.2 MB)\n",
      "\u001b[K     |████████████████████████████████| 8.2 MB 9.8 MB/s \n",
      "\u001b[?25hCollecting dawg-python>=0.7.1\n",
      "  Downloading DAWG_Python-0.7.2-py2.py3-none-any.whl (11 kB)\n",
      "Building wheels for collected packages: docopt\n",
      "  Building wheel for docopt (setup.py) ... \u001b[?25l\u001b[?25hdone\n",
      "  Created wheel for docopt: filename=docopt-0.6.2-py2.py3-none-any.whl size=13723 sha256=1cb2f33347cd3de32565ddca8156eb540955786ac9e33639fc90a4afb7906e2c\n",
      "  Stored in directory: /root/.cache/pip/wheels/72/b0/3f/1d95f96ff986c7dfffe46ce2be4062f38ebd04b506c77c81b9\n",
      "Successfully built docopt\n",
      "Installing collected packages: pymorphy2-dicts-ru, docopt, dawg-python, pymorphy2\n",
      "Successfully installed dawg-python-0.7.2 docopt-0.6.2 pymorphy2-0.9.1 pymorphy2-dicts-ru-2.4.417127.4579844\n"
     ]
    }
   ],
   "source": [
    "!pip install pymorphy2"
   ]
  },
  {
   "cell_type": "code",
   "execution_count": 3,
   "metadata": {
    "colab": {
     "base_uri": "https://localhost:8080/"
    },
    "id": "h2KCSStD4yCV",
    "outputId": "0bddb1a4-117c-4002-94b6-4d4c4ad89d8b"
   },
   "outputs": [
    {
     "name": "stdout",
     "output_type": "stream",
     "text": [
      "Looking in indexes: https://pypi.org/simple, https://us-python.pkg.dev/colab-wheels/public/simple/\n",
      "Collecting xlrd==1.2.0\n",
      "  Downloading xlrd-1.2.0-py2.py3-none-any.whl (103 kB)\n",
      "\u001b[?25l\r",
      "\u001b[K     |███▏                            | 10 kB 38.0 MB/s eta 0:00:01\r",
      "\u001b[K     |██████▍                         | 20 kB 5.5 MB/s eta 0:00:01\r",
      "\u001b[K     |█████████▌                      | 30 kB 8.0 MB/s eta 0:00:01\r",
      "\u001b[K     |████████████▊                   | 40 kB 3.9 MB/s eta 0:00:01\r",
      "\u001b[K     |███████████████▉                | 51 kB 4.0 MB/s eta 0:00:01\r",
      "\u001b[K     |███████████████████             | 61 kB 4.8 MB/s eta 0:00:01\r",
      "\u001b[K     |██████████████████████▏         | 71 kB 4.9 MB/s eta 0:00:01\r",
      "\u001b[K     |█████████████████████████▍      | 81 kB 5.3 MB/s eta 0:00:01\r",
      "\u001b[K     |████████████████████████████▋   | 92 kB 5.9 MB/s eta 0:00:01\r",
      "\u001b[K     |███████████████████████████████▊| 102 kB 4.8 MB/s eta 0:00:01\r",
      "\u001b[K     |████████████████████████████████| 103 kB 4.8 MB/s \n",
      "\u001b[?25hInstalling collected packages: xlrd\n",
      "  Attempting uninstall: xlrd\n",
      "    Found existing installation: xlrd 1.1.0\n",
      "    Uninstalling xlrd-1.1.0:\n",
      "      Successfully uninstalled xlrd-1.1.0\n",
      "Successfully installed xlrd-1.2.0\n"
     ]
    }
   ],
   "source": [
    "! pip install --upgrade xlrd==1.2.0"
   ]
  },
  {
   "cell_type": "code",
   "execution_count": 74,
   "metadata": {
    "id": "eIyQ6xs141lC"
   },
   "outputs": [],
   "source": [
    "import numpy as np\n",
    "import pandas as pd\n",
    "\n",
    "import warnings\n",
    "warnings.filterwarnings(\"ignore\")\n",
    "\n",
    "from pymorphy2 import MorphAnalyzer\n",
    "from stop_words import get_stop_words\n",
    "from string import punctuation\n",
    "import re\n",
    "\n",
    "import matplotlib.pyplot as plt\n",
    "\n",
    "import tensorflow as tf\n",
    "from tensorflow.keras import Sequential\n",
    "from tensorflow.keras.layers import Dense, Embedding, GlobalMaxPooling1D, Conv1D, Activation, Masking, Bidirectional, SimpleRNN, Dropout, LSTM, GRU, Flatten, MaxPooling1D\n",
    "# from tensorflow.keras import layers\n",
    "from tensorflow.keras.preprocessing.text import Tokenizer\n",
    "from tensorflow.keras.preprocessing.sequence import pad_sequences\n",
    "from tensorflow.keras.callbacks import EarlyStopping\n",
    "\n",
    "from sklearn.model_selection import train_test_split\n",
    "from sklearn.feature_extraction.text import TfidfVectorizer"
   ]
  },
  {
   "cell_type": "code",
   "execution_count": 5,
   "metadata": {
    "colab": {
     "base_uri": "https://localhost:8080/",
     "height": 206
    },
    "id": "4II8XV6L48cg",
    "outputId": "de558a28-cf0e-433c-fb28-6efcea618d96"
   },
   "outputs": [
    {
     "data": {
      "text/html": [
       "\n",
       "  <div id=\"df-0aef1cf8-6898-4e6f-ad94-14db40066989\">\n",
       "    <div class=\"colab-df-container\">\n",
       "      <div>\n",
       "<style scoped>\n",
       "    .dataframe tbody tr th:only-of-type {\n",
       "        vertical-align: middle;\n",
       "    }\n",
       "\n",
       "    .dataframe tbody tr th {\n",
       "        vertical-align: top;\n",
       "    }\n",
       "\n",
       "    .dataframe thead th {\n",
       "        text-align: right;\n",
       "    }\n",
       "</style>\n",
       "<table border=\"1\" class=\"dataframe\">\n",
       "  <thead>\n",
       "    <tr style=\"text-align: right;\">\n",
       "      <th></th>\n",
       "      <th>Rating</th>\n",
       "      <th>Content</th>\n",
       "      <th>Date</th>\n",
       "    </tr>\n",
       "  </thead>\n",
       "  <tbody>\n",
       "    <tr>\n",
       "      <th>0</th>\n",
       "      <td>5</td>\n",
       "      <td>It just works!</td>\n",
       "      <td>2017-08-14</td>\n",
       "    </tr>\n",
       "    <tr>\n",
       "      <th>1</th>\n",
       "      <td>4</td>\n",
       "      <td>В целом удобноное приложение...из минусов хотя...</td>\n",
       "      <td>2017-08-14</td>\n",
       "    </tr>\n",
       "    <tr>\n",
       "      <th>2</th>\n",
       "      <td>5</td>\n",
       "      <td>Отлично все</td>\n",
       "      <td>2017-08-14</td>\n",
       "    </tr>\n",
       "    <tr>\n",
       "      <th>3</th>\n",
       "      <td>5</td>\n",
       "      <td>Стал зависать на 1% работы антивируса. Дальше ...</td>\n",
       "      <td>2017-08-14</td>\n",
       "    </tr>\n",
       "    <tr>\n",
       "      <th>4</th>\n",
       "      <td>5</td>\n",
       "      <td>Очень удобно, работает быстро.</td>\n",
       "      <td>2017-08-14</td>\n",
       "    </tr>\n",
       "  </tbody>\n",
       "</table>\n",
       "</div>\n",
       "      <button class=\"colab-df-convert\" onclick=\"convertToInteractive('df-0aef1cf8-6898-4e6f-ad94-14db40066989')\"\n",
       "              title=\"Convert this dataframe to an interactive table.\"\n",
       "              style=\"display:none;\">\n",
       "        \n",
       "  <svg xmlns=\"http://www.w3.org/2000/svg\" height=\"24px\"viewBox=\"0 0 24 24\"\n",
       "       width=\"24px\">\n",
       "    <path d=\"M0 0h24v24H0V0z\" fill=\"none\"/>\n",
       "    <path d=\"M18.56 5.44l.94 2.06.94-2.06 2.06-.94-2.06-.94-.94-2.06-.94 2.06-2.06.94zm-11 1L8.5 8.5l.94-2.06 2.06-.94-2.06-.94L8.5 2.5l-.94 2.06-2.06.94zm10 10l.94 2.06.94-2.06 2.06-.94-2.06-.94-.94-2.06-.94 2.06-2.06.94z\"/><path d=\"M17.41 7.96l-1.37-1.37c-.4-.4-.92-.59-1.43-.59-.52 0-1.04.2-1.43.59L10.3 9.45l-7.72 7.72c-.78.78-.78 2.05 0 2.83L4 21.41c.39.39.9.59 1.41.59.51 0 1.02-.2 1.41-.59l7.78-7.78 2.81-2.81c.8-.78.8-2.07 0-2.86zM5.41 20L4 18.59l7.72-7.72 1.47 1.35L5.41 20z\"/>\n",
       "  </svg>\n",
       "      </button>\n",
       "      \n",
       "  <style>\n",
       "    .colab-df-container {\n",
       "      display:flex;\n",
       "      flex-wrap:wrap;\n",
       "      gap: 12px;\n",
       "    }\n",
       "\n",
       "    .colab-df-convert {\n",
       "      background-color: #E8F0FE;\n",
       "      border: none;\n",
       "      border-radius: 50%;\n",
       "      cursor: pointer;\n",
       "      display: none;\n",
       "      fill: #1967D2;\n",
       "      height: 32px;\n",
       "      padding: 0 0 0 0;\n",
       "      width: 32px;\n",
       "    }\n",
       "\n",
       "    .colab-df-convert:hover {\n",
       "      background-color: #E2EBFA;\n",
       "      box-shadow: 0px 1px 2px rgba(60, 64, 67, 0.3), 0px 1px 3px 1px rgba(60, 64, 67, 0.15);\n",
       "      fill: #174EA6;\n",
       "    }\n",
       "\n",
       "    [theme=dark] .colab-df-convert {\n",
       "      background-color: #3B4455;\n",
       "      fill: #D2E3FC;\n",
       "    }\n",
       "\n",
       "    [theme=dark] .colab-df-convert:hover {\n",
       "      background-color: #434B5C;\n",
       "      box-shadow: 0px 1px 3px 1px rgba(0, 0, 0, 0.15);\n",
       "      filter: drop-shadow(0px 1px 2px rgba(0, 0, 0, 0.3));\n",
       "      fill: #FFFFFF;\n",
       "    }\n",
       "  </style>\n",
       "\n",
       "      <script>\n",
       "        const buttonEl =\n",
       "          document.querySelector('#df-0aef1cf8-6898-4e6f-ad94-14db40066989 button.colab-df-convert');\n",
       "        buttonEl.style.display =\n",
       "          google.colab.kernel.accessAllowed ? 'block' : 'none';\n",
       "\n",
       "        async function convertToInteractive(key) {\n",
       "          const element = document.querySelector('#df-0aef1cf8-6898-4e6f-ad94-14db40066989');\n",
       "          const dataTable =\n",
       "            await google.colab.kernel.invokeFunction('convertToInteractive',\n",
       "                                                     [key], {});\n",
       "          if (!dataTable) return;\n",
       "\n",
       "          const docLinkHtml = 'Like what you see? Visit the ' +\n",
       "            '<a target=\"_blank\" href=https://colab.research.google.com/notebooks/data_table.ipynb>data table notebook</a>'\n",
       "            + ' to learn more about interactive tables.';\n",
       "          element.innerHTML = '';\n",
       "          dataTable['output_type'] = 'display_data';\n",
       "          await google.colab.output.renderOutput(dataTable, element);\n",
       "          const docLink = document.createElement('div');\n",
       "          docLink.innerHTML = docLinkHtml;\n",
       "          element.appendChild(docLink);\n",
       "        }\n",
       "      </script>\n",
       "    </div>\n",
       "  </div>\n",
       "  "
      ],
      "text/plain": [
       "   Rating                                            Content        Date\n",
       "0       5                                     It just works!  2017-08-14\n",
       "1       4  В целом удобноное приложение...из минусов хотя...  2017-08-14\n",
       "2       5                                        Отлично все  2017-08-14\n",
       "3       5  Стал зависать на 1% работы антивируса. Дальше ...  2017-08-14\n",
       "4       5                     Очень удобно, работает быстро.  2017-08-14"
      ]
     },
     "execution_count": 5,
     "metadata": {},
     "output_type": "execute_result"
    }
   ],
   "source": [
    "df =  pd.read_excel(\"отзывы за лето.xls\")\n",
    "df.head()"
   ]
  },
  {
   "cell_type": "code",
   "execution_count": 6,
   "metadata": {
    "colab": {
     "base_uri": "https://localhost:8080/",
     "height": 206
    },
    "id": "THVRSFWM5BJG",
    "outputId": "c0a72ba7-b31c-4c2f-af9c-1bb5f9421c9b"
   },
   "outputs": [
    {
     "data": {
      "text/html": [
       "\n",
       "  <div id=\"df-8ceeb1a4-4441-4767-bf55-96a6e50d0ed0\">\n",
       "    <div class=\"colab-df-container\">\n",
       "      <div>\n",
       "<style scoped>\n",
       "    .dataframe tbody tr th:only-of-type {\n",
       "        vertical-align: middle;\n",
       "    }\n",
       "\n",
       "    .dataframe tbody tr th {\n",
       "        vertical-align: top;\n",
       "    }\n",
       "\n",
       "    .dataframe thead th {\n",
       "        text-align: right;\n",
       "    }\n",
       "</style>\n",
       "<table border=\"1\" class=\"dataframe\">\n",
       "  <thead>\n",
       "    <tr style=\"text-align: right;\">\n",
       "      <th></th>\n",
       "      <th>Rating</th>\n",
       "      <th>Content</th>\n",
       "      <th>Date</th>\n",
       "    </tr>\n",
       "  </thead>\n",
       "  <tbody>\n",
       "    <tr>\n",
       "      <th>0</th>\n",
       "      <td>5</td>\n",
       "      <td>it just works</td>\n",
       "      <td>2017-08-14</td>\n",
       "    </tr>\n",
       "    <tr>\n",
       "      <th>1</th>\n",
       "      <td>4</td>\n",
       "      <td>целое удобноной приложениеиз минус хотеть боль...</td>\n",
       "      <td>2017-08-14</td>\n",
       "    </tr>\n",
       "    <tr>\n",
       "      <th>2</th>\n",
       "      <td>5</td>\n",
       "      <td>отлично</td>\n",
       "      <td>2017-08-14</td>\n",
       "    </tr>\n",
       "    <tr>\n",
       "      <th>3</th>\n",
       "      <td>5</td>\n",
       "      <td>зависать 1 работа антивирус ранее пользоваться...</td>\n",
       "      <td>2017-08-14</td>\n",
       "    </tr>\n",
       "    <tr>\n",
       "      <th>4</th>\n",
       "      <td>5</td>\n",
       "      <td>удобно работать быстро</td>\n",
       "      <td>2017-08-14</td>\n",
       "    </tr>\n",
       "  </tbody>\n",
       "</table>\n",
       "</div>\n",
       "      <button class=\"colab-df-convert\" onclick=\"convertToInteractive('df-8ceeb1a4-4441-4767-bf55-96a6e50d0ed0')\"\n",
       "              title=\"Convert this dataframe to an interactive table.\"\n",
       "              style=\"display:none;\">\n",
       "        \n",
       "  <svg xmlns=\"http://www.w3.org/2000/svg\" height=\"24px\"viewBox=\"0 0 24 24\"\n",
       "       width=\"24px\">\n",
       "    <path d=\"M0 0h24v24H0V0z\" fill=\"none\"/>\n",
       "    <path d=\"M18.56 5.44l.94 2.06.94-2.06 2.06-.94-2.06-.94-.94-2.06-.94 2.06-2.06.94zm-11 1L8.5 8.5l.94-2.06 2.06-.94-2.06-.94L8.5 2.5l-.94 2.06-2.06.94zm10 10l.94 2.06.94-2.06 2.06-.94-2.06-.94-.94-2.06-.94 2.06-2.06.94z\"/><path d=\"M17.41 7.96l-1.37-1.37c-.4-.4-.92-.59-1.43-.59-.52 0-1.04.2-1.43.59L10.3 9.45l-7.72 7.72c-.78.78-.78 2.05 0 2.83L4 21.41c.39.39.9.59 1.41.59.51 0 1.02-.2 1.41-.59l7.78-7.78 2.81-2.81c.8-.78.8-2.07 0-2.86zM5.41 20L4 18.59l7.72-7.72 1.47 1.35L5.41 20z\"/>\n",
       "  </svg>\n",
       "      </button>\n",
       "      \n",
       "  <style>\n",
       "    .colab-df-container {\n",
       "      display:flex;\n",
       "      flex-wrap:wrap;\n",
       "      gap: 12px;\n",
       "    }\n",
       "\n",
       "    .colab-df-convert {\n",
       "      background-color: #E8F0FE;\n",
       "      border: none;\n",
       "      border-radius: 50%;\n",
       "      cursor: pointer;\n",
       "      display: none;\n",
       "      fill: #1967D2;\n",
       "      height: 32px;\n",
       "      padding: 0 0 0 0;\n",
       "      width: 32px;\n",
       "    }\n",
       "\n",
       "    .colab-df-convert:hover {\n",
       "      background-color: #E2EBFA;\n",
       "      box-shadow: 0px 1px 2px rgba(60, 64, 67, 0.3), 0px 1px 3px 1px rgba(60, 64, 67, 0.15);\n",
       "      fill: #174EA6;\n",
       "    }\n",
       "\n",
       "    [theme=dark] .colab-df-convert {\n",
       "      background-color: #3B4455;\n",
       "      fill: #D2E3FC;\n",
       "    }\n",
       "\n",
       "    [theme=dark] .colab-df-convert:hover {\n",
       "      background-color: #434B5C;\n",
       "      box-shadow: 0px 1px 3px 1px rgba(0, 0, 0, 0.15);\n",
       "      filter: drop-shadow(0px 1px 2px rgba(0, 0, 0, 0.3));\n",
       "      fill: #FFFFFF;\n",
       "    }\n",
       "  </style>\n",
       "\n",
       "      <script>\n",
       "        const buttonEl =\n",
       "          document.querySelector('#df-8ceeb1a4-4441-4767-bf55-96a6e50d0ed0 button.colab-df-convert');\n",
       "        buttonEl.style.display =\n",
       "          google.colab.kernel.accessAllowed ? 'block' : 'none';\n",
       "\n",
       "        async function convertToInteractive(key) {\n",
       "          const element = document.querySelector('#df-8ceeb1a4-4441-4767-bf55-96a6e50d0ed0');\n",
       "          const dataTable =\n",
       "            await google.colab.kernel.invokeFunction('convertToInteractive',\n",
       "                                                     [key], {});\n",
       "          if (!dataTable) return;\n",
       "\n",
       "          const docLinkHtml = 'Like what you see? Visit the ' +\n",
       "            '<a target=\"_blank\" href=https://colab.research.google.com/notebooks/data_table.ipynb>data table notebook</a>'\n",
       "            + ' to learn more about interactive tables.';\n",
       "          element.innerHTML = '';\n",
       "          dataTable['output_type'] = 'display_data';\n",
       "          await google.colab.output.renderOutput(dataTable, element);\n",
       "          const docLink = document.createElement('div');\n",
       "          docLink.innerHTML = docLinkHtml;\n",
       "          element.appendChild(docLink);\n",
       "        }\n",
       "      </script>\n",
       "    </div>\n",
       "  </div>\n",
       "  "
      ],
      "text/plain": [
       "   Rating                                            Content        Date\n",
       "0       5                                      it just works  2017-08-14\n",
       "1       4  целое удобноной приложениеиз минус хотеть боль...  2017-08-14\n",
       "2       5                                            отлично  2017-08-14\n",
       "3       5  зависать 1 работа антивирус ранее пользоваться...  2017-08-14\n",
       "4       5                             удобно работать быстро  2017-08-14"
      ]
     },
     "execution_count": 6,
     "metadata": {},
     "output_type": "execute_result"
    }
   ],
   "source": [
    "sw = set(get_stop_words(\"ru\"))\n",
    "exclude = set(punctuation)\n",
    "morpher = MorphAnalyzer()\n",
    "\n",
    "def preprocess_text(txt):\n",
    "    txt = str(txt)\n",
    "    txt = \"\".join(c for c in txt if c not in exclude)\n",
    "    txt = txt.lower()\n",
    "    txt = re.sub(\"\\sне\", \"не\", txt)\n",
    "    txt = [morpher.parse(word)[0].normal_form for word in txt.split() if word not in sw]\n",
    "    return \" \".join(txt)\n",
    "    \n",
    "df['Content'] = df['Content'].apply(preprocess_text)\n",
    "df.head()"
   ]
  },
  {
   "cell_type": "code",
   "execution_count": 7,
   "metadata": {
    "id": "_uQEBEX06x9g"
   },
   "outputs": [],
   "source": [
    "X_train, X_test, train_y, test_y = train_test_split(df.Content, df.Rating, test_size=0.3, random_state=42)"
   ]
  },
  {
   "cell_type": "code",
   "execution_count": 8,
   "metadata": {
    "id": "UPp0rWoO5e4O"
   },
   "outputs": [],
   "source": [
    "text_corpus_train = X_train.values\n",
    "text_corpus_test = X_test.values\n",
    "\n",
    "tokenizer = Tokenizer(num_words=None, \n",
    "                     filters='#$%&()*+-<=>@[\\\\]^_`{|}~\\t\\n',\n",
    "                     lower = False, split = ' ')\n",
    "tokenizer.fit_on_texts(text_corpus_train)\n",
    "\n",
    "sequences_train = tokenizer.texts_to_sequences(text_corpus_train)\n",
    "sequences_test = tokenizer.texts_to_sequences(text_corpus_test)\n",
    "\n",
    "word_count = len(tokenizer.index_word) + 1\n",
    "training_length = max([len(i.split()) for i in text_corpus_train])\n",
    "\n",
    "x_train = pad_sequences(sequences_train, maxlen=training_length)\n",
    "x_test = pad_sequences(sequences_test, maxlen=training_length)"
   ]
  },
  {
   "cell_type": "code",
   "execution_count": 9,
   "metadata": {
    "colab": {
     "base_uri": "https://localhost:8080/"
    },
    "id": "vheqJiVs7zqw",
    "outputId": "5233d0d0-def4-4618-9e06-bdc1a3d1358f"
   },
   "outputs": [
    {
     "name": "stdout",
     "output_type": "stream",
     "text": [
      "10580 113\n"
     ]
    }
   ],
   "source": [
    "print(word_count, training_length)"
   ]
  },
  {
   "cell_type": "code",
   "execution_count": 10,
   "metadata": {
    "id": "d-hZMP5C81gL"
   },
   "outputs": [],
   "source": [
    "num_classes = len(df.Rating.value_counts()) + 1"
   ]
  },
  {
   "cell_type": "code",
   "execution_count": 11,
   "metadata": {
    "id": "8PQfpzNU9--W"
   },
   "outputs": [],
   "source": [
    "y_train = pd.DataFrame(train_y)\n",
    "y_test = pd.DataFrame(test_y)"
   ]
  },
  {
   "cell_type": "code",
   "execution_count": 12,
   "metadata": {
    "id": "LBKc6RWZ958_"
   },
   "outputs": [],
   "source": [
    "y_train = tf.keras.utils.to_categorical(y_train['Rating'], num_classes)\n",
    "y_test = tf.keras.utils.to_categorical(y_test['Rating'], num_classes)"
   ]
  },
  {
   "cell_type": "markdown",
   "metadata": {
    "id": "OR0K4_oL8c-6"
   },
   "source": [
    "## CNN"
   ]
  },
  {
   "cell_type": "code",
   "execution_count": 16,
   "metadata": {
    "id": "lAFp28AV8UWc"
   },
   "outputs": [],
   "source": [
    "model_cnn = Sequential()\n",
    "model_cnn.add(Embedding(input_dim=word_count, output_dim=300, input_length=training_length))\n",
    "model_cnn.add(Conv1D(128, 5))\n",
    "model_cnn.add(Activation(\"relu\"))\n",
    "model_cnn.add(GlobalMaxPooling1D())\n",
    "model_cnn.add(Dense(100))\n",
    "model_cnn.add(Activation(\"relu\"))\n",
    "model_cnn.add(Dense(num_classes))\n",
    "model_cnn.add(Activation('softmax'))"
   ]
  },
  {
   "cell_type": "code",
   "execution_count": 17,
   "metadata": {
    "colab": {
     "base_uri": "https://localhost:8080/"
    },
    "id": "gV_zYFhJ-krL",
    "outputId": "b995abb2-98db-4cd3-af26-de10d4003add"
   },
   "outputs": [
    {
     "name": "stdout",
     "output_type": "stream",
     "text": [
      "Model: \"sequential_1\"\n",
      "_________________________________________________________________\n",
      " Layer (type)                Output Shape              Param #   \n",
      "=================================================================\n",
      " embedding_1 (Embedding)     (None, 113, 300)          3174000   \n",
      "                                                                 \n",
      " conv1d_1 (Conv1D)           (None, 109, 128)          192128    \n",
      "                                                                 \n",
      " activation_3 (Activation)   (None, 109, 128)          0         \n",
      "                                                                 \n",
      " global_max_pooling1d_1 (Glo  (None, 128)              0         \n",
      " balMaxPooling1D)                                                \n",
      "                                                                 \n",
      " dense_2 (Dense)             (None, 100)               12900     \n",
      "                                                                 \n",
      " activation_4 (Activation)   (None, 100)               0         \n",
      "                                                                 \n",
      " dense_3 (Dense)             (None, 6)                 606       \n",
      "                                                                 \n",
      " activation_5 (Activation)   (None, 6)                 0         \n",
      "                                                                 \n",
      "=================================================================\n",
      "Total params: 3,379,634\n",
      "Trainable params: 3,379,634\n",
      "Non-trainable params: 0\n",
      "_________________________________________________________________\n"
     ]
    }
   ],
   "source": [
    "model_cnn.compile(loss='categorical_crossentropy',\n",
    "              optimizer='adam',\n",
    "              metrics=['accuracy'])\n",
    "model_cnn.summary()"
   ]
  },
  {
   "cell_type": "code",
   "execution_count": 18,
   "metadata": {
    "colab": {
     "base_uri": "https://localhost:8080/"
    },
    "id": "YnFhU75D-qEA",
    "outputId": "9c08a599-4c43-4a0a-b41d-0cb65c3524ee"
   },
   "outputs": [
    {
     "name": "stdout",
     "output_type": "stream",
     "text": [
      "Epoch 1/5\n",
      "26/26 [==============================] - 1s 38ms/step - loss: 1.1370 - accuracy: 0.6828 - val_loss: 0.8955 - val_accuracy: 0.7132\n",
      "Epoch 2/5\n",
      "26/26 [==============================] - 1s 27ms/step - loss: 0.7499 - accuracy: 0.7552 - val_loss: 0.6987 - val_accuracy: 0.7498\n",
      "Epoch 3/5\n",
      "26/26 [==============================] - 1s 28ms/step - loss: 0.6039 - accuracy: 0.7906 - val_loss: 0.6686 - val_accuracy: 0.7664\n",
      "Epoch 4/5\n",
      "26/26 [==============================] - 1s 29ms/step - loss: 0.5186 - accuracy: 0.8183 - val_loss: 0.6699 - val_accuracy: 0.7643\n",
      "Epoch 5/5\n",
      "26/26 [==============================] - 1s 28ms/step - loss: 0.4353 - accuracy: 0.8577 - val_loss: 0.6854 - val_accuracy: 0.7685\n"
     ]
    }
   ],
   "source": [
    "batch_size = 512\n",
    "epochs = 5\n",
    "\n",
    "history = model_cnn.fit(x_train, y_train,\n",
    "                    batch_size=batch_size,\n",
    "                    epochs=epochs,\n",
    "                    verbose=1,\n",
    "                    validation_split=0.1,\n",
    "                    )"
   ]
  },
  {
   "cell_type": "code",
   "execution_count": 19,
   "metadata": {
    "id": "EwwBL95R-6s7"
   },
   "outputs": [],
   "source": [
    "from tensorflow.keras.callbacks import Callback\n",
    "from sklearn.metrics import confusion_matrix, f1_score, precision_score, recall_score, classification_report\n",
    "\n",
    "\n",
    "class Metrics(Callback):\n",
    "\n",
    "    def __init__(self, model):\n",
    "        self.model = model\n",
    "\n",
    "    def on_test_end(self, epoch, logs=None):\n",
    "        val_predict = self.model.predict(x_test).argmax(axis=1)\n",
    "        print('\\n', classification_report(test_y, val_predict))"
   ]
  },
  {
   "cell_type": "code",
   "execution_count": 20,
   "metadata": {
    "colab": {
     "base_uri": "https://localhost:8080/"
    },
    "id": "NzwIwj3M_3Pp",
    "outputId": "0d224d25-0dcb-4f20-f4c0-a8159340ebde"
   },
   "outputs": [
    {
     "name": "stdout",
     "output_type": "stream",
     "text": [
      "194/194 [==============================] - ETA: 0s - loss: 0.6823 - accuracy: 0.7725\n",
      "               precision    recall  f1-score   support\n",
      "\n",
      "           1       0.54      0.69      0.61       697\n",
      "           2       0.00      0.00      0.00       219\n",
      "           3       0.26      0.16      0.20       283\n",
      "           4       0.28      0.15      0.20       607\n",
      "           5       0.87      0.95      0.91      4392\n",
      "\n",
      "    accuracy                           0.77      6198\n",
      "   macro avg       0.39      0.39      0.38      6198\n",
      "weighted avg       0.72      0.77      0.74      6198\n",
      "\n",
      "194/194 [==============================] - 1s 7ms/step - loss: 0.6823 - accuracy: 0.7725\n"
     ]
    },
    {
     "data": {
      "text/plain": [
       "[0.6823274493217468, 0.7725072503089905]"
      ]
     },
     "execution_count": 20,
     "metadata": {},
     "output_type": "execute_result"
    }
   ],
   "source": [
    "model_cnn.evaluate(x_test, y_test, callbacks=[Metrics(model_cnn)])"
   ]
  },
  {
   "cell_type": "markdown",
   "metadata": {
    "id": "wYa5NVzpAeNL"
   },
   "source": [
    "## RNN"
   ]
  },
  {
   "cell_type": "code",
   "execution_count": 47,
   "metadata": {
    "colab": {
     "base_uri": "https://localhost:8080/"
    },
    "id": "227f0ZY5_9rA",
    "outputId": "9fe0281a-540d-40f6-b90a-5f8ac495f4ae"
   },
   "outputs": [
    {
     "name": "stdout",
     "output_type": "stream",
     "text": [
      "Model: \"sequential_10\"\n",
      "_________________________________________________________________\n",
      " Layer (type)                Output Shape              Param #   \n",
      "=================================================================\n",
      " embedding_10 (Embedding)    (None, 113, 300)          3174000   \n",
      "                                                                 \n",
      " masking_8 (Masking)         (None, 113, 300)          0         \n",
      "                                                                 \n",
      " simple_rnn_10 (SimpleRNN)   (None, 128)               54912     \n",
      "                                                                 \n",
      " dense_20 (Dense)            (None, 100)               12900     \n",
      "                                                                 \n",
      " dropout_8 (Dropout)         (None, 100)               0         \n",
      "                                                                 \n",
      " dense_21 (Dense)            (None, 6)                 606       \n",
      "                                                                 \n",
      "=================================================================\n",
      "Total params: 3,242,418\n",
      "Trainable params: 3,242,418\n",
      "Non-trainable params: 0\n",
      "_________________________________________________________________\n"
     ]
    }
   ],
   "source": [
    "model_rnn = Sequential()\n",
    "\n",
    "model_rnn.add(\n",
    "    Embedding(input_dim=word_count,\n",
    "              input_length=training_length,\n",
    "              output_dim=300,\n",
    "              trainable=True,\n",
    "              mask_zero=True))\n",
    "model_rnn.add(Masking(mask_value=0.0))\n",
    "\n",
    "model_rnn.add(SimpleRNN(128, recurrent_dropout=0.2))\n",
    "model_rnn.add(Dense(100, activation='relu'))\n",
    "model_rnn.add(Dropout(0.5))\n",
    "model_rnn.add(Dense(num_classes, activation='softmax'))\n",
    "\n",
    "model_rnn.compile(optimizer='adam',\n",
    "            loss='binary_crossentropy',\n",
    "            metrics=['accuracy'])\n",
    "\n",
    "model_rnn.summary()"
   ]
  },
  {
   "cell_type": "code",
   "execution_count": 48,
   "metadata": {
    "colab": {
     "base_uri": "https://localhost:8080/"
    },
    "id": "aqNmTswABdaE",
    "outputId": "6adb9aa3-a826-4bfd-9e9e-ec7d3dbf7bf7"
   },
   "outputs": [
    {
     "name": "stdout",
     "output_type": "stream",
     "text": [
      "Epoch 1/5\n",
      "26/26 [==============================] - 8s 257ms/step - loss: 0.4063 - accuracy: 0.6038 - val_loss: 0.2694 - val_accuracy: 0.7049\n",
      "Epoch 2/5\n",
      "26/26 [==============================] - 5s 205ms/step - loss: 0.2692 - accuracy: 0.7049 - val_loss: 0.2266 - val_accuracy: 0.7160\n",
      "Epoch 3/5\n",
      "26/26 [==============================] - 5s 204ms/step - loss: 0.2268 - accuracy: 0.7382 - val_loss: 0.2045 - val_accuracy: 0.7471\n",
      "Epoch 4/5\n",
      "26/26 [==============================] - 5s 206ms/step - loss: 0.2038 - accuracy: 0.7621 - val_loss: 0.2004 - val_accuracy: 0.7519\n",
      "Epoch 5/5\n",
      "26/26 [==============================] - 5s 203ms/step - loss: 0.1861 - accuracy: 0.7784 - val_loss: 0.2041 - val_accuracy: 0.7581\n"
     ]
    }
   ],
   "source": [
    "history = model_rnn.fit(x_train, y_train,\n",
    "                    batch_size=batch_size,\n",
    "                    epochs=epochs,\n",
    "                    verbose=1,\n",
    "                    validation_split=0.1,\n",
    "                    )"
   ]
  },
  {
   "cell_type": "code",
   "execution_count": 49,
   "metadata": {
    "colab": {
     "base_uri": "https://localhost:8080/"
    },
    "id": "fJu8DQtXBt8S",
    "outputId": "4e1f31c2-c4ff-4087-96e8-d193c0ec113e"
   },
   "outputs": [
    {
     "name": "stdout",
     "output_type": "stream",
     "text": [
      "193/194 [============================>.] - ETA: 0s - loss: 0.2055 - accuracy: 0.7662\n",
      "               precision    recall  f1-score   support\n",
      "\n",
      "           1       0.45      0.72      0.56       697\n",
      "           2       0.00      0.00      0.00       219\n",
      "           3       0.00      0.00      0.00       283\n",
      "           4       0.29      0.03      0.06       607\n",
      "           5       0.84      0.96      0.90      4392\n",
      "\n",
      "    accuracy                           0.77      6198\n",
      "   macro avg       0.32      0.34      0.30      6198\n",
      "weighted avg       0.67      0.77      0.70      6198\n",
      "\n",
      "194/194 [==============================] - 5s 28ms/step - loss: 0.2055 - accuracy: 0.7659\n"
     ]
    },
    {
     "data": {
      "text/plain": [
       "[0.20546936988830566, 0.7658922076225281]"
      ]
     },
     "execution_count": 49,
     "metadata": {},
     "output_type": "execute_result"
    }
   ],
   "source": [
    "model_rnn.evaluate(x_test, y_test, callbacks=[Metrics(model_rnn)])"
   ]
  },
  {
   "cell_type": "markdown",
   "metadata": {
    "id": "7_D8XbnxFuCL"
   },
   "source": [
    "## LSTM"
   ]
  },
  {
   "cell_type": "code",
   "execution_count": 67,
   "metadata": {
    "colab": {
     "base_uri": "https://localhost:8080/"
    },
    "id": "KKnj_7bPBzLF",
    "outputId": "d57d83cf-6f6b-469d-e7bc-ef67abbd7d1c"
   },
   "outputs": [
    {
     "name": "stderr",
     "output_type": "stream",
     "text": [
      "WARNING:tensorflow:Layer lstm_9 will not use cuDNN kernels since it doesn't meet the criteria. It will use a generic GPU kernel as fallback when running on GPU.\n",
      "WARNING:tensorflow:Layer lstm_10 will not use cuDNN kernels since it doesn't meet the criteria. It will use a generic GPU kernel as fallback when running on GPU.\n"
     ]
    },
    {
     "name": "stdout",
     "output_type": "stream",
     "text": [
      "Model: \"sequential_17\"\n",
      "_________________________________________________________________\n",
      " Layer (type)                Output Shape              Param #   \n",
      "=================================================================\n",
      " embedding_17 (Embedding)    (None, 113, 300)          3174000   \n",
      "                                                                 \n",
      " masking_15 (Masking)        (None, 113, 300)          0         \n",
      "                                                                 \n",
      " lstm_9 (LSTM)               (None, 113, 128)          219648    \n",
      "                                                                 \n",
      " lstm_10 (LSTM)              (None, 64)                49408     \n",
      "                                                                 \n",
      " dense_34 (Dense)            (None, 64)                4160      \n",
      "                                                                 \n",
      " dropout_15 (Dropout)        (None, 64)                0         \n",
      "                                                                 \n",
      " dense_35 (Dense)            (None, 6)                 390       \n",
      "                                                                 \n",
      "=================================================================\n",
      "Total params: 3,447,606\n",
      "Trainable params: 3,447,606\n",
      "Non-trainable params: 0\n",
      "_________________________________________________________________\n"
     ]
    }
   ],
   "source": [
    "model_lstm = Sequential()\n",
    "\n",
    "model_lstm.add(\n",
    "    Embedding(input_dim=word_count,\n",
    "              input_length=training_length,\n",
    "              output_dim=300,\n",
    "              trainable=True,\n",
    "              mask_zero=True))\n",
    "model_lstm.add(Masking(mask_value=0.0))\n",
    "\n",
    "model_lstm.add(LSTM(128, return_sequences=True, recurrent_dropout=0.2))\n",
    "model_lstm.add(LSTM(64, recurrent_dropout=0.2))\n",
    "model_lstm.add(Dense(64, activation='relu'))\n",
    "model_lstm.add(Dropout(0.5))\n",
    "model_lstm.add(Dense(num_classes, activation='softmax'))\n",
    "\n",
    "model_lstm.compile(optimizer='adam',\n",
    "            loss='binary_crossentropy',\n",
    "            metrics=['accuracy'])\n",
    "\n",
    "model_lstm.summary()"
   ]
  },
  {
   "cell_type": "code",
   "execution_count": 68,
   "metadata": {
    "colab": {
     "base_uri": "https://localhost:8080/"
    },
    "id": "Xecxgl7SF5y8",
    "outputId": "5d5e8437-84d2-4eb0-9939-eaa11b67f37e"
   },
   "outputs": [
    {
     "name": "stdout",
     "output_type": "stream",
     "text": [
      "Epoch 1/5\n",
      "26/26 [==============================] - 33s 1s/step - loss: 0.4197 - accuracy: 0.6576 - val_loss: 0.2754 - val_accuracy: 0.7049\n",
      "Epoch 2/5\n",
      "26/26 [==============================] - 28s 1s/step - loss: 0.3055 - accuracy: 0.7000 - val_loss: 0.2592 - val_accuracy: 0.7049\n",
      "Epoch 3/5\n",
      "26/26 [==============================] - 27s 1s/step - loss: 0.2638 - accuracy: 0.7091 - val_loss: 0.2143 - val_accuracy: 0.7374\n",
      "Epoch 4/5\n",
      "26/26 [==============================] - 27s 1s/step - loss: 0.2241 - accuracy: 0.7387 - val_loss: 0.1996 - val_accuracy: 0.7436\n",
      "Epoch 5/5\n",
      "26/26 [==============================] - 26s 1s/step - loss: 0.2015 - accuracy: 0.7547 - val_loss: 0.1966 - val_accuracy: 0.7519\n"
     ]
    }
   ],
   "source": [
    "history = model_lstm.fit(x_train, y_train,\n",
    "                    batch_size=batch_size,\n",
    "                    epochs=epochs,\n",
    "                    verbose=1,\n",
    "                    validation_split=0.1,\n",
    "                    )"
   ]
  },
  {
   "cell_type": "code",
   "execution_count": 69,
   "metadata": {
    "colab": {
     "base_uri": "https://localhost:8080/"
    },
    "id": "tygOhFNeGHXS",
    "outputId": "d84420ae-d989-48dc-bf11-5fb4d0e36322"
   },
   "outputs": [
    {
     "name": "stdout",
     "output_type": "stream",
     "text": [
      "194/194 [==============================] - ETA: 0s - loss: 0.1937 - accuracy: 0.7620\n",
      "               precision    recall  f1-score   support\n",
      "\n",
      "           1       0.42      0.74      0.54       697\n",
      "           2       0.00      0.00      0.00       219\n",
      "           3       0.00      0.00      0.00       283\n",
      "           4       0.00      0.00      0.00       607\n",
      "           5       0.85      0.96      0.90      4392\n",
      "\n",
      "    accuracy                           0.76      6198\n",
      "   macro avg       0.25      0.34      0.29      6198\n",
      "weighted avg       0.65      0.76      0.70      6198\n",
      "\n",
      "194/194 [==============================] - 29s 150ms/step - loss: 0.1937 - accuracy: 0.7620\n"
     ]
    },
    {
     "data": {
      "text/plain": [
       "[0.1936846524477005, 0.7620199918746948]"
      ]
     },
     "execution_count": 69,
     "metadata": {},
     "output_type": "execute_result"
    }
   ],
   "source": [
    "model_lstm.evaluate(x_test, y_test, callbacks=[Metrics(model_lstm)])"
   ]
  },
  {
   "cell_type": "markdown",
   "metadata": {
    "id": "gtXvCtsrQmjd"
   },
   "source": [
    "## GRU"
   ]
  },
  {
   "cell_type": "code",
   "execution_count": 70,
   "metadata": {
    "colab": {
     "base_uri": "https://localhost:8080/"
    },
    "id": "YQRanm9sGa1m",
    "outputId": "91e61931-1a23-47e7-8d71-28eef10bd405"
   },
   "outputs": [
    {
     "name": "stderr",
     "output_type": "stream",
     "text": [
      "WARNING:tensorflow:Layer gru will not use cuDNN kernels since it doesn't meet the criteria. It will use a generic GPU kernel as fallback when running on GPU.\n",
      "WARNING:tensorflow:Layer gru_1 will not use cuDNN kernels since it doesn't meet the criteria. It will use a generic GPU kernel as fallback when running on GPU.\n"
     ]
    },
    {
     "name": "stdout",
     "output_type": "stream",
     "text": [
      "Model: \"sequential_18\"\n",
      "_________________________________________________________________\n",
      " Layer (type)                Output Shape              Param #   \n",
      "=================================================================\n",
      " embedding_18 (Embedding)    (None, 113, 300)          3174000   \n",
      "                                                                 \n",
      " masking_16 (Masking)        (None, 113, 300)          0         \n",
      "                                                                 \n",
      " gru (GRU)                   (None, 113, 128)          165120    \n",
      "                                                                 \n",
      " gru_1 (GRU)                 (None, 64)                37248     \n",
      "                                                                 \n",
      " dense_36 (Dense)            (None, 64)                4160      \n",
      "                                                                 \n",
      " dropout_16 (Dropout)        (None, 64)                0         \n",
      "                                                                 \n",
      " dense_37 (Dense)            (None, 6)                 390       \n",
      "                                                                 \n",
      "=================================================================\n",
      "Total params: 3,380,918\n",
      "Trainable params: 3,380,918\n",
      "Non-trainable params: 0\n",
      "_________________________________________________________________\n"
     ]
    }
   ],
   "source": [
    "model_gru = Sequential()\n",
    "\n",
    "model_gru.add(\n",
    "    Embedding(input_dim=word_count,\n",
    "              input_length=training_length,\n",
    "              output_dim=300,\n",
    "              trainable=True,\n",
    "              mask_zero=True))\n",
    "model_gru.add(Masking(mask_value=0.0))\n",
    "\n",
    "model_gru.add(GRU(128, return_sequences=True, recurrent_dropout=0.2))\n",
    "model_gru.add(GRU(64, recurrent_dropout=0.2))\n",
    "model_gru.add(Dense(64, activation='relu'))\n",
    "model_gru.add(Dropout(0.5))\n",
    "model_gru.add(Dense(num_classes, activation='softmax'))\n",
    "\n",
    "model_gru.compile(optimizer='adam',\n",
    "            loss='binary_crossentropy',\n",
    "            metrics=['accuracy'])\n",
    "\n",
    "model_gru.summary()"
   ]
  },
  {
   "cell_type": "code",
   "execution_count": 71,
   "metadata": {
    "colab": {
     "base_uri": "https://localhost:8080/"
    },
    "id": "vA8PxjfAQ7uU",
    "outputId": "b904f5e7-a5d6-425f-c610-1eda07a2ee91"
   },
   "outputs": [
    {
     "name": "stdout",
     "output_type": "stream",
     "text": [
      "Epoch 1/5\n",
      "26/26 [==============================] - 27s 866ms/step - loss: 0.4167 - accuracy: 0.6234 - val_loss: 0.2439 - val_accuracy: 0.7049\n",
      "Epoch 2/5\n",
      "26/26 [==============================] - 25s 970ms/step - loss: 0.2620 - accuracy: 0.7023 - val_loss: 0.2177 - val_accuracy: 0.7139\n",
      "Epoch 3/5\n",
      "26/26 [==============================] - 24s 916ms/step - loss: 0.2217 - accuracy: 0.7444 - val_loss: 0.2064 - val_accuracy: 0.7360\n",
      "Epoch 4/5\n",
      "26/26 [==============================] - 23s 869ms/step - loss: 0.1930 - accuracy: 0.7789 - val_loss: 0.2014 - val_accuracy: 0.7478\n",
      "Epoch 5/5\n",
      "26/26 [==============================] - 23s 875ms/step - loss: 0.1733 - accuracy: 0.7975 - val_loss: 0.2029 - val_accuracy: 0.7498\n"
     ]
    }
   ],
   "source": [
    "history = model_gru.fit(x_train, y_train,\n",
    "                    batch_size=batch_size,\n",
    "                    epochs=epochs,\n",
    "                    verbose=1,\n",
    "                    validation_split=0.1,\n",
    "                    )"
   ]
  },
  {
   "cell_type": "code",
   "execution_count": 72,
   "metadata": {
    "colab": {
     "base_uri": "https://localhost:8080/"
    },
    "id": "uF2PD1JNREjj",
    "outputId": "8aa6d99e-ec4d-497b-de12-63394d1cf86d"
   },
   "outputs": [
    {
     "name": "stdout",
     "output_type": "stream",
     "text": [
      "194/194 [==============================] - ETA: 0s - loss: 0.2028 - accuracy: 0.7569\n",
      "               precision    recall  f1-score   support\n",
      "\n",
      "           1       0.45      0.66      0.54       697\n",
      "           2       0.00      0.00      0.00       219\n",
      "           3       0.00      0.00      0.00       283\n",
      "           4       0.26      0.14      0.18       607\n",
      "           5       0.85      0.94      0.90      4392\n",
      "\n",
      "    accuracy                           0.76      6198\n",
      "   macro avg       0.31      0.35      0.32      6198\n",
      "weighted avg       0.68      0.76      0.71      6198\n",
      "\n",
      "194/194 [==============================] - 26s 134ms/step - loss: 0.2028 - accuracy: 0.7569\n"
     ]
    },
    {
     "data": {
      "text/plain": [
       "[0.20283880829811096, 0.7568570375442505]"
      ]
     },
     "execution_count": 72,
     "metadata": {},
     "output_type": "execute_result"
    }
   ],
   "source": [
    "model_gru.evaluate(x_test, y_test, callbacks=[Metrics(model_gru)])"
   ]
  },
  {
   "cell_type": "markdown",
   "metadata": {
    "id": "Ezrb3pmcSA2r"
   },
   "source": [
    "## Bi-LSTM"
   ]
  },
  {
   "cell_type": "code",
   "execution_count": 75,
   "metadata": {
    "colab": {
     "base_uri": "https://localhost:8080/"
    },
    "id": "8IbKJ8I3RTwL",
    "outputId": "bdac8614-a069-4f5f-9a04-467c6481fa22"
   },
   "outputs": [
    {
     "name": "stderr",
     "output_type": "stream",
     "text": [
      "WARNING:tensorflow:Layer lstm_11 will not use cuDNN kernels since it doesn't meet the criteria. It will use a generic GPU kernel as fallback when running on GPU.\n",
      "WARNING:tensorflow:Layer lstm_11 will not use cuDNN kernels since it doesn't meet the criteria. It will use a generic GPU kernel as fallback when running on GPU.\n",
      "WARNING:tensorflow:Layer lstm_11 will not use cuDNN kernels since it doesn't meet the criteria. It will use a generic GPU kernel as fallback when running on GPU.\n"
     ]
    },
    {
     "name": "stdout",
     "output_type": "stream",
     "text": [
      "Model: \"sequential_20\"\n",
      "_________________________________________________________________\n",
      " Layer (type)                Output Shape              Param #   \n",
      "=================================================================\n",
      " embedding_20 (Embedding)    (None, 113, 300)          3174000   \n",
      "                                                                 \n",
      " masking_18 (Masking)        (None, 113, 300)          0         \n",
      "                                                                 \n",
      " bidirectional (Bidirectiona  (None, 256)              439296    \n",
      " l)                                                              \n",
      "                                                                 \n",
      " dense_38 (Dense)            (None, 100)               25700     \n",
      "                                                                 \n",
      " dropout_17 (Dropout)        (None, 100)               0         \n",
      "                                                                 \n",
      " dense_39 (Dense)            (None, 6)                 606       \n",
      "                                                                 \n",
      "=================================================================\n",
      "Total params: 3,639,602\n",
      "Trainable params: 3,639,602\n",
      "Non-trainable params: 0\n",
      "_________________________________________________________________\n"
     ]
    }
   ],
   "source": [
    "model_blstm = Sequential()\n",
    "\n",
    "model_blstm.add(\n",
    "    Embedding(input_dim=word_count,\n",
    "              input_length=training_length,\n",
    "              output_dim=300,\n",
    "              trainable=True,\n",
    "              mask_zero=True))\n",
    "model_blstm.add(Masking(mask_value=0.0))\n",
    "\n",
    "# model_lstm.add(LSTM(128, return_sequences=True, recurrent_dropout=0.2))\n",
    "model_blstm.add(Bidirectional(LSTM(128, recurrent_dropout=0.2)))\n",
    "model_blstm.add(Dense(100, activation='relu'))\n",
    "model_blstm.add(Dropout(0.5))\n",
    "model_blstm.add(Dense(num_classes, activation='softmax'))\n",
    "\n",
    "model_blstm.compile(optimizer='adam',\n",
    "            loss='binary_crossentropy',\n",
    "            metrics=['accuracy'])\n",
    "\n",
    "model_blstm.summary()"
   ]
  },
  {
   "cell_type": "code",
   "execution_count": 76,
   "metadata": {
    "colab": {
     "base_uri": "https://localhost:8080/"
    },
    "id": "Uj_XXGg2TBLf",
    "outputId": "cf6afe65-924b-4ea2-848f-5534e2fb5420"
   },
   "outputs": [
    {
     "name": "stdout",
     "output_type": "stream",
     "text": [
      "Epoch 1/5\n",
      "26/26 [==============================] - 37s 1s/step - loss: 0.3765 - accuracy: 0.6543 - val_loss: 0.2372 - val_accuracy: 0.7049\n",
      "Epoch 2/5\n",
      "26/26 [==============================] - 27s 1s/step - loss: 0.2415 - accuracy: 0.7283 - val_loss: 0.2078 - val_accuracy: 0.7374\n",
      "Epoch 3/5\n",
      "26/26 [==============================] - 27s 1s/step - loss: 0.2106 - accuracy: 0.7548 - val_loss: 0.1984 - val_accuracy: 0.7450\n",
      "Epoch 4/5\n",
      "26/26 [==============================] - 26s 1s/step - loss: 0.1907 - accuracy: 0.7747 - val_loss: 0.1957 - val_accuracy: 0.7478\n",
      "Epoch 5/5\n",
      "26/26 [==============================] - 26s 1s/step - loss: 0.1742 - accuracy: 0.7890 - val_loss: 0.1986 - val_accuracy: 0.7554\n"
     ]
    }
   ],
   "source": [
    "history = model_blstm.fit(x_train, y_train,\n",
    "                    batch_size=batch_size,\n",
    "                    epochs=epochs,\n",
    "                    verbose=1,\n",
    "                    validation_split=0.1,\n",
    "                    )"
   ]
  },
  {
   "cell_type": "code",
   "execution_count": 77,
   "metadata": {
    "colab": {
     "base_uri": "https://localhost:8080/"
    },
    "id": "lSCBMeSMTQIE",
    "outputId": "73d81573-fdfa-4046-c0ab-8048abd755a2"
   },
   "outputs": [
    {
     "name": "stdout",
     "output_type": "stream",
     "text": [
      "194/194 [==============================] - ETA: 0s - loss: 0.1967 - accuracy: 0.7627\n",
      "               precision    recall  f1-score   support\n",
      "\n",
      "           1       0.45      0.72      0.55       697\n",
      "           2       0.00      0.00      0.00       219\n",
      "           3       0.00      0.00      0.00       283\n",
      "           4       0.21      0.04      0.07       607\n",
      "           5       0.85      0.96      0.90      4392\n",
      "\n",
      "    accuracy                           0.76      6198\n",
      "   macro avg       0.30      0.34      0.30      6198\n",
      "weighted avg       0.67      0.76      0.71      6198\n",
      "\n",
      "194/194 [==============================] - 27s 140ms/step - loss: 0.1967 - accuracy: 0.7627\n"
     ]
    },
    {
     "data": {
      "text/plain": [
       "[0.19666892290115356, 0.7626653909683228]"
      ]
     },
     "execution_count": 77,
     "metadata": {},
     "output_type": "execute_result"
    }
   ],
   "source": [
    "model_blstm.evaluate(x_test, y_test, callbacks=[Metrics(model_blstm)])"
   ]
  },
  {
   "cell_type": "markdown",
   "metadata": {
    "id": "hw8vgIsAUe48"
   },
   "source": [
    "## CNN + LSTM"
   ]
  },
  {
   "cell_type": "code",
   "execution_count": 90,
   "metadata": {
    "colab": {
     "base_uri": "https://localhost:8080/"
    },
    "id": "-eFkrMeaTaXh",
    "outputId": "37d09295-14f2-441e-fb6e-a6dc59a50239"
   },
   "outputs": [
    {
     "name": "stderr",
     "output_type": "stream",
     "text": [
      "WARNING:tensorflow:Layer lstm_17 will not use cuDNN kernels since it doesn't meet the criteria. It will use a generic GPU kernel as fallback when running on GPU.\n"
     ]
    },
    {
     "name": "stdout",
     "output_type": "stream",
     "text": [
      "Model: \"sequential_25\"\n",
      "_________________________________________________________________\n",
      " Layer (type)                Output Shape              Param #   \n",
      "=================================================================\n",
      " embedding_25 (Embedding)    (None, 113, 300)          3174000   \n",
      "                                                                 \n",
      " conv1d_9 (Conv1D)           (None, 113, 128)          115328    \n",
      "                                                                 \n",
      " max_pooling1d_7 (MaxPooling  (None, 57, 128)          0         \n",
      " 1D)                                                             \n",
      "                                                                 \n",
      " lstm_17 (LSTM)              (None, 128)               131584    \n",
      "                                                                 \n",
      " dense_48 (Dense)            (None, 100)               12900     \n",
      "                                                                 \n",
      " dropout_22 (Dropout)        (None, 100)               0         \n",
      "                                                                 \n",
      " dense_49 (Dense)            (None, 6)                 606       \n",
      "                                                                 \n",
      "=================================================================\n",
      "Total params: 3,434,418\n",
      "Trainable params: 3,434,418\n",
      "Non-trainable params: 0\n",
      "_________________________________________________________________\n"
     ]
    }
   ],
   "source": [
    "model_cnnlstm = Sequential()\n",
    "model_cnnlstm.add(\n",
    "    Embedding(input_dim=word_count,\n",
    "              input_length=training_length,\n",
    "              output_dim=300,\n",
    "              trainable=True,\n",
    "              mask_zero=True))\n",
    "# model_cnnlstm.add(Conv1D(64, 3, padding='same', activation='relu'))\n",
    "# model_cnnlstm.add(MaxPooling1D(2, padding='same'))\n",
    "model_cnnlstm.add(Conv1D(128, 3, padding='same', activation='relu'))\n",
    "model_cnnlstm.add(MaxPooling1D(2, padding='same'))\n",
    "\n",
    "\n",
    "model_cnnlstm.add(LSTM(128, recurrent_dropout = 0.2))\n",
    "# model_cnnlstm.add(LSTM(32))\n",
    "model_cnnlstm.add(Dense(100, activation='relu'))\n",
    "model_cnnlstm.add(Dropout(0.5))\n",
    "model_cnnlstm.add(Dense(num_classes, activation='softmax'))\n",
    "\n",
    "model_cnnlstm.compile(optimizer='adam',\n",
    "            loss='binary_crossentropy',\n",
    "            metrics=['accuracy'])\n",
    "\n",
    "model_cnnlstm.summary()"
   ]
  },
  {
   "cell_type": "code",
   "execution_count": 91,
   "metadata": {
    "colab": {
     "base_uri": "https://localhost:8080/"
    },
    "id": "ORE3NW9vVbl0",
    "outputId": "dfb0b503-1e35-4be5-a556-2860e3cdf896"
   },
   "outputs": [
    {
     "name": "stdout",
     "output_type": "stream",
     "text": [
      "Epoch 1/5\n",
      "26/26 [==============================] - 9s 257ms/step - loss: 0.4085 - accuracy: 0.6532 - val_loss: 0.2429 - val_accuracy: 0.7049\n",
      "Epoch 2/5\n",
      "26/26 [==============================] - 6s 246ms/step - loss: 0.2483 - accuracy: 0.7280 - val_loss: 0.2045 - val_accuracy: 0.7402\n",
      "Epoch 3/5\n",
      "26/26 [==============================] - 6s 248ms/step - loss: 0.2070 - accuracy: 0.7649 - val_loss: 0.1967 - val_accuracy: 0.7457\n",
      "Epoch 4/5\n",
      "26/26 [==============================] - 6s 241ms/step - loss: 0.1866 - accuracy: 0.7807 - val_loss: 0.1981 - val_accuracy: 0.7554\n",
      "Epoch 5/5\n",
      "26/26 [==============================] - 6s 233ms/step - loss: 0.1688 - accuracy: 0.8041 - val_loss: 0.2021 - val_accuracy: 0.7519\n"
     ]
    }
   ],
   "source": [
    "history = model_cnnlstm.fit(x_train, y_train,\n",
    "                    batch_size=batch_size,\n",
    "                    epochs=epochs,\n",
    "                    verbose=1,\n",
    "                    validation_split=0.1,\n",
    "                    )"
   ]
  },
  {
   "cell_type": "code",
   "execution_count": 92,
   "metadata": {
    "colab": {
     "base_uri": "https://localhost:8080/"
    },
    "id": "gJLdoGFLVl3H",
    "outputId": "cc4869c4-7669-4868-8481-e02a7c4092ce"
   },
   "outputs": [
    {
     "name": "stdout",
     "output_type": "stream",
     "text": [
      "194/194 [==============================] - ETA: 0s - loss: 0.2010 - accuracy: 0.7573\n",
      "               precision    recall  f1-score   support\n",
      "\n",
      "           1       0.48      0.67      0.56       697\n",
      "           2       0.00      0.00      0.00       219\n",
      "           3       0.00      0.00      0.00       283\n",
      "           4       0.23      0.19      0.21       607\n",
      "           5       0.87      0.94      0.90      4392\n",
      "\n",
      "    accuracy                           0.76      6198\n",
      "   macro avg       0.32      0.36      0.33      6198\n",
      "weighted avg       0.69      0.76      0.72      6198\n",
      "\n",
      "194/194 [==============================] - 7s 38ms/step - loss: 0.2010 - accuracy: 0.7573\n"
     ]
    },
    {
     "data": {
      "text/plain": [
       "[0.20096702873706818, 0.7573410868644714]"
      ]
     },
     "execution_count": 92,
     "metadata": {},
     "output_type": "execute_result"
    }
   ],
   "source": [
    "model_cnnlstm.evaluate(x_test, y_test, callbacks=[Metrics(model_cnnlstm)])"
   ]
  },
  {
   "cell_type": "markdown",
   "metadata": {
    "id": "1iAXJtFBXCE0"
   },
   "source": [
    "## LSTM+CNN"
   ]
  },
  {
   "cell_type": "code",
   "execution_count": 104,
   "metadata": {
    "colab": {
     "base_uri": "https://localhost:8080/"
    },
    "id": "UwuXz4hWXA7N",
    "outputId": "c296d86e-17eb-4a59-db2c-254a5aaf1c4a"
   },
   "outputs": [
    {
     "name": "stdout",
     "output_type": "stream",
     "text": [
      "Model: \"sequential_29\"\n",
      "_________________________________________________________________\n",
      " Layer (type)                Output Shape              Param #   \n",
      "=================================================================\n",
      " embedding_29 (Embedding)    (None, 113, 300)          3174000   \n",
      "                                                                 \n",
      " lstm_21 (LSTM)              (None, 113, 128)          219648    \n",
      "                                                                 \n",
      " conv1d_13 (Conv1D)          (None, 113, 128)          49280     \n",
      "                                                                 \n",
      " max_pooling1d_9 (MaxPooling  (None, 56, 128)          0         \n",
      " 1D)                                                             \n",
      "                                                                 \n",
      " flatten_2 (Flatten)         (None, 7168)              0         \n",
      "                                                                 \n",
      " dense_56 (Dense)            (None, 100)               716900    \n",
      "                                                                 \n",
      " dropout_26 (Dropout)        (None, 100)               0         \n",
      "                                                                 \n",
      " dense_57 (Dense)            (None, 6)                 606       \n",
      "                                                                 \n",
      "=================================================================\n",
      "Total params: 4,160,434\n",
      "Trainable params: 4,160,434\n",
      "Non-trainable params: 0\n",
      "_________________________________________________________________\n"
     ]
    }
   ],
   "source": [
    "model_lstmcnn = Sequential()\n",
    "\n",
    "model_lstmcnn.add(Embedding(input_dim=word_count, input_length=training_length, output_dim=300))\n",
    "model_lstmcnn.add(LSTM(128, return_sequences=True))\n",
    "model_lstmcnn.add(Conv1D(filters=128, kernel_size=3, activation='relu', padding=\"same\"))\n",
    "model_lstmcnn.add(MaxPooling1D(2))\n",
    "model_lstmcnn.add(Flatten())\n",
    "model_lstmcnn.add(Dense(100, activation='relu'))\n",
    "model_lstmcnn.add(Dropout(0.5))\n",
    "model_lstmcnn.add(Dense(num_classes, activation='softmax'))\n",
    "\n",
    "model_lstmcnn.summary()\n",
    "model_lstmcnn.compile(optimizer='adam', loss='binary_crossentropy', metrics=['accuracy'])"
   ]
  },
  {
   "cell_type": "code",
   "execution_count": 105,
   "metadata": {
    "colab": {
     "base_uri": "https://localhost:8080/"
    },
    "id": "pc5PubZKYkc3",
    "outputId": "e7da701d-1509-488d-e92f-a474b616118d"
   },
   "outputs": [
    {
     "name": "stdout",
     "output_type": "stream",
     "text": [
      "Epoch 1/5\n",
      "26/26 [==============================] - 3s 65ms/step - loss: 0.3607 - accuracy: 0.6572 - val_loss: 0.2551 - val_accuracy: 0.7049\n",
      "Epoch 2/5\n",
      "26/26 [==============================] - 1s 47ms/step - loss: 0.2646 - accuracy: 0.7235 - val_loss: 0.2140 - val_accuracy: 0.7408\n",
      "Epoch 3/5\n",
      "26/26 [==============================] - 1s 47ms/step - loss: 0.2213 - accuracy: 0.7505 - val_loss: 0.1988 - val_accuracy: 0.7512\n",
      "Epoch 4/5\n",
      "26/26 [==============================] - 1s 47ms/step - loss: 0.1955 - accuracy: 0.7759 - val_loss: 0.1939 - val_accuracy: 0.7519\n",
      "Epoch 5/5\n",
      "26/26 [==============================] - 1s 47ms/step - loss: 0.1763 - accuracy: 0.7918 - val_loss: 0.1994 - val_accuracy: 0.7519\n"
     ]
    }
   ],
   "source": [
    "history = model_lstmcnn.fit(x_train, y_train,\n",
    "                    batch_size=batch_size,\n",
    "                    epochs=epochs,\n",
    "                    verbose=1,\n",
    "                    validation_split=0.1,\n",
    "                    )"
   ]
  },
  {
   "cell_type": "code",
   "execution_count": 106,
   "metadata": {
    "colab": {
     "base_uri": "https://localhost:8080/"
    },
    "id": "Dy2x3A30Yrex",
    "outputId": "d9e62f36-0a1c-4163-8f05-59a8fab7cd62"
   },
   "outputs": [
    {
     "name": "stdout",
     "output_type": "stream",
     "text": [
      "185/194 [===========================>..] - ETA: 0s - loss: 0.2010 - accuracy: 0.7606\n",
      "               precision    recall  f1-score   support\n",
      "\n",
      "           1       0.46      0.71      0.55       697\n",
      "           2       0.00      0.00      0.00       219\n",
      "           3       0.00      0.00      0.00       283\n",
      "           4       0.24      0.11      0.15       607\n",
      "           5       0.86      0.95      0.90      4392\n",
      "\n",
      "    accuracy                           0.76      6198\n",
      "   macro avg       0.31      0.35      0.32      6198\n",
      "weighted avg       0.69      0.76      0.72      6198\n",
      "\n",
      "194/194 [==============================] - 2s 11ms/step - loss: 0.1996 - accuracy: 0.7627\n"
     ]
    },
    {
     "data": {
      "text/plain": [
       "[0.19964781403541565, 0.7626653909683228]"
      ]
     },
     "execution_count": 106,
     "metadata": {},
     "output_type": "execute_result"
    }
   ],
   "source": [
    "model_lstmcnn.evaluate(x_test, y_test, callbacks=[Metrics(model_lstmcnn)])"
   ]
  },
  {
   "cell_type": "markdown",
   "metadata": {
    "id": "cp1u94fH6i2U"
   },
   "source": [
    "**Вывод**\n",
    "\n",
    "С нашей задачей лучше всего справляется CNN. Он дает accuracy выше 77% и отчет по классификации у него лучше. Все остальные сетки, в том числе комбинации RNN и CNN дают accuracy около 76% и ниже, при этом часто вообще не предсказывая 3 класса из 5"
   ]
  }
 ],
 "metadata": {
  "accelerator": "GPU",
  "colab": {
   "collapsed_sections": [],
   "name": "HW8.ipynb",
   "provenance": []
  },
  "gpuClass": "standard",
  "kernelspec": {
   "display_name": "Python 3 (ipykernel)",
   "language": "python",
   "name": "python3"
  },
  "language_info": {
   "codemirror_mode": {
    "name": "ipython",
    "version": 3
   },
   "file_extension": ".py",
   "mimetype": "text/x-python",
   "name": "python",
   "nbconvert_exporter": "python",
   "pygments_lexer": "ipython3",
   "version": "3.9.13"
  }
 },
 "nbformat": 4,
 "nbformat_minor": 1
}
