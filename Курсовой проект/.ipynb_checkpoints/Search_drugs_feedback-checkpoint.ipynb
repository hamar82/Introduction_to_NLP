{
 "cells": [
  {
   "cell_type": "markdown",
   "metadata": {
    "id": "-Oi2_W6E0Pa7"
   },
   "source": [
    "# Поисковая система отзывов на лекарства (3-й интент)\n",
    "\n",
    "В этом ноутбуке создадим поисковую систему для поиска нескольких ближайших релевантных отзывов на лекарства по заданному запросу"
   ]
  },
  {
   "cell_type": "code",
   "execution_count": 1,
   "metadata": {
    "colab": {
     "base_uri": "https://localhost:8080/"
    },
    "executionInfo": {
     "elapsed": 13637,
     "status": "ok",
     "timestamp": 1665682100320,
     "user": {
      "displayName": "Илья Галухин",
      "userId": "06694503984096396353"
     },
     "user_tz": -180
    },
    "id": "23J2tASF1EvO",
    "outputId": "d7d06dca-971e-4794-c930-0d44dc67b8d5"
   },
   "outputs": [
    {
     "name": "stdout",
     "output_type": "stream",
     "text": [
      "Looking in indexes: https://pypi.org/simple, https://us-python.pkg.dev/colab-wheels/public/simple/\n",
      "Requirement already satisfied: annoy in /usr/local/lib/python3.7/dist-packages (1.17.1)\n"
     ]
    }
   ],
   "source": [
    "!pip install -q transformers\n",
    "! pip install annoy"
   ]
  },
  {
   "cell_type": "code",
   "execution_count": 2,
   "metadata": {
    "executionInfo": {
     "elapsed": 6015,
     "status": "ok",
     "timestamp": 1665682106322,
     "user": {
      "displayName": "Илья Галухин",
      "userId": "06694503984096396353"
     },
     "user_tz": -180
    },
    "id": "rD5PmkRs1IAk"
   },
   "outputs": [],
   "source": [
    "import annoy\n",
    "import numpy as np\n",
    "import pandas as pd\n",
    "from tqdm import tqdm_notebook\n",
    "import tensorflow as tf\n",
    "from transformers import TFAutoModel, AutoTokenizer\n",
    "import dill"
   ]
  },
  {
   "cell_type": "code",
   "execution_count": 3,
   "metadata": {
    "colab": {
     "base_uri": "https://localhost:8080/"
    },
    "executionInfo": {
     "elapsed": 2649,
     "status": "ok",
     "timestamp": 1665682108953,
     "user": {
      "displayName": "Илья Галухин",
      "userId": "06694503984096396353"
     },
     "user_tz": -180
    },
    "id": "Wem-NztO1kHd",
    "outputId": "8360b089-8a08-45c1-8c51-7bca0bab6a72"
   },
   "outputs": [
    {
     "name": "stdout",
     "output_type": "stream",
     "text": [
      "Drive already mounted at /content/drive/; to attempt to forcibly remount, call drive.mount(\"/content/drive/\", force_remount=True).\n"
     ]
    }
   ],
   "source": [
    "from google.colab import drive\n",
    "drive.mount('/content/drive/')\n",
    "path =  \"/content/drive/My Drive/GeekBrains/NLP/Course Project/\""
   ]
  },
  {
   "cell_type": "markdown",
   "metadata": {
    "id": "iJ1Sy60EhN9L"
   },
   "source": [
    "Загрузим датасет с отзывами:"
   ]
  },
  {
   "cell_type": "code",
   "execution_count": 4,
   "metadata": {
    "colab": {
     "base_uri": "https://localhost:8080/",
     "height": 424
    },
    "executionInfo": {
     "elapsed": 46,
     "status": "ok",
     "timestamp": 1665682108957,
     "user": {
      "displayName": "Илья Галухин",
      "userId": "06694503984096396353"
     },
     "user_tz": -180
    },
    "id": "tqwf9beP1wQN",
    "outputId": "e350d30b-ab4d-4061-8fe1-210943b00cdd"
   },
   "outputs": [
    {
     "data": {
      "text/html": [
       "\n",
       "  <div id=\"df-8cb6798a-e5e6-423e-a614-a96be8ffb2ca\">\n",
       "    <div class=\"colab-df-container\">\n",
       "      <div>\n",
       "<style scoped>\n",
       "    .dataframe tbody tr th:only-of-type {\n",
       "        vertical-align: middle;\n",
       "    }\n",
       "\n",
       "    .dataframe tbody tr th {\n",
       "        vertical-align: top;\n",
       "    }\n",
       "\n",
       "    .dataframe thead th {\n",
       "        text-align: right;\n",
       "    }\n",
       "</style>\n",
       "<table border=\"1\" class=\"dataframe\">\n",
       "  <thead>\n",
       "    <tr style=\"text-align: right;\">\n",
       "      <th></th>\n",
       "      <th>text</th>\n",
       "      <th>class</th>\n",
       "    </tr>\n",
       "  </thead>\n",
       "  <tbody>\n",
       "    <tr>\n",
       "      <th>0</th>\n",
       "      <td>нам прописали, так мой ребенок сыпью покрылся,...</td>\n",
       "      <td>2</td>\n",
       "    </tr>\n",
       "    <tr>\n",
       "      <th>1</th>\n",
       "      <td>Общее впечатление : не подошел</td>\n",
       "      <td>2</td>\n",
       "    </tr>\n",
       "    <tr>\n",
       "      <th>2</th>\n",
       "      <td>Пила этот препарат для повышения иммунитета 5 ...</td>\n",
       "      <td>2</td>\n",
       "    </tr>\n",
       "    <tr>\n",
       "      <th>3</th>\n",
       "      <td>Так как начала работать в аптеке, начала часто...</td>\n",
       "      <td>2</td>\n",
       "    </tr>\n",
       "    <tr>\n",
       "      <th>4</th>\n",
       "      <td>В месяц по нескольку раз причем со всеми вытек...</td>\n",
       "      <td>2</td>\n",
       "    </tr>\n",
       "    <tr>\n",
       "      <th>...</th>\n",
       "      <td>...</td>\n",
       "      <td>...</td>\n",
       "    </tr>\n",
       "    <tr>\n",
       "      <th>4804</th>\n",
       "      <td>Покраснение спадает, неприятные ощущения прохо...</td>\n",
       "      <td>2</td>\n",
       "    </tr>\n",
       "    <tr>\n",
       "      <th>4805</th>\n",
       "      <td>Из своего опыта отметил бы, что средство себя ...</td>\n",
       "      <td>2</td>\n",
       "    </tr>\n",
       "    <tr>\n",
       "      <th>4806</th>\n",
       "      <td>Из своего опыта хотел бы порекомендовать начат...</td>\n",
       "      <td>2</td>\n",
       "    </tr>\n",
       "    <tr>\n",
       "      <th>4807</th>\n",
       "      <td>Тогда оно может спасти от длительной болезни.</td>\n",
       "      <td>2</td>\n",
       "    </tr>\n",
       "    <tr>\n",
       "      <th>4808</th>\n",
       "      <td>Время использования: 1 год</td>\n",
       "      <td>2</td>\n",
       "    </tr>\n",
       "  </tbody>\n",
       "</table>\n",
       "<p>4809 rows × 2 columns</p>\n",
       "</div>\n",
       "      <button class=\"colab-df-convert\" onclick=\"convertToInteractive('df-8cb6798a-e5e6-423e-a614-a96be8ffb2ca')\"\n",
       "              title=\"Convert this dataframe to an interactive table.\"\n",
       "              style=\"display:none;\">\n",
       "        \n",
       "  <svg xmlns=\"http://www.w3.org/2000/svg\" height=\"24px\"viewBox=\"0 0 24 24\"\n",
       "       width=\"24px\">\n",
       "    <path d=\"M0 0h24v24H0V0z\" fill=\"none\"/>\n",
       "    <path d=\"M18.56 5.44l.94 2.06.94-2.06 2.06-.94-2.06-.94-.94-2.06-.94 2.06-2.06.94zm-11 1L8.5 8.5l.94-2.06 2.06-.94-2.06-.94L8.5 2.5l-.94 2.06-2.06.94zm10 10l.94 2.06.94-2.06 2.06-.94-2.06-.94-.94-2.06-.94 2.06-2.06.94z\"/><path d=\"M17.41 7.96l-1.37-1.37c-.4-.4-.92-.59-1.43-.59-.52 0-1.04.2-1.43.59L10.3 9.45l-7.72 7.72c-.78.78-.78 2.05 0 2.83L4 21.41c.39.39.9.59 1.41.59.51 0 1.02-.2 1.41-.59l7.78-7.78 2.81-2.81c.8-.78.8-2.07 0-2.86zM5.41 20L4 18.59l7.72-7.72 1.47 1.35L5.41 20z\"/>\n",
       "  </svg>\n",
       "      </button>\n",
       "      \n",
       "  <style>\n",
       "    .colab-df-container {\n",
       "      display:flex;\n",
       "      flex-wrap:wrap;\n",
       "      gap: 12px;\n",
       "    }\n",
       "\n",
       "    .colab-df-convert {\n",
       "      background-color: #E8F0FE;\n",
       "      border: none;\n",
       "      border-radius: 50%;\n",
       "      cursor: pointer;\n",
       "      display: none;\n",
       "      fill: #1967D2;\n",
       "      height: 32px;\n",
       "      padding: 0 0 0 0;\n",
       "      width: 32px;\n",
       "    }\n",
       "\n",
       "    .colab-df-convert:hover {\n",
       "      background-color: #E2EBFA;\n",
       "      box-shadow: 0px 1px 2px rgba(60, 64, 67, 0.3), 0px 1px 3px 1px rgba(60, 64, 67, 0.15);\n",
       "      fill: #174EA6;\n",
       "    }\n",
       "\n",
       "    [theme=dark] .colab-df-convert {\n",
       "      background-color: #3B4455;\n",
       "      fill: #D2E3FC;\n",
       "    }\n",
       "\n",
       "    [theme=dark] .colab-df-convert:hover {\n",
       "      background-color: #434B5C;\n",
       "      box-shadow: 0px 1px 3px 1px rgba(0, 0, 0, 0.15);\n",
       "      filter: drop-shadow(0px 1px 2px rgba(0, 0, 0, 0.3));\n",
       "      fill: #FFFFFF;\n",
       "    }\n",
       "  </style>\n",
       "\n",
       "      <script>\n",
       "        const buttonEl =\n",
       "          document.querySelector('#df-8cb6798a-e5e6-423e-a614-a96be8ffb2ca button.colab-df-convert');\n",
       "        buttonEl.style.display =\n",
       "          google.colab.kernel.accessAllowed ? 'block' : 'none';\n",
       "\n",
       "        async function convertToInteractive(key) {\n",
       "          const element = document.querySelector('#df-8cb6798a-e5e6-423e-a614-a96be8ffb2ca');\n",
       "          const dataTable =\n",
       "            await google.colab.kernel.invokeFunction('convertToInteractive',\n",
       "                                                     [key], {});\n",
       "          if (!dataTable) return;\n",
       "\n",
       "          const docLinkHtml = 'Like what you see? Visit the ' +\n",
       "            '<a target=\"_blank\" href=https://colab.research.google.com/notebooks/data_table.ipynb>data table notebook</a>'\n",
       "            + ' to learn more about interactive tables.';\n",
       "          element.innerHTML = '';\n",
       "          dataTable['output_type'] = 'display_data';\n",
       "          await google.colab.output.renderOutput(dataTable, element);\n",
       "          const docLink = document.createElement('div');\n",
       "          docLink.innerHTML = docLinkHtml;\n",
       "          element.appendChild(docLink);\n",
       "        }\n",
       "      </script>\n",
       "    </div>\n",
       "  </div>\n",
       "  "
      ],
      "text/plain": [
       "                                                   text  class\n",
       "0     нам прописали, так мой ребенок сыпью покрылся,...      2\n",
       "1                        Общее впечатление : не подошел      2\n",
       "2     Пила этот препарат для повышения иммунитета 5 ...      2\n",
       "3     Так как начала работать в аптеке, начала часто...      2\n",
       "4     В месяц по нескольку раз причем со всеми вытек...      2\n",
       "...                                                 ...    ...\n",
       "4804  Покраснение спадает, неприятные ощущения прохо...      2\n",
       "4805  Из своего опыта отметил бы, что средство себя ...      2\n",
       "4806  Из своего опыта хотел бы порекомендовать начат...      2\n",
       "4807      Тогда оно может спасти от длительной болезни.      2\n",
       "4808                         Время использования: 1 год      2\n",
       "\n",
       "[4809 rows x 2 columns]"
      ]
     },
     "execution_count": 4,
     "metadata": {},
     "output_type": "execute_result"
    }
   ],
   "source": [
    "data = pd.read_csv(path + 'drugs_feedback.csv')\n",
    "data"
   ]
  },
  {
   "cell_type": "markdown",
   "metadata": {
    "id": "kAQI9t4RhVJk"
   },
   "source": [
    "Посмотрим, какие максимальные длины отзывов есть:"
   ]
  },
  {
   "cell_type": "code",
   "execution_count": 5,
   "metadata": {
    "colab": {
     "base_uri": "https://localhost:8080/"
    },
    "executionInfo": {
     "elapsed": 42,
     "status": "ok",
     "timestamp": 1665682108962,
     "user": {
      "displayName": "Илья Галухин",
      "userId": "06694503984096396353"
     },
     "user_tz": -180
    },
    "id": "GG30xIjgaolr",
    "outputId": "2e1eb749-8eaa-49b3-f4ed-5c557a4e154c"
   },
   "outputs": [
    {
     "data": {
      "text/plain": [
       "776     631\n",
       "1980    592\n",
       "4311    573\n",
       "4218    531\n",
       "3935    523\n",
       "4548    500\n",
       "3757    499\n",
       "2615    479\n",
       "3913    430\n",
       "2443    403\n",
       "Name: text, dtype: int64"
      ]
     },
     "execution_count": 5,
     "metadata": {},
     "output_type": "execute_result"
    }
   ],
   "source": [
    "data.text.apply(lambda x: len(str(x))).sort_values(ascending=False)[:10]"
   ]
  },
  {
   "cell_type": "markdown",
   "metadata": {
    "id": "6yqrE3DIhjJ9"
   },
   "source": [
    "Будем использовать максимальную длину токенизированного предложения 512"
   ]
  },
  {
   "cell_type": "code",
   "execution_count": 6,
   "metadata": {
    "executionInfo": {
     "elapsed": 37,
     "status": "ok",
     "timestamp": 1665682108965,
     "user": {
      "displayName": "Илья Галухин",
      "userId": "06694503984096396353"
     },
     "user_tz": -180
    },
    "id": "6L0Tf8AkHXWT"
   },
   "outputs": [],
   "source": [
    "data = data.text.tolist()"
   ]
  },
  {
   "cell_type": "code",
   "execution_count": 7,
   "metadata": {
    "executionInfo": {
     "elapsed": 35,
     "status": "ok",
     "timestamp": 1665682108967,
     "user": {
      "displayName": "Илья Галухин",
      "userId": "06694503984096396353"
     },
     "user_tz": -180
    },
    "id": "Q_oB8K5RadsS"
   },
   "outputs": [],
   "source": [
    "len_data = len(data)"
   ]
  },
  {
   "cell_type": "markdown",
   "metadata": {
    "id": "2c3FNxHuhv2K"
   },
   "source": [
    "Загрузим токенайзер и BERT"
   ]
  },
  {
   "cell_type": "code",
   "execution_count": 8,
   "metadata": {
    "colab": {
     "base_uri": "https://localhost:8080/"
    },
    "executionInfo": {
     "elapsed": 10158,
     "status": "ok",
     "timestamp": 1665682119091,
     "user": {
      "displayName": "Илья Галухин",
      "userId": "06694503984096396353"
     },
     "user_tz": -180
    },
    "id": "Vb17mHQKGouF",
    "outputId": "bcaa80b1-6cd2-47f4-a3e5-1a1a5791d490"
   },
   "outputs": [
    {
     "name": "stderr",
     "output_type": "stream",
     "text": [
      "Some layers from the model checkpoint at Geotrend/bert-base-ru-cased were not used when initializing TFBertModel: ['mlm___cls']\n",
      "- This IS expected if you are initializing TFBertModel from the checkpoint of a model trained on another task or with another architecture (e.g. initializing a BertForSequenceClassification model from a BertForPreTraining model).\n",
      "- This IS NOT expected if you are initializing TFBertModel from the checkpoint of a model that you expect to be exactly identical (initializing a BertForSequenceClassification model from a BertForSequenceClassification model).\n",
      "All the layers of TFBertModel were initialized from the model checkpoint at Geotrend/bert-base-ru-cased.\n",
      "If your task is similar to the task the model of the checkpoint was trained on, you can already use TFBertModel for predictions without further training.\n"
     ]
    }
   ],
   "source": [
    "bert = TFAutoModel.from_pretrained(\"Geotrend/bert-base-ru-cased\")\n",
    "tokenizer = AutoTokenizer.from_pretrained(\"Geotrend/bert-base-ru-cased\")"
   ]
  },
  {
   "cell_type": "markdown",
   "metadata": {
    "id": "8vXHns8mh29L"
   },
   "source": [
    "Токенизируем датасет. 2 набора используется, чтобы не переполнить ОЗУ"
   ]
  },
  {
   "cell_type": "code",
   "execution_count": 9,
   "metadata": {
    "executionInfo": {
     "elapsed": 1360,
     "status": "ok",
     "timestamp": 1665682120411,
     "user": {
      "displayName": "Илья Галухин",
      "userId": "06694503984096396353"
     },
     "user_tz": -180
    },
    "id": "Na-8K7T7HM4p"
   },
   "outputs": [],
   "source": [
    "encodings1 = tokenizer(data[:len_data//2], \n",
    "                      max_length=512, \n",
    "                      truncation=True, \n",
    "                      padding='max_length', \n",
    "                      return_token_type_ids=False, \n",
    "                      return_tensors='tf')\n",
    "encodings2 = tokenizer(data[len_data//2:], \n",
    "                      max_length=512, \n",
    "                      truncation=True, \n",
    "                      padding='max_length', \n",
    "                      return_token_type_ids=False, \n",
    "                      return_tensors='tf')"
   ]
  },
  {
   "cell_type": "markdown",
   "metadata": {
    "id": "NuxfQ4gFinNL"
   },
   "source": [
    "Создадим датасеты:"
   ]
  },
  {
   "cell_type": "code",
   "execution_count": 10,
   "metadata": {
    "executionInfo": {
     "elapsed": 10,
     "status": "ok",
     "timestamp": 1665682120413,
     "user": {
      "displayName": "Илья Галухин",
      "userId": "06694503984096396353"
     },
     "user_tz": -180
    },
    "id": "C6Iq529JIrTH"
   },
   "outputs": [],
   "source": [
    "dataset1 = tf.data.Dataset.from_tensor_slices(dict(encodings1)).batch(4)\n",
    "dataset2 = tf.data.Dataset.from_tensor_slices(dict(encodings2)).batch(4)"
   ]
  },
  {
   "cell_type": "markdown",
   "metadata": {
    "id": "buI0nY22irD4"
   },
   "source": [
    "Получим ембеддинги отзывов:"
   ]
  },
  {
   "cell_type": "code",
   "execution_count": 11,
   "metadata": {
    "colab": {
     "base_uri": "https://localhost:8080/"
    },
    "executionInfo": {
     "elapsed": 258232,
     "status": "ok",
     "timestamp": 1665682381205,
     "user": {
      "displayName": "Илья Галухин",
      "userId": "06694503984096396353"
     },
     "user_tz": -180
    },
    "id": "7o4cgWq5JQAR",
    "outputId": "9380eaeb-b600-48f0-ca11-a2e8542c48a7"
   },
   "outputs": [
    {
     "name": "stdout",
     "output_type": "stream",
     "text": [
      "601/601 [==============================] - 111s 168ms/step\n",
      "602/602 [==============================] - 101s 167ms/step\n"
     ]
    }
   ],
   "source": [
    "out1 = bert.predict(dataset1, batch_size=4).pooler_output\n",
    "out2 = bert.predict(dataset2, batch_size=4).pooler_output"
   ]
  },
  {
   "cell_type": "markdown",
   "metadata": {
    "id": "Bf6bDxJpiz_B"
   },
   "source": [
    "Соединим 2 эмбеддинга:"
   ]
  },
  {
   "cell_type": "code",
   "execution_count": 20,
   "metadata": {
    "executionInfo": {
     "elapsed": 243,
     "status": "ok",
     "timestamp": 1665682942969,
     "user": {
      "displayName": "Илья Галухин",
      "userId": "06694503984096396353"
     },
     "user_tz": -180
    },
    "id": "1JYW_tCOb6uL"
   },
   "outputs": [],
   "source": [
    "out = np.concatenate([out1, out2])"
   ]
  },
  {
   "cell_type": "markdown",
   "metadata": {
    "id": "6P1ZtHeyi7uk"
   },
   "source": [
    "Сохраним полученные эмбеддинги на случай долгого построения индекса:"
   ]
  },
  {
   "cell_type": "code",
   "execution_count": 21,
   "metadata": {
    "executionInfo": {
     "elapsed": 1187,
     "status": "ok",
     "timestamp": 1665683001090,
     "user": {
      "displayName": "Илья Галухин",
      "userId": "06694503984096396353"
     },
     "user_tz": -180
    },
    "id": "Ia-2hRt3c-XE"
   },
   "outputs": [],
   "source": [
    "with open (path + 'vec_drags_feedback.dill', 'wb') as file:\n",
    "    dill.dump(out, file)"
   ]
  },
  {
   "cell_type": "code",
   "execution_count": 22,
   "metadata": {
    "executionInfo": {
     "elapsed": 259,
     "status": "ok",
     "timestamp": 1665683007990,
     "user": {
      "displayName": "Илья Галухин",
      "userId": "06694503984096396353"
     },
     "user_tz": -180
    },
    "id": "W2o_79NKdtCp"
   },
   "outputs": [],
   "source": [
    "with open(path + 'vec_drags_feedback.dill', 'rb') as f:\n",
    "    vectors = dill.load(f)"
   ]
  },
  {
   "cell_type": "markdown",
   "metadata": {
    "id": "a5Djf7ONjPLQ"
   },
   "source": [
    "Получим поисковый индекс:"
   ]
  },
  {
   "cell_type": "code",
   "execution_count": 23,
   "metadata": {
    "executionInfo": {
     "elapsed": 307,
     "status": "ok",
     "timestamp": 1665683014621,
     "user": {
      "displayName": "Илья Галухин",
      "userId": "06694503984096396353"
     },
     "user_tz": -180
    },
    "id": "BOInLSBGOns4"
   },
   "outputs": [],
   "source": [
    "def get_annoy_index(embeddings):\n",
    "    index = annoy.AnnoyIndex(768 ,'angular')\n",
    "    \n",
    "    counter = 0\n",
    "\n",
    "    for vector in tqdm_notebook(embeddings):\n",
    "        index.add_item(counter, vector)\n",
    "        counter += 1\n",
    "        \n",
    "    index.build(15, n_jobs=-1)\n",
    "\n",
    "    return index"
   ]
  },
  {
   "cell_type": "code",
   "execution_count": 24,
   "metadata": {
    "colab": {
     "base_uri": "https://localhost:8080/",
     "height": 101,
     "referenced_widgets": [
      "d3dedd50c0624d20ba5ef78dc298e48b",
      "cfd85680b1b649fb8d1d3d0bfec066ea",
      "95356ca320e947ba82f7a6a930ba38e0",
      "b218ab6d25e146798fc077c1bea2eac2",
      "0b2417f499bd4e89a714d53e0acc2e10",
      "9e588b93f35840cdb6ae9826d00c11b4",
      "4f4156aeb8fe4841ba41ec1a6beada32",
      "4160306bc3d6451fb923a76ed94cc404",
      "bfdb2ec0684c48deb7fc6c6a9f51db9a",
      "e9472d42d98e4e079f9ca9eb0df00dd7",
      "cc96fadb08204958a7626eb7e6dfaf12"
     ]
    },
    "executionInfo": {
     "elapsed": 1360,
     "status": "ok",
     "timestamp": 1665683031625,
     "user": {
      "displayName": "Илья Галухин",
      "userId": "06694503984096396353"
     },
     "user_tz": -180
    },
    "id": "6RYZa_pEOwNB",
    "outputId": "a6ade90b-c592-4381-d0b0-c6c8200e57d3"
   },
   "outputs": [
    {
     "name": "stderr",
     "output_type": "stream",
     "text": [
      "/usr/local/lib/python3.7/dist-packages/ipykernel_launcher.py:6: TqdmDeprecationWarning: This function will be removed in tqdm==5.0.0\n",
      "Please use `tqdm.notebook.tqdm` instead of `tqdm.tqdm_notebook`\n",
      "  \n"
     ]
    },
    {
     "data": {
      "application/vnd.jupyter.widget-view+json": {
       "model_id": "d3dedd50c0624d20ba5ef78dc298e48b",
       "version_major": 2,
       "version_minor": 0
      },
      "text/plain": [
       "  0%|          | 0/4809 [00:00<?, ?it/s]"
      ]
     },
     "metadata": {},
     "output_type": "display_data"
    }
   ],
   "source": [
    "index = get_annoy_index(vectors)"
   ]
  },
  {
   "cell_type": "markdown",
   "metadata": {
    "id": "a8dkVp-pj1qq"
   },
   "source": [
    "Сохраним поисковый индекс для дальнейшего использования:"
   ]
  },
  {
   "cell_type": "code",
   "execution_count": 25,
   "metadata": {
    "colab": {
     "base_uri": "https://localhost:8080/"
    },
    "executionInfo": {
     "elapsed": 239,
     "status": "ok",
     "timestamp": 1665683045777,
     "user": {
      "displayName": "Илья Галухин",
      "userId": "06694503984096396353"
     },
     "user_tz": -180
    },
    "id": "Zv56xGByUT9Q",
    "outputId": "360c5194-ddd1-401e-91e3-4de07faed0be"
   },
   "outputs": [
    {
     "data": {
      "text/plain": [
       "True"
      ]
     },
     "execution_count": 25,
     "metadata": {},
     "output_type": "execute_result"
    }
   ],
   "source": [
    "index.save(path + 'index.ann')"
   ]
  },
  {
   "cell_type": "code",
   "execution_count": 26,
   "metadata": {
    "colab": {
     "base_uri": "https://localhost:8080/"
    },
    "executionInfo": {
     "elapsed": 262,
     "status": "ok",
     "timestamp": 1665683053405,
     "user": {
      "displayName": "Илья Галухин",
      "userId": "06694503984096396353"
     },
     "user_tz": -180
    },
    "id": "F3pMrfSQZf8x",
    "outputId": "34b9a0a4-f105-4cfe-beb5-e49bdc690ec9"
   },
   "outputs": [
    {
     "data": {
      "text/plain": [
       "True"
      ]
     },
     "execution_count": 26,
     "metadata": {},
     "output_type": "execute_result"
    }
   ],
   "source": [
    "index = annoy.AnnoyIndex(768 ,'angular')\n",
    "index.load(path + 'index.ann')"
   ]
  },
  {
   "cell_type": "markdown",
   "metadata": {
    "id": "Ci3pZmeykMyr"
   },
   "source": [
    "Проверим работу поисковой системы:"
   ]
  },
  {
   "cell_type": "code",
   "execution_count": 27,
   "metadata": {
    "executionInfo": {
     "elapsed": 285,
     "status": "ok",
     "timestamp": 1665683074041,
     "user": {
      "displayName": "Илья Галухин",
      "userId": "06694503984096396353"
     },
     "user_tz": -180
    },
    "id": "YBvZa_ipO_Ep"
   },
   "outputs": [],
   "source": [
    "tokens = tokenizer('Арбидол не помогает улучшить иммунитет', \n",
    "                      max_length=512, \n",
    "                      truncation=True, \n",
    "                      padding='max_length', \n",
    "                      return_token_type_ids=False, \n",
    "                      return_tensors='tf')"
   ]
  },
  {
   "cell_type": "code",
   "execution_count": 28,
   "metadata": {
    "executionInfo": {
     "elapsed": 237,
     "status": "ok",
     "timestamp": 1665683081726,
     "user": {
      "displayName": "Илья Галухин",
      "userId": "06694503984096396353"
     },
     "user_tz": -180
    },
    "id": "KyrwSTgJQD6S"
   },
   "outputs": [],
   "source": [
    "vector = bert(**tokens).pooler_output[0]"
   ]
  },
  {
   "cell_type": "code",
   "execution_count": 29,
   "metadata": {
    "colab": {
     "base_uri": "https://localhost:8080/"
    },
    "executionInfo": {
     "elapsed": 552,
     "status": "ok",
     "timestamp": 1665683084309,
     "user": {
      "displayName": "Илья Галухин",
      "userId": "06694503984096396353"
     },
     "user_tz": -180
    },
    "id": "ZnBJZdNrPBH6",
    "outputId": "b45df913-38ad-435c-9ebe-9a2deb11445b"
   },
   "outputs": [
    {
     "data": {
      "text/plain": [
       "[4316, 3598, 2976]"
      ]
     },
     "execution_count": 29,
     "metadata": {},
     "output_type": "execute_result"
    }
   ],
   "source": [
    "answers = index.get_nns_by_vector(vector, 3)\n",
    "answers"
   ]
  },
  {
   "cell_type": "code",
   "execution_count": 30,
   "metadata": {
    "colab": {
     "base_uri": "https://localhost:8080/",
     "height": 35
    },
    "executionInfo": {
     "elapsed": 334,
     "status": "ok",
     "timestamp": 1665683089029,
     "user": {
      "displayName": "Илья Галухин",
      "userId": "06694503984096396353"
     },
     "user_tz": -180
    },
    "id": "VF5YK3cSQtPo",
    "outputId": "dd9aaaa9-6be3-44d0-90a6-f1e206ec422f"
   },
   "outputs": [
    {
     "data": {
      "application/vnd.google.colaboratory.intrinsic+json": {
       "type": "string"
      },
      "text/plain": [
       "'Иммунофлазид один из немногих препаратов, который облегчает протекание ОРВИ.'"
      ]
     },
     "execution_count": 30,
     "metadata": {},
     "output_type": "execute_result"
    }
   ],
   "source": [
    "data[4316]"
   ]
  },
  {
   "cell_type": "code",
   "execution_count": 31,
   "metadata": {
    "colab": {
     "base_uri": "https://localhost:8080/",
     "height": 35
    },
    "executionInfo": {
     "elapsed": 259,
     "status": "ok",
     "timestamp": 1665683111171,
     "user": {
      "displayName": "Илья Галухин",
      "userId": "06694503984096396353"
     },
     "user_tz": -180
    },
    "id": "H2QH_zVfQxE2",
    "outputId": "6ac6475e-3e51-4050-e5b9-fd8858c02115"
   },
   "outputs": [
    {
     "data": {
      "application/vnd.google.colaboratory.intrinsic+json": {
       "type": "string"
      },
      "text/plain": [
       "'Цена у крема невысокая, по сравнению с другими препаратами.'"
      ]
     },
     "execution_count": 31,
     "metadata": {},
     "output_type": "execute_result"
    }
   ],
   "source": [
    "data[3598]"
   ]
  },
  {
   "cell_type": "code",
   "execution_count": 32,
   "metadata": {
    "colab": {
     "base_uri": "https://localhost:8080/",
     "height": 35
    },
    "executionInfo": {
     "elapsed": 259,
     "status": "ok",
     "timestamp": 1665683116456,
     "user": {
      "displayName": "Илья Галухин",
      "userId": "06694503984096396353"
     },
     "user_tz": -180
    },
    "id": "Ogj25R2SQz_A",
    "outputId": "547ad4d5-0d7c-4b2f-ecf6-4107f76427da"
   },
   "outputs": [
    {
     "data": {
      "application/vnd.google.colaboratory.intrinsic+json": {
       "type": "string"
      },
      "text/plain": [
       "'Очень помогает когда бывает повышенный пульс от волнения или от реакции на другие факторы, которые могут вызвать тахикардию.'"
      ]
     },
     "execution_count": 32,
     "metadata": {},
     "output_type": "execute_result"
    }
   ],
   "source": [
    "data[2976]"
   ]
  },
  {
   "cell_type": "code",
   "execution_count": null,
   "metadata": {},
   "outputs": [],
   "source": []
  }
 ],
 "metadata": {
  "accelerator": "GPU",
  "colab": {
   "authorship_tag": "ABX9TyNR5ifXWT+7TIq2B3EG3k2D",
   "collapsed_sections": [],
   "provenance": []
  },
  "kernelspec": {
   "display_name": "Python 3 (ipykernel)",
   "language": "python",
   "name": "python3"
  },
  "language_info": {
   "codemirror_mode": {
    "name": "ipython",
    "version": 3
   },
   "file_extension": ".py",
   "mimetype": "text/x-python",
   "name": "python",
   "nbconvert_exporter": "python",
   "pygments_lexer": "ipython3",
   "version": "3.9.13"
  },
  "widgets": {
   "application/vnd.jupyter.widget-state+json": {
    "0b2417f499bd4e89a714d53e0acc2e10": {
     "model_module": "@jupyter-widgets/base",
     "model_module_version": "1.2.0",
     "model_name": "LayoutModel",
     "state": {
      "_model_module": "@jupyter-widgets/base",
      "_model_module_version": "1.2.0",
      "_model_name": "LayoutModel",
      "_view_count": null,
      "_view_module": "@jupyter-widgets/base",
      "_view_module_version": "1.2.0",
      "_view_name": "LayoutView",
      "align_content": null,
      "align_items": null,
      "align_self": null,
      "border": null,
      "bottom": null,
      "display": null,
      "flex": null,
      "flex_flow": null,
      "grid_area": null,
      "grid_auto_columns": null,
      "grid_auto_flow": null,
      "grid_auto_rows": null,
      "grid_column": null,
      "grid_gap": null,
      "grid_row": null,
      "grid_template_areas": null,
      "grid_template_columns": null,
      "grid_template_rows": null,
      "height": null,
      "justify_content": null,
      "justify_items": null,
      "left": null,
      "margin": null,
      "max_height": null,
      "max_width": null,
      "min_height": null,
      "min_width": null,
      "object_fit": null,
      "object_position": null,
      "order": null,
      "overflow": null,
      "overflow_x": null,
      "overflow_y": null,
      "padding": null,
      "right": null,
      "top": null,
      "visibility": null,
      "width": null
     }
    },
    "4160306bc3d6451fb923a76ed94cc404": {
     "model_module": "@jupyter-widgets/base",
     "model_module_version": "1.2.0",
     "model_name": "LayoutModel",
     "state": {
      "_model_module": "@jupyter-widgets/base",
      "_model_module_version": "1.2.0",
      "_model_name": "LayoutModel",
      "_view_count": null,
      "_view_module": "@jupyter-widgets/base",
      "_view_module_version": "1.2.0",
      "_view_name": "LayoutView",
      "align_content": null,
      "align_items": null,
      "align_self": null,
      "border": null,
      "bottom": null,
      "display": null,
      "flex": null,
      "flex_flow": null,
      "grid_area": null,
      "grid_auto_columns": null,
      "grid_auto_flow": null,
      "grid_auto_rows": null,
      "grid_column": null,
      "grid_gap": null,
      "grid_row": null,
      "grid_template_areas": null,
      "grid_template_columns": null,
      "grid_template_rows": null,
      "height": null,
      "justify_content": null,
      "justify_items": null,
      "left": null,
      "margin": null,
      "max_height": null,
      "max_width": null,
      "min_height": null,
      "min_width": null,
      "object_fit": null,
      "object_position": null,
      "order": null,
      "overflow": null,
      "overflow_x": null,
      "overflow_y": null,
      "padding": null,
      "right": null,
      "top": null,
      "visibility": null,
      "width": null
     }
    },
    "4f4156aeb8fe4841ba41ec1a6beada32": {
     "model_module": "@jupyter-widgets/controls",
     "model_module_version": "1.5.0",
     "model_name": "DescriptionStyleModel",
     "state": {
      "_model_module": "@jupyter-widgets/controls",
      "_model_module_version": "1.5.0",
      "_model_name": "DescriptionStyleModel",
      "_view_count": null,
      "_view_module": "@jupyter-widgets/base",
      "_view_module_version": "1.2.0",
      "_view_name": "StyleView",
      "description_width": ""
     }
    },
    "95356ca320e947ba82f7a6a930ba38e0": {
     "model_module": "@jupyter-widgets/controls",
     "model_module_version": "1.5.0",
     "model_name": "FloatProgressModel",
     "state": {
      "_dom_classes": [],
      "_model_module": "@jupyter-widgets/controls",
      "_model_module_version": "1.5.0",
      "_model_name": "FloatProgressModel",
      "_view_count": null,
      "_view_module": "@jupyter-widgets/controls",
      "_view_module_version": "1.5.0",
      "_view_name": "ProgressView",
      "bar_style": "success",
      "description": "",
      "description_tooltip": null,
      "layout": "IPY_MODEL_4160306bc3d6451fb923a76ed94cc404",
      "max": 4809,
      "min": 0,
      "orientation": "horizontal",
      "style": "IPY_MODEL_bfdb2ec0684c48deb7fc6c6a9f51db9a",
      "value": 4809
     }
    },
    "9e588b93f35840cdb6ae9826d00c11b4": {
     "model_module": "@jupyter-widgets/base",
     "model_module_version": "1.2.0",
     "model_name": "LayoutModel",
     "state": {
      "_model_module": "@jupyter-widgets/base",
      "_model_module_version": "1.2.0",
      "_model_name": "LayoutModel",
      "_view_count": null,
      "_view_module": "@jupyter-widgets/base",
      "_view_module_version": "1.2.0",
      "_view_name": "LayoutView",
      "align_content": null,
      "align_items": null,
      "align_self": null,
      "border": null,
      "bottom": null,
      "display": null,
      "flex": null,
      "flex_flow": null,
      "grid_area": null,
      "grid_auto_columns": null,
      "grid_auto_flow": null,
      "grid_auto_rows": null,
      "grid_column": null,
      "grid_gap": null,
      "grid_row": null,
      "grid_template_areas": null,
      "grid_template_columns": null,
      "grid_template_rows": null,
      "height": null,
      "justify_content": null,
      "justify_items": null,
      "left": null,
      "margin": null,
      "max_height": null,
      "max_width": null,
      "min_height": null,
      "min_width": null,
      "object_fit": null,
      "object_position": null,
      "order": null,
      "overflow": null,
      "overflow_x": null,
      "overflow_y": null,
      "padding": null,
      "right": null,
      "top": null,
      "visibility": null,
      "width": null
     }
    },
    "b218ab6d25e146798fc077c1bea2eac2": {
     "model_module": "@jupyter-widgets/controls",
     "model_module_version": "1.5.0",
     "model_name": "HTMLModel",
     "state": {
      "_dom_classes": [],
      "_model_module": "@jupyter-widgets/controls",
      "_model_module_version": "1.5.0",
      "_model_name": "HTMLModel",
      "_view_count": null,
      "_view_module": "@jupyter-widgets/controls",
      "_view_module_version": "1.5.0",
      "_view_name": "HTMLView",
      "description": "",
      "description_tooltip": null,
      "layout": "IPY_MODEL_e9472d42d98e4e079f9ca9eb0df00dd7",
      "placeholder": "​",
      "style": "IPY_MODEL_cc96fadb08204958a7626eb7e6dfaf12",
      "value": " 4809/4809 [00:00&lt;00:00, 5593.27it/s]"
     }
    },
    "bfdb2ec0684c48deb7fc6c6a9f51db9a": {
     "model_module": "@jupyter-widgets/controls",
     "model_module_version": "1.5.0",
     "model_name": "ProgressStyleModel",
     "state": {
      "_model_module": "@jupyter-widgets/controls",
      "_model_module_version": "1.5.0",
      "_model_name": "ProgressStyleModel",
      "_view_count": null,
      "_view_module": "@jupyter-widgets/base",
      "_view_module_version": "1.2.0",
      "_view_name": "StyleView",
      "bar_color": null,
      "description_width": ""
     }
    },
    "cc96fadb08204958a7626eb7e6dfaf12": {
     "model_module": "@jupyter-widgets/controls",
     "model_module_version": "1.5.0",
     "model_name": "DescriptionStyleModel",
     "state": {
      "_model_module": "@jupyter-widgets/controls",
      "_model_module_version": "1.5.0",
      "_model_name": "DescriptionStyleModel",
      "_view_count": null,
      "_view_module": "@jupyter-widgets/base",
      "_view_module_version": "1.2.0",
      "_view_name": "StyleView",
      "description_width": ""
     }
    },
    "cfd85680b1b649fb8d1d3d0bfec066ea": {
     "model_module": "@jupyter-widgets/controls",
     "model_module_version": "1.5.0",
     "model_name": "HTMLModel",
     "state": {
      "_dom_classes": [],
      "_model_module": "@jupyter-widgets/controls",
      "_model_module_version": "1.5.0",
      "_model_name": "HTMLModel",
      "_view_count": null,
      "_view_module": "@jupyter-widgets/controls",
      "_view_module_version": "1.5.0",
      "_view_name": "HTMLView",
      "description": "",
      "description_tooltip": null,
      "layout": "IPY_MODEL_9e588b93f35840cdb6ae9826d00c11b4",
      "placeholder": "​",
      "style": "IPY_MODEL_4f4156aeb8fe4841ba41ec1a6beada32",
      "value": "100%"
     }
    },
    "d3dedd50c0624d20ba5ef78dc298e48b": {
     "model_module": "@jupyter-widgets/controls",
     "model_module_version": "1.5.0",
     "model_name": "HBoxModel",
     "state": {
      "_dom_classes": [],
      "_model_module": "@jupyter-widgets/controls",
      "_model_module_version": "1.5.0",
      "_model_name": "HBoxModel",
      "_view_count": null,
      "_view_module": "@jupyter-widgets/controls",
      "_view_module_version": "1.5.0",
      "_view_name": "HBoxView",
      "box_style": "",
      "children": [
       "IPY_MODEL_cfd85680b1b649fb8d1d3d0bfec066ea",
       "IPY_MODEL_95356ca320e947ba82f7a6a930ba38e0",
       "IPY_MODEL_b218ab6d25e146798fc077c1bea2eac2"
      ],
      "layout": "IPY_MODEL_0b2417f499bd4e89a714d53e0acc2e10"
     }
    },
    "e9472d42d98e4e079f9ca9eb0df00dd7": {
     "model_module": "@jupyter-widgets/base",
     "model_module_version": "1.2.0",
     "model_name": "LayoutModel",
     "state": {
      "_model_module": "@jupyter-widgets/base",
      "_model_module_version": "1.2.0",
      "_model_name": "LayoutModel",
      "_view_count": null,
      "_view_module": "@jupyter-widgets/base",
      "_view_module_version": "1.2.0",
      "_view_name": "LayoutView",
      "align_content": null,
      "align_items": null,
      "align_self": null,
      "border": null,
      "bottom": null,
      "display": null,
      "flex": null,
      "flex_flow": null,
      "grid_area": null,
      "grid_auto_columns": null,
      "grid_auto_flow": null,
      "grid_auto_rows": null,
      "grid_column": null,
      "grid_gap": null,
      "grid_row": null,
      "grid_template_areas": null,
      "grid_template_columns": null,
      "grid_template_rows": null,
      "height": null,
      "justify_content": null,
      "justify_items": null,
      "left": null,
      "margin": null,
      "max_height": null,
      "max_width": null,
      "min_height": null,
      "min_width": null,
      "object_fit": null,
      "object_position": null,
      "order": null,
      "overflow": null,
      "overflow_x": null,
      "overflow_y": null,
      "padding": null,
      "right": null,
      "top": null,
      "visibility": null,
      "width": null
     }
    }
   }
  }
 },
 "nbformat": 4,
 "nbformat_minor": 1
}
